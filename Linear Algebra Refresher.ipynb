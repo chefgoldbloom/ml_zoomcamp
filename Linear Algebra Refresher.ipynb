{
 "cells": [
  {
   "cell_type": "markdown",
   "id": "01c26f51-d525-42fc-a45f-d29e59aac151",
   "metadata": {},
   "source": [
    "# Linear Algebra Refresher"
   ]
  },
  {
   "cell_type": "code",
   "execution_count": 2,
   "id": "4f36d1ee-d555-48f4-b898-052777ed010b",
   "metadata": {},
   "outputs": [],
   "source": [
    "import numpy as np"
   ]
  },
  {
   "cell_type": "code",
   "execution_count": 3,
   "id": "35e9c2a4-f49d-49ae-a0da-22c33884d793",
   "metadata": {},
   "outputs": [
    {
     "data": {
      "text/plain": [
       "array([2, 4, 5, 6])"
      ]
     },
     "execution_count": 3,
     "metadata": {},
     "output_type": "execute_result"
    }
   ],
   "source": [
    "u = np.array([2,4,5,6])\n",
    "u"
   ]
  },
  {
   "cell_type": "code",
   "execution_count": 4,
   "id": "27da8e1b-5850-4cea-8fed-f8cdcc127134",
   "metadata": {},
   "outputs": [
    {
     "data": {
      "text/plain": [
       "array([1, 0, 0, 2])"
      ]
     },
     "execution_count": 4,
     "metadata": {},
     "output_type": "execute_result"
    }
   ],
   "source": [
    "v = np.array([1,0,0,2])\n",
    "v"
   ]
  },
  {
   "cell_type": "markdown",
   "id": "d57d63fa-379e-442b-bafb-0fc613c4e486",
   "metadata": {},
   "source": [
    "# Vector-Vector Multiplication"
   ]
  },
  {
   "cell_type": "code",
   "execution_count": 5,
   "id": "5bbba577-530a-4452-b3ef-d3012a79e156",
   "metadata": {},
   "outputs": [],
   "source": [
    "def vector_vector_mult(u,v):\n",
    "    assert u.shape[0] == v.shape[0]\n",
    "\n",
    "    n = u.shape[0]\n",
    "\n",
    "    result = 0.0\n",
    "    for i in range(n):\n",
    "        result = result + u[i] * v[i]\n",
    "\n",
    "    return result"
   ]
  },
  {
   "cell_type": "code",
   "execution_count": 6,
   "id": "bb2973a9-e18f-42cc-b795-6c4c12dc22b8",
   "metadata": {},
   "outputs": [
    {
     "data": {
      "text/plain": [
       "np.float64(14.0)"
      ]
     },
     "execution_count": 6,
     "metadata": {},
     "output_type": "execute_result"
    }
   ],
   "source": [
    "vector_vector_mult(u,v)"
   ]
  },
  {
   "cell_type": "code",
   "execution_count": 7,
   "id": "39f4e8b9-b2b6-4ef8-b6de-585ba867edbc",
   "metadata": {},
   "outputs": [
    {
     "data": {
      "text/plain": [
       "np.int64(14)"
      ]
     },
     "execution_count": 7,
     "metadata": {},
     "output_type": "execute_result"
    }
   ],
   "source": [
    "u.dot(v)"
   ]
  },
  {
   "cell_type": "markdown",
   "id": "67bb58a8-a07f-4241-82a9-cef7959e06eb",
   "metadata": {},
   "source": [
    "# Matrix-Vector multiplication"
   ]
  },
  {
   "cell_type": "code",
   "execution_count": 8,
   "id": "0ec38415-3fb1-48c0-a44d-2180fcd12249",
   "metadata": {},
   "outputs": [
    {
     "data": {
      "text/plain": [
       "4"
      ]
     },
     "execution_count": 8,
     "metadata": {},
     "output_type": "execute_result"
    }
   ],
   "source": [
    "U = np.array([[2,4,5,6],[1,2,1,2],[3,1,2,1]])\n",
    "U.shape[1]\n"
   ]
  },
  {
   "cell_type": "code",
   "execution_count": 9,
   "id": "fc30bdee-9f3e-45d3-9ea0-589810d7fc74",
   "metadata": {},
   "outputs": [
    {
     "data": {
      "text/plain": [
       "4"
      ]
     },
     "execution_count": 9,
     "metadata": {},
     "output_type": "execute_result"
    }
   ],
   "source": [
    "v = np.array([1,.5,2,1])\n",
    "v.shape[0]"
   ]
  },
  {
   "cell_type": "code",
   "execution_count": 10,
   "id": "85c32e15-6748-42d4-8af1-2b1d6f982544",
   "metadata": {},
   "outputs": [
    {
     "data": {
      "text/plain": [
       "array([20. ,  6. ,  8.5])"
      ]
     },
     "execution_count": 10,
     "metadata": {},
     "output_type": "execute_result"
    }
   ],
   "source": [
    "U.dot(v)"
   ]
  },
  {
   "cell_type": "code",
   "execution_count": 11,
   "id": "23f0b495-fc8c-4806-8bd8-643455ce4eec",
   "metadata": {},
   "outputs": [],
   "source": [
    "def matrix_vector_mult(U,v):\n",
    "    assert U.shape[1] == v.shape[0]\n",
    "\n",
    "    result = []\n",
    "    row = 0\n",
    "    for i in range(U.shape[0]):\n",
    "        for j in range(U.shape[1]):\n",
    "            row = row + U[i,j]*v[j]\n",
    "        result.append(row)\n",
    "    return result"
   ]
  },
  {
   "cell_type": "code",
   "execution_count": 12,
   "id": "6b249c08-eade-4804-b4ce-c3f0013941c5",
   "metadata": {},
   "outputs": [
    {
     "data": {
      "text/plain": [
       "[np.float64(20.0), np.float64(26.0), np.float64(34.5)]"
      ]
     },
     "execution_count": 12,
     "metadata": {},
     "output_type": "execute_result"
    }
   ],
   "source": [
    "matrix_vector_mult(U,v)"
   ]
  },
  {
   "cell_type": "code",
   "execution_count": null,
   "id": "1160d47e-9bcd-4ec5-ae53-c03af4102334",
   "metadata": {},
   "outputs": [],
   "source": []
  }
 ],
 "metadata": {
  "kernelspec": {
   "display_name": "Python 3 (ipykernel)",
   "language": "python",
   "name": "python3"
  },
  "language_info": {
   "codemirror_mode": {
    "name": "ipython",
    "version": 3
   },
   "file_extension": ".py",
   "mimetype": "text/x-python",
   "name": "python",
   "nbconvert_exporter": "python",
   "pygments_lexer": "ipython3",
   "version": "3.12.1"
  }
 },
 "nbformat": 4,
 "nbformat_minor": 5
}
