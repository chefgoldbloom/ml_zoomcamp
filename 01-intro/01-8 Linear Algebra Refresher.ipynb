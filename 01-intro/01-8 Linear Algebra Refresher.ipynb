{
 "cells": [
  {
   "cell_type": "markdown",
   "id": "01c26f51-d525-42fc-a45f-d29e59aac151",
   "metadata": {},
   "source": [
    "# Linear Algebra Refresher"
   ]
  },
  {
   "cell_type": "code",
   "execution_count": 1,
   "id": "4f36d1ee-d555-48f4-b898-052777ed010b",
   "metadata": {},
   "outputs": [],
   "source": [
    "import numpy as np"
   ]
  },
  {
   "cell_type": "code",
   "execution_count": 2,
   "id": "35e9c2a4-f49d-49ae-a0da-22c33884d793",
   "metadata": {},
   "outputs": [
    {
     "data": {
      "text/plain": [
       "array([2, 4, 5, 6])"
      ]
     },
     "execution_count": 2,
     "metadata": {},
     "output_type": "execute_result"
    }
   ],
   "source": [
    "u = np.array([2,4,5,6])\n",
    "u"
   ]
  },
  {
   "cell_type": "code",
   "execution_count": 3,
   "id": "27da8e1b-5850-4cea-8fed-f8cdcc127134",
   "metadata": {},
   "outputs": [
    {
     "data": {
      "text/plain": [
       "array([1, 0, 0, 2])"
      ]
     },
     "execution_count": 3,
     "metadata": {},
     "output_type": "execute_result"
    }
   ],
   "source": [
    "v = np.array([1,0,0,2])\n",
    "v"
   ]
  },
  {
   "cell_type": "markdown",
   "id": "d57d63fa-379e-442b-bafb-0fc613c4e486",
   "metadata": {},
   "source": [
    "# Vector-Vector Multiplication"
   ]
  },
  {
   "cell_type": "code",
   "execution_count": 4,
   "id": "5bbba577-530a-4452-b3ef-d3012a79e156",
   "metadata": {},
   "outputs": [],
   "source": [
    "def vector_vector_mult(u,v):\n",
    "    assert u.shape[0] == v.shape[0]\n",
    "\n",
    "    n = u.shape[0]\n",
    "\n",
    "    result = 0.0\n",
    "    for i in range(n):\n",
    "        result = result + u[i] * v[i]\n",
    "\n",
    "    return result"
   ]
  },
  {
   "cell_type": "code",
   "execution_count": 5,
   "id": "bb2973a9-e18f-42cc-b795-6c4c12dc22b8",
   "metadata": {},
   "outputs": [
    {
     "data": {
      "text/plain": [
       "np.float64(14.0)"
      ]
     },
     "execution_count": 5,
     "metadata": {},
     "output_type": "execute_result"
    }
   ],
   "source": [
    "vector_vector_mult(u,v)"
   ]
  },
  {
   "cell_type": "code",
   "execution_count": 6,
   "id": "39f4e8b9-b2b6-4ef8-b6de-585ba867edbc",
   "metadata": {},
   "outputs": [
    {
     "data": {
      "text/plain": [
       "np.int64(14)"
      ]
     },
     "execution_count": 6,
     "metadata": {},
     "output_type": "execute_result"
    }
   ],
   "source": [
    "u.dot(v)"
   ]
  },
  {
   "cell_type": "markdown",
   "id": "67bb58a8-a07f-4241-82a9-cef7959e06eb",
   "metadata": {},
   "source": [
    "# Matrix-Vector multiplication"
   ]
  },
  {
   "cell_type": "code",
   "execution_count": 7,
   "id": "0ec38415-3fb1-48c0-a44d-2180fcd12249",
   "metadata": {},
   "outputs": [
    {
     "data": {
      "text/plain": [
       "array([[2, 4, 5, 6],\n",
       "       [1, 2, 1, 2],\n",
       "       [3, 1, 2, 1]])"
      ]
     },
     "execution_count": 7,
     "metadata": {},
     "output_type": "execute_result"
    }
   ],
   "source": [
    "U = np.array([[2,4,5,6],[1,2,1,2],[3,1,2,1]])\n",
    "U\n"
   ]
  },
  {
   "cell_type": "code",
   "execution_count": 8,
   "id": "fc30bdee-9f3e-45d3-9ea0-589810d7fc74",
   "metadata": {},
   "outputs": [
    {
     "data": {
      "text/plain": [
       "4"
      ]
     },
     "execution_count": 8,
     "metadata": {},
     "output_type": "execute_result"
    }
   ],
   "source": [
    "v = np.array([1,.5,2,1])\n",
    "v.shape[0]"
   ]
  },
  {
   "cell_type": "code",
   "execution_count": 9,
   "id": "85c32e15-6748-42d4-8af1-2b1d6f982544",
   "metadata": {},
   "outputs": [
    {
     "data": {
      "text/plain": [
       "array([20. ,  6. ,  8.5])"
      ]
     },
     "execution_count": 9,
     "metadata": {},
     "output_type": "execute_result"
    }
   ],
   "source": [
    "U.dot(v)"
   ]
  },
  {
   "cell_type": "code",
   "execution_count": 10,
   "id": "23f0b495-fc8c-4806-8bd8-643455ce4eec",
   "metadata": {},
   "outputs": [],
   "source": [
    "def matrix_vector_mult(U,v):\n",
    "    assert U.shape[1] == v.shape[0]\n",
    "\n",
    "    result = []\n",
    "    for i in range(U.shape[0]):\n",
    "        result.append(vector_vector_mult(U[i],v))\n",
    "    return result"
   ]
  },
  {
   "cell_type": "code",
   "execution_count": 11,
   "id": "6b249c08-eade-4804-b4ce-c3f0013941c5",
   "metadata": {},
   "outputs": [
    {
     "data": {
      "text/plain": [
       "[np.float64(20.0), np.float64(6.0), np.float64(8.5)]"
      ]
     },
     "execution_count": 11,
     "metadata": {},
     "output_type": "execute_result"
    }
   ],
   "source": [
    "matrix_vector_mult(U,v)"
   ]
  },
  {
   "cell_type": "markdown",
   "id": "c885fe6e-14dc-467e-b696-1bec10bc89fc",
   "metadata": {},
   "source": [
    "# Matrix-Matrix Multiplication"
   ]
  },
  {
   "cell_type": "code",
   "execution_count": 12,
   "id": "9c5459b5-fdf8-40a5-ac44-b67ad8b8b3c6",
   "metadata": {},
   "outputs": [
    {
     "data": {
      "text/plain": [
       "array([[9, 8, 7],\n",
       "       [6, 5, 4],\n",
       "       [3, 2, 1],\n",
       "       [1, 1, 1]])"
      ]
     },
     "execution_count": 12,
     "metadata": {},
     "output_type": "execute_result"
    }
   ],
   "source": [
    "V = np.array([[9,8,7],[6,5,4],[3,2,1],[1,1,1]])\n",
    "V"
   ]
  },
  {
   "cell_type": "code",
   "execution_count": 13,
   "id": "20cc49ee-24db-4af4-a58a-e546b171f346",
   "metadata": {},
   "outputs": [
    {
     "data": {
      "text/plain": [
       "array([[2, 4, 5, 6],\n",
       "       [1, 2, 1, 2],\n",
       "       [3, 1, 2, 1]])"
      ]
     },
     "execution_count": 13,
     "metadata": {},
     "output_type": "execute_result"
    }
   ],
   "source": [
    "U"
   ]
  },
  {
   "cell_type": "code",
   "execution_count": 14,
   "id": "d7d29f99-b176-4ce5-bee4-cbfd1972c4d6",
   "metadata": {},
   "outputs": [
    {
     "data": {
      "text/plain": [
       "array([[63, 52, 41],\n",
       "       [26, 22, 18],\n",
       "       [40, 34, 28]])"
      ]
     },
     "execution_count": 14,
     "metadata": {},
     "output_type": "execute_result"
    }
   ],
   "source": [
    "U.dot(V)"
   ]
  },
  {
   "cell_type": "code",
   "execution_count": 15,
   "id": "75e26d23-4c1f-4156-b3da-be2c8645d557",
   "metadata": {},
   "outputs": [],
   "source": [
    "def matrix_matrix_mult(U,V):\n",
    "    assert U.shape[1] == V.shape[0]\n",
    "\n",
    "    num_rows    = U.shape[0]\n",
    "    num_columns = V.shape[1] \n",
    "\n",
    "    result = np.zeros([num_rows,num_columns])\n",
    "    for i in range(num_columns):\n",
    "        vi = V[:,i]\n",
    "        Uvi = matrix_vector_mult(U,vi)\n",
    "        result[:, i] = Uvi\n",
    "\n",
    "    return result    "
   ]
  },
  {
   "cell_type": "code",
   "execution_count": 16,
   "id": "c69a9461-5eaf-4948-b9b6-296638806711",
   "metadata": {},
   "outputs": [
    {
     "data": {
      "text/plain": [
       "array([[63., 52., 41.],\n",
       "       [26., 22., 18.],\n",
       "       [40., 34., 28.]])"
      ]
     },
     "execution_count": 16,
     "metadata": {},
     "output_type": "execute_result"
    }
   ],
   "source": [
    "matrix_matrix_mult(U,V)"
   ]
  },
  {
   "cell_type": "markdown",
   "id": "0462f8dc-c6db-49f1-b954-b70a2879a6c4",
   "metadata": {},
   "source": [
    "# Identity Matrix"
   ]
  },
  {
   "cell_type": "code",
   "execution_count": 17,
   "id": "b837dbab-a528-4eae-8703-ec08e6847bcc",
   "metadata": {},
   "outputs": [
    {
     "data": {
      "text/plain": [
       "array([[1., 0., 0.],\n",
       "       [0., 1., 0.],\n",
       "       [0., 0., 1.]])"
      ]
     },
     "execution_count": 17,
     "metadata": {},
     "output_type": "execute_result"
    }
   ],
   "source": [
    "I = np.eye(3)\n",
    "I"
   ]
  },
  {
   "cell_type": "markdown",
   "id": "d1e15cd7-645d-44f0-ba6f-a212763e3ef3",
   "metadata": {},
   "source": [
    "# Inverse"
   ]
  },
  {
   "cell_type": "code",
   "execution_count": 18,
   "id": "51892ba7-f65e-41a0-a0be-3cc227cb42a3",
   "metadata": {},
   "outputs": [
    {
     "data": {
      "text/plain": [
       "array([[1, 2],\n",
       "       [3, 4]])"
      ]
     },
     "execution_count": 18,
     "metadata": {},
     "output_type": "execute_result"
    }
   ],
   "source": [
    "V = np.array([[1,2],[3,4]])\n",
    "V"
   ]
  },
  {
   "cell_type": "code",
   "execution_count": 19,
   "id": "12183ad1-eb7e-4436-ad7f-4109d3e7acd2",
   "metadata": {},
   "outputs": [
    {
     "data": {
      "text/plain": [
       "array([[-2. ,  1. ],\n",
       "       [ 1.5, -0.5]])"
      ]
     },
     "execution_count": 19,
     "metadata": {},
     "output_type": "execute_result"
    }
   ],
   "source": [
    "inv = np.linalg.inv(V)\n",
    "inv"
   ]
  },
  {
   "cell_type": "code",
   "execution_count": 26,
   "id": "413ac76f-db45-4466-8d3f-6e73ad538999",
   "metadata": {},
   "outputs": [
    {
     "data": {
      "text/plain": [
       "array([[1.00000000e+00, 0.00000000e+00],\n",
       "       [1.11022302e-16, 1.00000000e+00]])"
      ]
     },
     "execution_count": 26,
     "metadata": {},
     "output_type": "execute_result"
    }
   ],
   "source": [
    "inv.dot(V)"
   ]
  },
  {
   "cell_type": "markdown",
   "id": "d7e016d4-f36a-48da-94be-0c3dedd172c5",
   "metadata": {},
   "source": [
    "## To find the determinant, we cross multiply and subtract"
   ]
  },
  {
   "cell_type": "code",
   "execution_count": 21,
   "id": "b51b1535-6e50-47d4-80cc-1fc4ca803985",
   "metadata": {},
   "outputs": [
    {
     "data": {
      "text/plain": [
       "array([[1, 2],\n",
       "       [3, 4]])"
      ]
     },
     "execution_count": 21,
     "metadata": {},
     "output_type": "execute_result"
    }
   ],
   "source": [
    "V"
   ]
  },
  {
   "cell_type": "code",
   "execution_count": 23,
   "id": "ff26b740-684c-4e58-8347-117423199607",
   "metadata": {},
   "outputs": [
    {
     "data": {
      "text/plain": [
       "np.int64(-2)"
      ]
     },
     "execution_count": 23,
     "metadata": {},
     "output_type": "execute_result"
    }
   ],
   "source": [
    "det = (V[0,0]*V[1,1]) - (V[1,0]*V[0,1])\n",
    "det"
   ]
  },
  {
   "cell_type": "code",
   "execution_count": null,
   "id": "7c00b8f1-3a64-4389-98fb-970e54157a07",
   "metadata": {},
   "outputs": [],
   "source": []
  }
 ],
 "metadata": {
  "kernelspec": {
   "display_name": "Python 3 (ipykernel)",
   "language": "python",
   "name": "python3"
  },
  "language_info": {
   "codemirror_mode": {
    "name": "ipython",
    "version": 3
   },
   "file_extension": ".py",
   "mimetype": "text/x-python",
   "name": "python",
   "nbconvert_exporter": "python",
   "pygments_lexer": "ipython3",
   "version": "3.12.1"
  }
 },
 "nbformat": 4,
 "nbformat_minor": 5
}
