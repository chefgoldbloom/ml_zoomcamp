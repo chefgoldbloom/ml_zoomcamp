{
 "cells": [
  {
   "cell_type": "markdown",
   "id": "3414525c-73ae-446f-81af-3ecbeaf5b0e9",
   "metadata": {},
   "source": [
    "# 2.1 Car Price Intro"
   ]
  },
  {
   "cell_type": "code",
   "execution_count": 2,
   "id": "2c1225c1-add6-485c-b20a-18f615ae3bb6",
   "metadata": {},
   "outputs": [],
   "source": [
    "import pandas as pd\n",
    "import numpy as np\n",
    "import seaborn as sns\n",
    "from matplotlib import pyplot as plt\n",
    "%matplotlib inline"
   ]
  },
  {
   "cell_type": "markdown",
   "id": "5b9edd8b-eae4-4107-9cbb-69413c5e12c0",
   "metadata": {},
   "source": [
    "## 2.2 Data Preparation"
   ]
  },
  {
   "cell_type": "code",
   "execution_count": 3,
   "id": "629ac74c-8e85-4914-b14f-2d8086447c83",
   "metadata": {},
   "outputs": [],
   "source": [
    "df = pd.read_csv('/workspaces/ml_zoomcamp/02-regression/data.csv')"
   ]
  },
  {
   "cell_type": "code",
   "execution_count": 4,
   "id": "f3ba2218-2e0a-4167-9819-d23d0f6128df",
   "metadata": {},
   "outputs": [
    {
     "data": {
      "text/html": [
       "<div>\n",
       "<style scoped>\n",
       "    .dataframe tbody tr th:only-of-type {\n",
       "        vertical-align: middle;\n",
       "    }\n",
       "\n",
       "    .dataframe tbody tr th {\n",
       "        vertical-align: top;\n",
       "    }\n",
       "\n",
       "    .dataframe thead th {\n",
       "        text-align: right;\n",
       "    }\n",
       "</style>\n",
       "<table border=\"1\" class=\"dataframe\">\n",
       "  <thead>\n",
       "    <tr style=\"text-align: right;\">\n",
       "      <th></th>\n",
       "      <th>Make</th>\n",
       "      <th>Model</th>\n",
       "      <th>Year</th>\n",
       "      <th>Engine Fuel Type</th>\n",
       "      <th>Engine HP</th>\n",
       "      <th>Engine Cylinders</th>\n",
       "      <th>Transmission Type</th>\n",
       "      <th>Driven_Wheels</th>\n",
       "      <th>Number of Doors</th>\n",
       "      <th>Market Category</th>\n",
       "      <th>Vehicle Size</th>\n",
       "      <th>Vehicle Style</th>\n",
       "      <th>highway MPG</th>\n",
       "      <th>city mpg</th>\n",
       "      <th>Popularity</th>\n",
       "      <th>MSRP</th>\n",
       "    </tr>\n",
       "  </thead>\n",
       "  <tbody>\n",
       "    <tr>\n",
       "      <th>0</th>\n",
       "      <td>BMW</td>\n",
       "      <td>1 Series M</td>\n",
       "      <td>2011</td>\n",
       "      <td>premium unleaded (required)</td>\n",
       "      <td>335.0</td>\n",
       "      <td>6.0</td>\n",
       "      <td>MANUAL</td>\n",
       "      <td>rear wheel drive</td>\n",
       "      <td>2.0</td>\n",
       "      <td>Factory Tuner,Luxury,High-Performance</td>\n",
       "      <td>Compact</td>\n",
       "      <td>Coupe</td>\n",
       "      <td>26</td>\n",
       "      <td>19</td>\n",
       "      <td>3916</td>\n",
       "      <td>46135</td>\n",
       "    </tr>\n",
       "    <tr>\n",
       "      <th>1</th>\n",
       "      <td>BMW</td>\n",
       "      <td>1 Series</td>\n",
       "      <td>2011</td>\n",
       "      <td>premium unleaded (required)</td>\n",
       "      <td>300.0</td>\n",
       "      <td>6.0</td>\n",
       "      <td>MANUAL</td>\n",
       "      <td>rear wheel drive</td>\n",
       "      <td>2.0</td>\n",
       "      <td>Luxury,Performance</td>\n",
       "      <td>Compact</td>\n",
       "      <td>Convertible</td>\n",
       "      <td>28</td>\n",
       "      <td>19</td>\n",
       "      <td>3916</td>\n",
       "      <td>40650</td>\n",
       "    </tr>\n",
       "    <tr>\n",
       "      <th>2</th>\n",
       "      <td>BMW</td>\n",
       "      <td>1 Series</td>\n",
       "      <td>2011</td>\n",
       "      <td>premium unleaded (required)</td>\n",
       "      <td>300.0</td>\n",
       "      <td>6.0</td>\n",
       "      <td>MANUAL</td>\n",
       "      <td>rear wheel drive</td>\n",
       "      <td>2.0</td>\n",
       "      <td>Luxury,High-Performance</td>\n",
       "      <td>Compact</td>\n",
       "      <td>Coupe</td>\n",
       "      <td>28</td>\n",
       "      <td>20</td>\n",
       "      <td>3916</td>\n",
       "      <td>36350</td>\n",
       "    </tr>\n",
       "    <tr>\n",
       "      <th>3</th>\n",
       "      <td>BMW</td>\n",
       "      <td>1 Series</td>\n",
       "      <td>2011</td>\n",
       "      <td>premium unleaded (required)</td>\n",
       "      <td>230.0</td>\n",
       "      <td>6.0</td>\n",
       "      <td>MANUAL</td>\n",
       "      <td>rear wheel drive</td>\n",
       "      <td>2.0</td>\n",
       "      <td>Luxury,Performance</td>\n",
       "      <td>Compact</td>\n",
       "      <td>Coupe</td>\n",
       "      <td>28</td>\n",
       "      <td>18</td>\n",
       "      <td>3916</td>\n",
       "      <td>29450</td>\n",
       "    </tr>\n",
       "    <tr>\n",
       "      <th>4</th>\n",
       "      <td>BMW</td>\n",
       "      <td>1 Series</td>\n",
       "      <td>2011</td>\n",
       "      <td>premium unleaded (required)</td>\n",
       "      <td>230.0</td>\n",
       "      <td>6.0</td>\n",
       "      <td>MANUAL</td>\n",
       "      <td>rear wheel drive</td>\n",
       "      <td>2.0</td>\n",
       "      <td>Luxury</td>\n",
       "      <td>Compact</td>\n",
       "      <td>Convertible</td>\n",
       "      <td>28</td>\n",
       "      <td>18</td>\n",
       "      <td>3916</td>\n",
       "      <td>34500</td>\n",
       "    </tr>\n",
       "    <tr>\n",
       "      <th>...</th>\n",
       "      <td>...</td>\n",
       "      <td>...</td>\n",
       "      <td>...</td>\n",
       "      <td>...</td>\n",
       "      <td>...</td>\n",
       "      <td>...</td>\n",
       "      <td>...</td>\n",
       "      <td>...</td>\n",
       "      <td>...</td>\n",
       "      <td>...</td>\n",
       "      <td>...</td>\n",
       "      <td>...</td>\n",
       "      <td>...</td>\n",
       "      <td>...</td>\n",
       "      <td>...</td>\n",
       "      <td>...</td>\n",
       "    </tr>\n",
       "    <tr>\n",
       "      <th>11909</th>\n",
       "      <td>Acura</td>\n",
       "      <td>ZDX</td>\n",
       "      <td>2012</td>\n",
       "      <td>premium unleaded (required)</td>\n",
       "      <td>300.0</td>\n",
       "      <td>6.0</td>\n",
       "      <td>AUTOMATIC</td>\n",
       "      <td>all wheel drive</td>\n",
       "      <td>4.0</td>\n",
       "      <td>Crossover,Hatchback,Luxury</td>\n",
       "      <td>Midsize</td>\n",
       "      <td>4dr Hatchback</td>\n",
       "      <td>23</td>\n",
       "      <td>16</td>\n",
       "      <td>204</td>\n",
       "      <td>46120</td>\n",
       "    </tr>\n",
       "    <tr>\n",
       "      <th>11910</th>\n",
       "      <td>Acura</td>\n",
       "      <td>ZDX</td>\n",
       "      <td>2012</td>\n",
       "      <td>premium unleaded (required)</td>\n",
       "      <td>300.0</td>\n",
       "      <td>6.0</td>\n",
       "      <td>AUTOMATIC</td>\n",
       "      <td>all wheel drive</td>\n",
       "      <td>4.0</td>\n",
       "      <td>Crossover,Hatchback,Luxury</td>\n",
       "      <td>Midsize</td>\n",
       "      <td>4dr Hatchback</td>\n",
       "      <td>23</td>\n",
       "      <td>16</td>\n",
       "      <td>204</td>\n",
       "      <td>56670</td>\n",
       "    </tr>\n",
       "    <tr>\n",
       "      <th>11911</th>\n",
       "      <td>Acura</td>\n",
       "      <td>ZDX</td>\n",
       "      <td>2012</td>\n",
       "      <td>premium unleaded (required)</td>\n",
       "      <td>300.0</td>\n",
       "      <td>6.0</td>\n",
       "      <td>AUTOMATIC</td>\n",
       "      <td>all wheel drive</td>\n",
       "      <td>4.0</td>\n",
       "      <td>Crossover,Hatchback,Luxury</td>\n",
       "      <td>Midsize</td>\n",
       "      <td>4dr Hatchback</td>\n",
       "      <td>23</td>\n",
       "      <td>16</td>\n",
       "      <td>204</td>\n",
       "      <td>50620</td>\n",
       "    </tr>\n",
       "    <tr>\n",
       "      <th>11912</th>\n",
       "      <td>Acura</td>\n",
       "      <td>ZDX</td>\n",
       "      <td>2013</td>\n",
       "      <td>premium unleaded (recommended)</td>\n",
       "      <td>300.0</td>\n",
       "      <td>6.0</td>\n",
       "      <td>AUTOMATIC</td>\n",
       "      <td>all wheel drive</td>\n",
       "      <td>4.0</td>\n",
       "      <td>Crossover,Hatchback,Luxury</td>\n",
       "      <td>Midsize</td>\n",
       "      <td>4dr Hatchback</td>\n",
       "      <td>23</td>\n",
       "      <td>16</td>\n",
       "      <td>204</td>\n",
       "      <td>50920</td>\n",
       "    </tr>\n",
       "    <tr>\n",
       "      <th>11913</th>\n",
       "      <td>Lincoln</td>\n",
       "      <td>Zephyr</td>\n",
       "      <td>2006</td>\n",
       "      <td>regular unleaded</td>\n",
       "      <td>221.0</td>\n",
       "      <td>6.0</td>\n",
       "      <td>AUTOMATIC</td>\n",
       "      <td>front wheel drive</td>\n",
       "      <td>4.0</td>\n",
       "      <td>Luxury</td>\n",
       "      <td>Midsize</td>\n",
       "      <td>Sedan</td>\n",
       "      <td>26</td>\n",
       "      <td>17</td>\n",
       "      <td>61</td>\n",
       "      <td>28995</td>\n",
       "    </tr>\n",
       "  </tbody>\n",
       "</table>\n",
       "<p>11914 rows × 16 columns</p>\n",
       "</div>"
      ],
      "text/plain": [
       "          Make       Model  Year                Engine Fuel Type  Engine HP  \\\n",
       "0          BMW  1 Series M  2011     premium unleaded (required)      335.0   \n",
       "1          BMW    1 Series  2011     premium unleaded (required)      300.0   \n",
       "2          BMW    1 Series  2011     premium unleaded (required)      300.0   \n",
       "3          BMW    1 Series  2011     premium unleaded (required)      230.0   \n",
       "4          BMW    1 Series  2011     premium unleaded (required)      230.0   \n",
       "...        ...         ...   ...                             ...        ...   \n",
       "11909    Acura         ZDX  2012     premium unleaded (required)      300.0   \n",
       "11910    Acura         ZDX  2012     premium unleaded (required)      300.0   \n",
       "11911    Acura         ZDX  2012     premium unleaded (required)      300.0   \n",
       "11912    Acura         ZDX  2013  premium unleaded (recommended)      300.0   \n",
       "11913  Lincoln      Zephyr  2006                regular unleaded      221.0   \n",
       "\n",
       "       Engine Cylinders Transmission Type      Driven_Wheels  Number of Doors  \\\n",
       "0                   6.0            MANUAL   rear wheel drive              2.0   \n",
       "1                   6.0            MANUAL   rear wheel drive              2.0   \n",
       "2                   6.0            MANUAL   rear wheel drive              2.0   \n",
       "3                   6.0            MANUAL   rear wheel drive              2.0   \n",
       "4                   6.0            MANUAL   rear wheel drive              2.0   \n",
       "...                 ...               ...                ...              ...   \n",
       "11909               6.0         AUTOMATIC    all wheel drive              4.0   \n",
       "11910               6.0         AUTOMATIC    all wheel drive              4.0   \n",
       "11911               6.0         AUTOMATIC    all wheel drive              4.0   \n",
       "11912               6.0         AUTOMATIC    all wheel drive              4.0   \n",
       "11913               6.0         AUTOMATIC  front wheel drive              4.0   \n",
       "\n",
       "                             Market Category Vehicle Size  Vehicle Style  \\\n",
       "0      Factory Tuner,Luxury,High-Performance      Compact          Coupe   \n",
       "1                         Luxury,Performance      Compact    Convertible   \n",
       "2                    Luxury,High-Performance      Compact          Coupe   \n",
       "3                         Luxury,Performance      Compact          Coupe   \n",
       "4                                     Luxury      Compact    Convertible   \n",
       "...                                      ...          ...            ...   \n",
       "11909             Crossover,Hatchback,Luxury      Midsize  4dr Hatchback   \n",
       "11910             Crossover,Hatchback,Luxury      Midsize  4dr Hatchback   \n",
       "11911             Crossover,Hatchback,Luxury      Midsize  4dr Hatchback   \n",
       "11912             Crossover,Hatchback,Luxury      Midsize  4dr Hatchback   \n",
       "11913                                 Luxury      Midsize          Sedan   \n",
       "\n",
       "       highway MPG  city mpg  Popularity   MSRP  \n",
       "0               26        19        3916  46135  \n",
       "1               28        19        3916  40650  \n",
       "2               28        20        3916  36350  \n",
       "3               28        18        3916  29450  \n",
       "4               28        18        3916  34500  \n",
       "...            ...       ...         ...    ...  \n",
       "11909           23        16         204  46120  \n",
       "11910           23        16         204  56670  \n",
       "11911           23        16         204  50620  \n",
       "11912           23        16         204  50920  \n",
       "11913           26        17          61  28995  \n",
       "\n",
       "[11914 rows x 16 columns]"
      ]
     },
     "execution_count": 4,
     "metadata": {},
     "output_type": "execute_result"
    }
   ],
   "source": [
    "df"
   ]
  },
  {
   "cell_type": "code",
   "execution_count": 5,
   "id": "253b1716-d6b2-486d-b00a-a4d50c51bcc1",
   "metadata": {},
   "outputs": [
    {
     "data": {
      "text/html": [
       "<div>\n",
       "<style scoped>\n",
       "    .dataframe tbody tr th:only-of-type {\n",
       "        vertical-align: middle;\n",
       "    }\n",
       "\n",
       "    .dataframe tbody tr th {\n",
       "        vertical-align: top;\n",
       "    }\n",
       "\n",
       "    .dataframe thead th {\n",
       "        text-align: right;\n",
       "    }\n",
       "</style>\n",
       "<table border=\"1\" class=\"dataframe\">\n",
       "  <thead>\n",
       "    <tr style=\"text-align: right;\">\n",
       "      <th></th>\n",
       "      <th>Make</th>\n",
       "      <th>Model</th>\n",
       "      <th>Year</th>\n",
       "      <th>Engine Fuel Type</th>\n",
       "      <th>Engine HP</th>\n",
       "      <th>Engine Cylinders</th>\n",
       "      <th>Transmission Type</th>\n",
       "      <th>Driven_Wheels</th>\n",
       "      <th>Number of Doors</th>\n",
       "      <th>Market Category</th>\n",
       "      <th>Vehicle Size</th>\n",
       "      <th>Vehicle Style</th>\n",
       "      <th>highway MPG</th>\n",
       "      <th>city mpg</th>\n",
       "      <th>Popularity</th>\n",
       "      <th>MSRP</th>\n",
       "    </tr>\n",
       "  </thead>\n",
       "  <tbody>\n",
       "    <tr>\n",
       "      <th>0</th>\n",
       "      <td>BMW</td>\n",
       "      <td>1 Series M</td>\n",
       "      <td>2011</td>\n",
       "      <td>premium unleaded (required)</td>\n",
       "      <td>335.0</td>\n",
       "      <td>6.0</td>\n",
       "      <td>MANUAL</td>\n",
       "      <td>rear wheel drive</td>\n",
       "      <td>2.0</td>\n",
       "      <td>Factory Tuner,Luxury,High-Performance</td>\n",
       "      <td>Compact</td>\n",
       "      <td>Coupe</td>\n",
       "      <td>26</td>\n",
       "      <td>19</td>\n",
       "      <td>3916</td>\n",
       "      <td>46135</td>\n",
       "    </tr>\n",
       "    <tr>\n",
       "      <th>1</th>\n",
       "      <td>BMW</td>\n",
       "      <td>1 Series</td>\n",
       "      <td>2011</td>\n",
       "      <td>premium unleaded (required)</td>\n",
       "      <td>300.0</td>\n",
       "      <td>6.0</td>\n",
       "      <td>MANUAL</td>\n",
       "      <td>rear wheel drive</td>\n",
       "      <td>2.0</td>\n",
       "      <td>Luxury,Performance</td>\n",
       "      <td>Compact</td>\n",
       "      <td>Convertible</td>\n",
       "      <td>28</td>\n",
       "      <td>19</td>\n",
       "      <td>3916</td>\n",
       "      <td>40650</td>\n",
       "    </tr>\n",
       "    <tr>\n",
       "      <th>2</th>\n",
       "      <td>BMW</td>\n",
       "      <td>1 Series</td>\n",
       "      <td>2011</td>\n",
       "      <td>premium unleaded (required)</td>\n",
       "      <td>300.0</td>\n",
       "      <td>6.0</td>\n",
       "      <td>MANUAL</td>\n",
       "      <td>rear wheel drive</td>\n",
       "      <td>2.0</td>\n",
       "      <td>Luxury,High-Performance</td>\n",
       "      <td>Compact</td>\n",
       "      <td>Coupe</td>\n",
       "      <td>28</td>\n",
       "      <td>20</td>\n",
       "      <td>3916</td>\n",
       "      <td>36350</td>\n",
       "    </tr>\n",
       "    <tr>\n",
       "      <th>3</th>\n",
       "      <td>BMW</td>\n",
       "      <td>1 Series</td>\n",
       "      <td>2011</td>\n",
       "      <td>premium unleaded (required)</td>\n",
       "      <td>230.0</td>\n",
       "      <td>6.0</td>\n",
       "      <td>MANUAL</td>\n",
       "      <td>rear wheel drive</td>\n",
       "      <td>2.0</td>\n",
       "      <td>Luxury,Performance</td>\n",
       "      <td>Compact</td>\n",
       "      <td>Coupe</td>\n",
       "      <td>28</td>\n",
       "      <td>18</td>\n",
       "      <td>3916</td>\n",
       "      <td>29450</td>\n",
       "    </tr>\n",
       "    <tr>\n",
       "      <th>4</th>\n",
       "      <td>BMW</td>\n",
       "      <td>1 Series</td>\n",
       "      <td>2011</td>\n",
       "      <td>premium unleaded (required)</td>\n",
       "      <td>230.0</td>\n",
       "      <td>6.0</td>\n",
       "      <td>MANUAL</td>\n",
       "      <td>rear wheel drive</td>\n",
       "      <td>2.0</td>\n",
       "      <td>Luxury</td>\n",
       "      <td>Compact</td>\n",
       "      <td>Convertible</td>\n",
       "      <td>28</td>\n",
       "      <td>18</td>\n",
       "      <td>3916</td>\n",
       "      <td>34500</td>\n",
       "    </tr>\n",
       "  </tbody>\n",
       "</table>\n",
       "</div>"
      ],
      "text/plain": [
       "  Make       Model  Year             Engine Fuel Type  Engine HP  \\\n",
       "0  BMW  1 Series M  2011  premium unleaded (required)      335.0   \n",
       "1  BMW    1 Series  2011  premium unleaded (required)      300.0   \n",
       "2  BMW    1 Series  2011  premium unleaded (required)      300.0   \n",
       "3  BMW    1 Series  2011  premium unleaded (required)      230.0   \n",
       "4  BMW    1 Series  2011  premium unleaded (required)      230.0   \n",
       "\n",
       "   Engine Cylinders Transmission Type     Driven_Wheels  Number of Doors  \\\n",
       "0               6.0            MANUAL  rear wheel drive              2.0   \n",
       "1               6.0            MANUAL  rear wheel drive              2.0   \n",
       "2               6.0            MANUAL  rear wheel drive              2.0   \n",
       "3               6.0            MANUAL  rear wheel drive              2.0   \n",
       "4               6.0            MANUAL  rear wheel drive              2.0   \n",
       "\n",
       "                         Market Category Vehicle Size Vehicle Style  \\\n",
       "0  Factory Tuner,Luxury,High-Performance      Compact         Coupe   \n",
       "1                     Luxury,Performance      Compact   Convertible   \n",
       "2                Luxury,High-Performance      Compact         Coupe   \n",
       "3                     Luxury,Performance      Compact         Coupe   \n",
       "4                                 Luxury      Compact   Convertible   \n",
       "\n",
       "   highway MPG  city mpg  Popularity   MSRP  \n",
       "0           26        19        3916  46135  \n",
       "1           28        19        3916  40650  \n",
       "2           28        20        3916  36350  \n",
       "3           28        18        3916  29450  \n",
       "4           28        18        3916  34500  "
      ]
     },
     "execution_count": 5,
     "metadata": {},
     "output_type": "execute_result"
    }
   ],
   "source": [
    "df.head()"
   ]
  },
  {
   "cell_type": "code",
   "execution_count": 6,
   "id": "298b6d86-c14c-4027-a53c-3db014a8e2b6",
   "metadata": {},
   "outputs": [],
   "source": [
    "df.columns = df.columns.str.lower().str.replace(\" \",\"_\")"
   ]
  },
  {
   "cell_type": "code",
   "execution_count": 7,
   "id": "311cc1bf-4eea-4767-8992-74a2ed49dae2",
   "metadata": {},
   "outputs": [],
   "source": [
    "str_columns = list(df.dtypes[df.dtypes == 'object'].index)"
   ]
  },
  {
   "cell_type": "code",
   "execution_count": 8,
   "id": "bfb37a67-2fb9-4804-a0f5-7f9ce2e525a8",
   "metadata": {},
   "outputs": [],
   "source": [
    "for col in str_columns:\n",
    "    df[col] = df[col].str.lower().str.replace(\" \",\"_\")"
   ]
  },
  {
   "cell_type": "code",
   "execution_count": 9,
   "id": "e9c694e6-349e-4842-a075-af04f9a0ef23",
   "metadata": {},
   "outputs": [
    {
     "data": {
      "text/html": [
       "<div>\n",
       "<style scoped>\n",
       "    .dataframe tbody tr th:only-of-type {\n",
       "        vertical-align: middle;\n",
       "    }\n",
       "\n",
       "    .dataframe tbody tr th {\n",
       "        vertical-align: top;\n",
       "    }\n",
       "\n",
       "    .dataframe thead th {\n",
       "        text-align: right;\n",
       "    }\n",
       "</style>\n",
       "<table border=\"1\" class=\"dataframe\">\n",
       "  <thead>\n",
       "    <tr style=\"text-align: right;\">\n",
       "      <th></th>\n",
       "      <th>make</th>\n",
       "      <th>model</th>\n",
       "      <th>year</th>\n",
       "      <th>engine_fuel_type</th>\n",
       "      <th>engine_hp</th>\n",
       "      <th>engine_cylinders</th>\n",
       "      <th>transmission_type</th>\n",
       "      <th>driven_wheels</th>\n",
       "      <th>number_of_doors</th>\n",
       "      <th>market_category</th>\n",
       "      <th>vehicle_size</th>\n",
       "      <th>vehicle_style</th>\n",
       "      <th>highway_mpg</th>\n",
       "      <th>city_mpg</th>\n",
       "      <th>popularity</th>\n",
       "      <th>msrp</th>\n",
       "    </tr>\n",
       "  </thead>\n",
       "  <tbody>\n",
       "    <tr>\n",
       "      <th>0</th>\n",
       "      <td>bmw</td>\n",
       "      <td>1_series_m</td>\n",
       "      <td>2011</td>\n",
       "      <td>premium_unleaded_(required)</td>\n",
       "      <td>335.0</td>\n",
       "      <td>6.0</td>\n",
       "      <td>manual</td>\n",
       "      <td>rear_wheel_drive</td>\n",
       "      <td>2.0</td>\n",
       "      <td>factory_tuner,luxury,high-performance</td>\n",
       "      <td>compact</td>\n",
       "      <td>coupe</td>\n",
       "      <td>26</td>\n",
       "      <td>19</td>\n",
       "      <td>3916</td>\n",
       "      <td>46135</td>\n",
       "    </tr>\n",
       "    <tr>\n",
       "      <th>1</th>\n",
       "      <td>bmw</td>\n",
       "      <td>1_series</td>\n",
       "      <td>2011</td>\n",
       "      <td>premium_unleaded_(required)</td>\n",
       "      <td>300.0</td>\n",
       "      <td>6.0</td>\n",
       "      <td>manual</td>\n",
       "      <td>rear_wheel_drive</td>\n",
       "      <td>2.0</td>\n",
       "      <td>luxury,performance</td>\n",
       "      <td>compact</td>\n",
       "      <td>convertible</td>\n",
       "      <td>28</td>\n",
       "      <td>19</td>\n",
       "      <td>3916</td>\n",
       "      <td>40650</td>\n",
       "    </tr>\n",
       "    <tr>\n",
       "      <th>2</th>\n",
       "      <td>bmw</td>\n",
       "      <td>1_series</td>\n",
       "      <td>2011</td>\n",
       "      <td>premium_unleaded_(required)</td>\n",
       "      <td>300.0</td>\n",
       "      <td>6.0</td>\n",
       "      <td>manual</td>\n",
       "      <td>rear_wheel_drive</td>\n",
       "      <td>2.0</td>\n",
       "      <td>luxury,high-performance</td>\n",
       "      <td>compact</td>\n",
       "      <td>coupe</td>\n",
       "      <td>28</td>\n",
       "      <td>20</td>\n",
       "      <td>3916</td>\n",
       "      <td>36350</td>\n",
       "    </tr>\n",
       "    <tr>\n",
       "      <th>3</th>\n",
       "      <td>bmw</td>\n",
       "      <td>1_series</td>\n",
       "      <td>2011</td>\n",
       "      <td>premium_unleaded_(required)</td>\n",
       "      <td>230.0</td>\n",
       "      <td>6.0</td>\n",
       "      <td>manual</td>\n",
       "      <td>rear_wheel_drive</td>\n",
       "      <td>2.0</td>\n",
       "      <td>luxury,performance</td>\n",
       "      <td>compact</td>\n",
       "      <td>coupe</td>\n",
       "      <td>28</td>\n",
       "      <td>18</td>\n",
       "      <td>3916</td>\n",
       "      <td>29450</td>\n",
       "    </tr>\n",
       "    <tr>\n",
       "      <th>4</th>\n",
       "      <td>bmw</td>\n",
       "      <td>1_series</td>\n",
       "      <td>2011</td>\n",
       "      <td>premium_unleaded_(required)</td>\n",
       "      <td>230.0</td>\n",
       "      <td>6.0</td>\n",
       "      <td>manual</td>\n",
       "      <td>rear_wheel_drive</td>\n",
       "      <td>2.0</td>\n",
       "      <td>luxury</td>\n",
       "      <td>compact</td>\n",
       "      <td>convertible</td>\n",
       "      <td>28</td>\n",
       "      <td>18</td>\n",
       "      <td>3916</td>\n",
       "      <td>34500</td>\n",
       "    </tr>\n",
       "  </tbody>\n",
       "</table>\n",
       "</div>"
      ],
      "text/plain": [
       "  make       model  year             engine_fuel_type  engine_hp  \\\n",
       "0  bmw  1_series_m  2011  premium_unleaded_(required)      335.0   \n",
       "1  bmw    1_series  2011  premium_unleaded_(required)      300.0   \n",
       "2  bmw    1_series  2011  premium_unleaded_(required)      300.0   \n",
       "3  bmw    1_series  2011  premium_unleaded_(required)      230.0   \n",
       "4  bmw    1_series  2011  premium_unleaded_(required)      230.0   \n",
       "\n",
       "   engine_cylinders transmission_type     driven_wheels  number_of_doors  \\\n",
       "0               6.0            manual  rear_wheel_drive              2.0   \n",
       "1               6.0            manual  rear_wheel_drive              2.0   \n",
       "2               6.0            manual  rear_wheel_drive              2.0   \n",
       "3               6.0            manual  rear_wheel_drive              2.0   \n",
       "4               6.0            manual  rear_wheel_drive              2.0   \n",
       "\n",
       "                         market_category vehicle_size vehicle_style  \\\n",
       "0  factory_tuner,luxury,high-performance      compact         coupe   \n",
       "1                     luxury,performance      compact   convertible   \n",
       "2                luxury,high-performance      compact         coupe   \n",
       "3                     luxury,performance      compact         coupe   \n",
       "4                                 luxury      compact   convertible   \n",
       "\n",
       "   highway_mpg  city_mpg  popularity   msrp  \n",
       "0           26        19        3916  46135  \n",
       "1           28        19        3916  40650  \n",
       "2           28        20        3916  36350  \n",
       "3           28        18        3916  29450  \n",
       "4           28        18        3916  34500  "
      ]
     },
     "execution_count": 9,
     "metadata": {},
     "output_type": "execute_result"
    }
   ],
   "source": [
    "df.head()"
   ]
  },
  {
   "cell_type": "markdown",
   "id": "f1f87b97-1f46-4ade-9b7c-33194efa4d3c",
   "metadata": {},
   "source": [
    "## 2.3 Exploratory Data Analysis"
   ]
  },
  {
   "cell_type": "code",
   "execution_count": 10,
   "id": "3785984a-6c28-47b7-93ee-ea7e11a2d57d",
   "metadata": {},
   "outputs": [
    {
     "data": {
      "image/png": "[encoded data removed]",
      "text/plain": [
       "<Figure size 600x400 with 1 Axes>"
      ]
     },
     "metadata": {},
     "output_type": "display_data"
    }
   ],
   "source": [
    "plt.figure(figsize=(6,4))\n",
    "\n",
    "sns.histplot(df.msrp, bins=400, color='black', alpha=1)\n",
    "plt.ylabel('Frequency')\n",
    "plt.xlabel('Price')\n",
    "plt.title('Distribution of prices')\n",
    "plt.show()"
   ]
  },
  {
   "cell_type": "code",
   "execution_count": 11,
   "id": "50b1fb28-ca43-45dc-a5c8-f461c301ab88",
   "metadata": {},
   "outputs": [
    {
     "name": "stdout",
     "output_type": "stream",
     "text": [
      "make\n",
      "['bmw' 'audi' 'fiat' 'mercedes-benz' 'chrysler']\n",
      "48\n",
      "\n",
      "model\n",
      "['1_series_m' '1_series' '100' '124_spider' '190-class']\n",
      "914\n",
      "\n",
      "year\n",
      "[2011 2012 2013 1992 1993]\n",
      "28\n",
      "\n",
      "engine_fuel_type\n",
      "['premium_unleaded_(required)' 'regular_unleaded'\n",
      " 'premium_unleaded_(recommended)' 'flex-fuel_(unleaded/e85)' 'diesel']\n",
      "10\n",
      "\n",
      "engine_hp\n",
      "[335. 300. 230. 320. 172.]\n",
      "356\n",
      "\n",
      "engine_cylinders\n",
      "[ 6.  4.  5.  8. 12.]\n",
      "9\n",
      "\n",
      "transmission_type\n",
      "['manual' 'automatic' 'automated_manual' 'direct_drive' 'unknown']\n",
      "5\n",
      "\n",
      "driven_wheels\n",
      "['rear_wheel_drive' 'front_wheel_drive' 'all_wheel_drive'\n",
      " 'four_wheel_drive']\n",
      "4\n",
      "\n",
      "number_of_doors\n",
      "[ 2.  4.  3. nan]\n",
      "3\n",
      "\n",
      "market_category\n",
      "['factory_tuner,luxury,high-performance' 'luxury,performance'\n",
      " 'luxury,high-performance' 'luxury' 'performance']\n",
      "71\n",
      "\n",
      "vehicle_size\n",
      "['compact' 'midsize' 'large']\n",
      "3\n",
      "\n",
      "vehicle_style\n",
      "['coupe' 'convertible' 'sedan' 'wagon' '4dr_hatchback']\n",
      "16\n",
      "\n",
      "highway_mpg\n",
      "[26 28 27 25 24]\n",
      "59\n",
      "\n",
      "city_mpg\n",
      "[19 20 18 17 16]\n",
      "69\n",
      "\n",
      "popularity\n",
      "[3916 3105  819  617 1013]\n",
      "48\n",
      "\n",
      "msrp\n",
      "[46135 40650 36350 29450 34500]\n",
      "6049\n",
      "\n"
     ]
    }
   ],
   "source": [
    "for col in df.columns:\n",
    "    print(col)\n",
    "    print(df[col].unique()[:5])\n",
    "    print(df[col].nunique())\n",
    "    print(\"\")"
   ]
  },
  {
   "cell_type": "markdown",
   "id": "dec4a6b1-2f9b-4bac-b8a4-72ddc4095196",
   "metadata": {},
   "source": [
    "### Distribution of Price"
   ]
  },
  {
   "cell_type": "code",
   "execution_count": 12,
   "id": "c3d2ae7b-c749-4b45-ac23-09b8c35f001b",
   "metadata": {},
   "outputs": [
    {
     "data": {
      "text/plain": [
       "<Axes: xlabel='msrp', ylabel='Count'>"
      ]
     },
     "execution_count": 12,
     "metadata": {},
     "output_type": "execute_result"
    },
    {
     "data": {
      "image/png": "[encoded data removed]",
      "text/plain": [
       "<Figure size 640x480 with 1 Axes>"
      ]
     },
     "metadata": {},
     "output_type": "display_data"
    }
   ],
   "source": [
    "sns.histplot(df.msrp[df.msrp < 100000], bins=50)"
   ]
  },
  {
   "cell_type": "code",
   "execution_count": 13,
   "id": "ef0d5ef8-c621-4bd8-9ae2-c162eb8884c5",
   "metadata": {},
   "outputs": [
    {
     "data": {
      "text/plain": [
       "array([ 0.        ,  0.69314718,  2.39789527,  4.61512052,  6.90875478,\n",
       "       13.81551156])"
      ]
     },
     "execution_count": 13,
     "metadata": {},
     "output_type": "execute_result"
    }
   ],
   "source": [
    "np.log1p([0,1,10,100,1000,1000000])"
   ]
  },
  {
   "cell_type": "code",
   "execution_count": 14,
   "id": "0838e5f0-127e-4e86-83e7-6deb8ea5f776",
   "metadata": {},
   "outputs": [],
   "source": [
    "price_log = np.log1p(df.msrp)"
   ]
  },
  {
   "cell_type": "code",
   "execution_count": 15,
   "id": "796535d2-619e-4eed-9121-d28236e35a23",
   "metadata": {},
   "outputs": [
    {
     "data": {
      "text/plain": [
       "<Axes: xlabel='msrp', ylabel='Count'>"
      ]
     },
     "execution_count": 15,
     "metadata": {},
     "output_type": "execute_result"
    },
    {
     "data": {
      "image/png": "[encoded data removed]",
      "text/plain": [
       "<Figure size 640x480 with 1 Axes>"
      ]
     },
     "metadata": {},
     "output_type": "display_data"
    }
   ],
   "source": [
    "sns.histplot(price_log, bins=50)"
   ]
  },
  {
   "cell_type": "markdown",
   "id": "02466c06-719d-4adf-a13a-f28cea3eb6a4",
   "metadata": {},
   "source": [
    "### Missing Values"
   ]
  },
  {
   "cell_type": "code",
   "execution_count": 16,
   "id": "7b6a7ea0-aeb4-49a8-a6d6-1a5cab741aa3",
   "metadata": {},
   "outputs": [
    {
     "data": {
      "text/plain": [
       "make                    0\n",
       "model                   0\n",
       "year                    0\n",
       "engine_fuel_type        3\n",
       "engine_hp              69\n",
       "engine_cylinders       30\n",
       "transmission_type       0\n",
       "driven_wheels           0\n",
       "number_of_doors         6\n",
       "market_category      3742\n",
       "vehicle_size            0\n",
       "vehicle_style           0\n",
       "highway_mpg             0\n",
       "city_mpg                0\n",
       "popularity              0\n",
       "msrp                    0\n",
       "dtype: int64"
      ]
     },
     "execution_count": 16,
     "metadata": {},
     "output_type": "execute_result"
    }
   ],
   "source": [
    "df.isnull().sum()"
   ]
  },
  {
   "cell_type": "markdown",
   "id": "19c43c33-953f-4f40-bbec-e7b86a18a7c5",
   "metadata": {},
   "source": [
    "# 2.4 Setting up validation framework"
   ]
  },
  {
   "cell_type": "markdown",
   "id": "0bb57375-0e17-4ed9-a668-d15875aae3a1",
   "metadata": {},
   "source": [
    "split data into Train, validation, test sets -- Xt,yt; Xv,yv; Xtest,ytest"
   ]
  },
  {
   "cell_type": "markdown",
   "id": "6f4f6ab2-6345-437c-a862-49cd95566915",
   "metadata": {},
   "source": [
    "Train - 60%; Validation - 20%, Test - 20%"
   ]
  },
  {
   "cell_type": "code",
   "execution_count": 17,
   "id": "bb3f0dc1-7613-4531-a10a-9f2fcd47a44c",
   "metadata": {},
   "outputs": [],
   "source": [
    "n = len(df)\n",
    "n_val = int(n * .2)\n",
    "n_test = int(n * .2)\n",
    "n_train = int(n * .6)"
   ]
  },
  {
   "cell_type": "code",
   "execution_count": 18,
   "id": "c4e16e32-f822-4e1d-ad58-1358bde0f45e",
   "metadata": {},
   "outputs": [
    {
     "data": {
      "text/plain": [
       "(11914, 11912)"
      ]
     },
     "execution_count": 18,
     "metadata": {},
     "output_type": "execute_result"
    }
   ],
   "source": [
    "# Check to see if no records were left behind during rounding by int\n",
    "n,n_val+n_test+n_train"
   ]
  },
  {
   "cell_type": "code",
   "execution_count": 19,
   "id": "76afcff9-ea4b-40ed-8ed1-39a1888d9018",
   "metadata": {},
   "outputs": [
    {
     "data": {
      "text/plain": [
       "(11914, 11914)"
      ]
     },
     "execution_count": 19,
     "metadata": {},
     "output_type": "execute_result"
    }
   ],
   "source": [
    "# Missing two records, how do we fix?\n",
    "# Remove n_val and n_test and whatever remains will be n_train\n",
    "n = len(df)\n",
    "n_val = int(n * .2)\n",
    "n_test = int(n * .2)\n",
    "n_train = n - n_val - n_test\n",
    "# Check to see if no records were left behind during rounding by int\n",
    "n,n_val+n_test+n_train"
   ]
  },
  {
   "cell_type": "code",
   "execution_count": 20,
   "id": "a48cc5e1-2d71-4a3a-b59a-ccfeee0f77f0",
   "metadata": {},
   "outputs": [
    {
     "data": {
      "text/plain": [
       "(2382, 2382, 7150)"
      ]
     },
     "execution_count": 20,
     "metadata": {},
     "output_type": "execute_result"
    }
   ],
   "source": [
    "# Now they are the same, good\n",
    "n_val,n_test,n_train"
   ]
  },
  {
   "cell_type": "code",
   "execution_count": 21,
   "id": "ad18b8ba-7266-45d9-9ce5-bd9d16527410",
   "metadata": {},
   "outputs": [],
   "source": [
    "df_train = df.iloc[:n_train]\n",
    "df_val = df.iloc[n_train:n_train+n_val]\n",
    "df_test = df.iloc[n_train+n_val:]"
   ]
  },
  {
   "cell_type": "code",
   "execution_count": 22,
   "id": "4f04e7c1-834c-464d-8cd4-f79b82926f28",
   "metadata": {},
   "outputs": [
    {
     "data": {
      "text/plain": [
       "array([    0,     1,     2, ..., 11911, 11912, 11913], shape=(11914,))"
      ]
     },
     "execution_count": 22,
     "metadata": {},
     "output_type": "execute_result"
    }
   ],
   "source": [
    "# How to shuffle\n",
    "idx = np.arange(n)\n",
    "idx"
   ]
  },
  {
   "cell_type": "code",
   "execution_count": 23,
   "id": "1f8c3cb0-396d-4473-864d-d84147cf7566",
   "metadata": {},
   "outputs": [],
   "source": [
    "np.random.seed(2)\n",
    "np.random.shuffle(idx)"
   ]
  },
  {
   "cell_type": "code",
   "execution_count": 24,
   "id": "4508d3b8-c29d-4c0d-b321-694ebbe53de6",
   "metadata": {},
   "outputs": [
    {
     "data": {
      "text/plain": [
       "array([2735, 6720, 5878, ..., 6637, 2575, 7336], shape=(11914,))"
      ]
     },
     "execution_count": 24,
     "metadata": {},
     "output_type": "execute_result"
    }
   ],
   "source": [
    "idx"
   ]
  },
  {
   "cell_type": "code",
   "execution_count": 25,
   "id": "885b6450-3999-4437-b7d5-9937d0f77bb2",
   "metadata": {},
   "outputs": [],
   "source": [
    "# Now idx is shuffled index\n",
    "df_train = df.iloc[idx[:n_train]]\n",
    "df_val = df.iloc[idx[n_train:n_train+n_val]]\n",
    "df_test = df.iloc[idx[n_train+n_val:]]"
   ]
  },
  {
   "cell_type": "code",
   "execution_count": 26,
   "id": "8a3ffe6d-c514-481b-a6a3-3907e1548338",
   "metadata": {},
   "outputs": [
    {
     "data": {
      "text/html": [
       "<div>\n",
       "<style scoped>\n",
       "    .dataframe tbody tr th:only-of-type {\n",
       "        vertical-align: middle;\n",
       "    }\n",
       "\n",
       "    .dataframe tbody tr th {\n",
       "        vertical-align: top;\n",
       "    }\n",
       "\n",
       "    .dataframe thead th {\n",
       "        text-align: right;\n",
       "    }\n",
       "</style>\n",
       "<table border=\"1\" class=\"dataframe\">\n",
       "  <thead>\n",
       "    <tr style=\"text-align: right;\">\n",
       "      <th></th>\n",
       "      <th>make</th>\n",
       "      <th>model</th>\n",
       "      <th>year</th>\n",
       "      <th>engine_fuel_type</th>\n",
       "      <th>engine_hp</th>\n",
       "      <th>engine_cylinders</th>\n",
       "      <th>transmission_type</th>\n",
       "      <th>driven_wheels</th>\n",
       "      <th>number_of_doors</th>\n",
       "      <th>market_category</th>\n",
       "      <th>vehicle_size</th>\n",
       "      <th>vehicle_style</th>\n",
       "      <th>highway_mpg</th>\n",
       "      <th>city_mpg</th>\n",
       "      <th>popularity</th>\n",
       "      <th>msrp</th>\n",
       "    </tr>\n",
       "  </thead>\n",
       "  <tbody>\n",
       "    <tr>\n",
       "      <th>0</th>\n",
       "      <td>chevrolet</td>\n",
       "      <td>cobalt</td>\n",
       "      <td>2008</td>\n",
       "      <td>regular_unleaded</td>\n",
       "      <td>148.0</td>\n",
       "      <td>4.0</td>\n",
       "      <td>manual</td>\n",
       "      <td>front_wheel_drive</td>\n",
       "      <td>2.0</td>\n",
       "      <td>NaN</td>\n",
       "      <td>compact</td>\n",
       "      <td>coupe</td>\n",
       "      <td>33</td>\n",
       "      <td>24</td>\n",
       "      <td>1385</td>\n",
       "      <td>14410</td>\n",
       "    </tr>\n",
       "    <tr>\n",
       "      <th>1</th>\n",
       "      <td>toyota</td>\n",
       "      <td>matrix</td>\n",
       "      <td>2012</td>\n",
       "      <td>regular_unleaded</td>\n",
       "      <td>132.0</td>\n",
       "      <td>4.0</td>\n",
       "      <td>automatic</td>\n",
       "      <td>front_wheel_drive</td>\n",
       "      <td>4.0</td>\n",
       "      <td>hatchback</td>\n",
       "      <td>compact</td>\n",
       "      <td>4dr_hatchback</td>\n",
       "      <td>32</td>\n",
       "      <td>25</td>\n",
       "      <td>2031</td>\n",
       "      <td>19685</td>\n",
       "    </tr>\n",
       "    <tr>\n",
       "      <th>2</th>\n",
       "      <td>subaru</td>\n",
       "      <td>impreza</td>\n",
       "      <td>2016</td>\n",
       "      <td>regular_unleaded</td>\n",
       "      <td>148.0</td>\n",
       "      <td>4.0</td>\n",
       "      <td>automatic</td>\n",
       "      <td>all_wheel_drive</td>\n",
       "      <td>4.0</td>\n",
       "      <td>hatchback</td>\n",
       "      <td>compact</td>\n",
       "      <td>4dr_hatchback</td>\n",
       "      <td>37</td>\n",
       "      <td>28</td>\n",
       "      <td>640</td>\n",
       "      <td>19795</td>\n",
       "    </tr>\n",
       "    <tr>\n",
       "      <th>3</th>\n",
       "      <td>volkswagen</td>\n",
       "      <td>vanagon</td>\n",
       "      <td>1991</td>\n",
       "      <td>regular_unleaded</td>\n",
       "      <td>90.0</td>\n",
       "      <td>4.0</td>\n",
       "      <td>manual</td>\n",
       "      <td>rear_wheel_drive</td>\n",
       "      <td>3.0</td>\n",
       "      <td>NaN</td>\n",
       "      <td>large</td>\n",
       "      <td>passenger_minivan</td>\n",
       "      <td>18</td>\n",
       "      <td>16</td>\n",
       "      <td>873</td>\n",
       "      <td>2000</td>\n",
       "    </tr>\n",
       "    <tr>\n",
       "      <th>4</th>\n",
       "      <td>ford</td>\n",
       "      <td>f-150</td>\n",
       "      <td>2017</td>\n",
       "      <td>flex-fuel_(unleaded/e85)</td>\n",
       "      <td>385.0</td>\n",
       "      <td>8.0</td>\n",
       "      <td>automatic</td>\n",
       "      <td>four_wheel_drive</td>\n",
       "      <td>4.0</td>\n",
       "      <td>flex_fuel</td>\n",
       "      <td>large</td>\n",
       "      <td>crew_cab_pickup</td>\n",
       "      <td>21</td>\n",
       "      <td>15</td>\n",
       "      <td>5657</td>\n",
       "      <td>56260</td>\n",
       "    </tr>\n",
       "    <tr>\n",
       "      <th>...</th>\n",
       "      <td>...</td>\n",
       "      <td>...</td>\n",
       "      <td>...</td>\n",
       "      <td>...</td>\n",
       "      <td>...</td>\n",
       "      <td>...</td>\n",
       "      <td>...</td>\n",
       "      <td>...</td>\n",
       "      <td>...</td>\n",
       "      <td>...</td>\n",
       "      <td>...</td>\n",
       "      <td>...</td>\n",
       "      <td>...</td>\n",
       "      <td>...</td>\n",
       "      <td>...</td>\n",
       "      <td>...</td>\n",
       "    </tr>\n",
       "    <tr>\n",
       "      <th>7145</th>\n",
       "      <td>bmw</td>\n",
       "      <td>4_series</td>\n",
       "      <td>2015</td>\n",
       "      <td>premium_unleaded_(required)</td>\n",
       "      <td>300.0</td>\n",
       "      <td>6.0</td>\n",
       "      <td>automatic</td>\n",
       "      <td>rear_wheel_drive</td>\n",
       "      <td>2.0</td>\n",
       "      <td>luxury,performance</td>\n",
       "      <td>midsize</td>\n",
       "      <td>convertible</td>\n",
       "      <td>31</td>\n",
       "      <td>20</td>\n",
       "      <td>3916</td>\n",
       "      <td>54900</td>\n",
       "    </tr>\n",
       "    <tr>\n",
       "      <th>7146</th>\n",
       "      <td>volkswagen</td>\n",
       "      <td>beetle</td>\n",
       "      <td>2015</td>\n",
       "      <td>premium_unleaded_(recommended)</td>\n",
       "      <td>210.0</td>\n",
       "      <td>4.0</td>\n",
       "      <td>automated_manual</td>\n",
       "      <td>front_wheel_drive</td>\n",
       "      <td>2.0</td>\n",
       "      <td>hatchback,performance</td>\n",
       "      <td>compact</td>\n",
       "      <td>2dr_hatchback</td>\n",
       "      <td>30</td>\n",
       "      <td>24</td>\n",
       "      <td>873</td>\n",
       "      <td>29215</td>\n",
       "    </tr>\n",
       "    <tr>\n",
       "      <th>7147</th>\n",
       "      <td>gmc</td>\n",
       "      <td>sierra_1500</td>\n",
       "      <td>2015</td>\n",
       "      <td>flex-fuel_(unleaded/e85)</td>\n",
       "      <td>285.0</td>\n",
       "      <td>6.0</td>\n",
       "      <td>automatic</td>\n",
       "      <td>four_wheel_drive</td>\n",
       "      <td>4.0</td>\n",
       "      <td>flex_fuel</td>\n",
       "      <td>large</td>\n",
       "      <td>extended_cab_pickup</td>\n",
       "      <td>22</td>\n",
       "      <td>17</td>\n",
       "      <td>549</td>\n",
       "      <td>34675</td>\n",
       "    </tr>\n",
       "    <tr>\n",
       "      <th>7148</th>\n",
       "      <td>rolls-royce</td>\n",
       "      <td>ghost</td>\n",
       "      <td>2014</td>\n",
       "      <td>premium_unleaded_(required)</td>\n",
       "      <td>563.0</td>\n",
       "      <td>12.0</td>\n",
       "      <td>automatic</td>\n",
       "      <td>rear_wheel_drive</td>\n",
       "      <td>4.0</td>\n",
       "      <td>exotic,luxury,performance</td>\n",
       "      <td>large</td>\n",
       "      <td>sedan</td>\n",
       "      <td>21</td>\n",
       "      <td>13</td>\n",
       "      <td>86</td>\n",
       "      <td>303300</td>\n",
       "    </tr>\n",
       "    <tr>\n",
       "      <th>7149</th>\n",
       "      <td>volkswagen</td>\n",
       "      <td>cc</td>\n",
       "      <td>2017</td>\n",
       "      <td>premium_unleaded_(recommended)</td>\n",
       "      <td>200.0</td>\n",
       "      <td>4.0</td>\n",
       "      <td>automated_manual</td>\n",
       "      <td>front_wheel_drive</td>\n",
       "      <td>4.0</td>\n",
       "      <td>performance</td>\n",
       "      <td>midsize</td>\n",
       "      <td>sedan</td>\n",
       "      <td>31</td>\n",
       "      <td>22</td>\n",
       "      <td>873</td>\n",
       "      <td>37820</td>\n",
       "    </tr>\n",
       "  </tbody>\n",
       "</table>\n",
       "<p>7150 rows × 16 columns</p>\n",
       "</div>"
      ],
      "text/plain": [
       "             make        model  year                engine_fuel_type  \\\n",
       "0       chevrolet       cobalt  2008                regular_unleaded   \n",
       "1          toyota       matrix  2012                regular_unleaded   \n",
       "2          subaru      impreza  2016                regular_unleaded   \n",
       "3      volkswagen      vanagon  1991                regular_unleaded   \n",
       "4            ford        f-150  2017        flex-fuel_(unleaded/e85)   \n",
       "...           ...          ...   ...                             ...   \n",
       "7145          bmw     4_series  2015     premium_unleaded_(required)   \n",
       "7146   volkswagen       beetle  2015  premium_unleaded_(recommended)   \n",
       "7147          gmc  sierra_1500  2015        flex-fuel_(unleaded/e85)   \n",
       "7148  rolls-royce        ghost  2014     premium_unleaded_(required)   \n",
       "7149   volkswagen           cc  2017  premium_unleaded_(recommended)   \n",
       "\n",
       "      engine_hp  engine_cylinders transmission_type      driven_wheels  \\\n",
       "0         148.0               4.0            manual  front_wheel_drive   \n",
       "1         132.0               4.0         automatic  front_wheel_drive   \n",
       "2         148.0               4.0         automatic    all_wheel_drive   \n",
       "3          90.0               4.0            manual   rear_wheel_drive   \n",
       "4         385.0               8.0         automatic   four_wheel_drive   \n",
       "...         ...               ...               ...                ...   \n",
       "7145      300.0               6.0         automatic   rear_wheel_drive   \n",
       "7146      210.0               4.0  automated_manual  front_wheel_drive   \n",
       "7147      285.0               6.0         automatic   four_wheel_drive   \n",
       "7148      563.0              12.0         automatic   rear_wheel_drive   \n",
       "7149      200.0               4.0  automated_manual  front_wheel_drive   \n",
       "\n",
       "      number_of_doors            market_category vehicle_size  \\\n",
       "0                 2.0                        NaN      compact   \n",
       "1                 4.0                  hatchback      compact   \n",
       "2                 4.0                  hatchback      compact   \n",
       "3                 3.0                        NaN        large   \n",
       "4                 4.0                  flex_fuel        large   \n",
       "...               ...                        ...          ...   \n",
       "7145              2.0         luxury,performance      midsize   \n",
       "7146              2.0      hatchback,performance      compact   \n",
       "7147              4.0                  flex_fuel        large   \n",
       "7148              4.0  exotic,luxury,performance        large   \n",
       "7149              4.0                performance      midsize   \n",
       "\n",
       "            vehicle_style  highway_mpg  city_mpg  popularity    msrp  \n",
       "0                   coupe           33        24        1385   14410  \n",
       "1           4dr_hatchback           32        25        2031   19685  \n",
       "2           4dr_hatchback           37        28         640   19795  \n",
       "3       passenger_minivan           18        16         873    2000  \n",
       "4         crew_cab_pickup           21        15        5657   56260  \n",
       "...                   ...          ...       ...         ...     ...  \n",
       "7145          convertible           31        20        3916   54900  \n",
       "7146        2dr_hatchback           30        24         873   29215  \n",
       "7147  extended_cab_pickup           22        17         549   34675  \n",
       "7148                sedan           21        13          86  303300  \n",
       "7149                sedan           31        22         873   37820  \n",
       "\n",
       "[7150 rows x 16 columns]"
      ]
     },
     "execution_count": 26,
     "metadata": {},
     "output_type": "execute_result"
    }
   ],
   "source": [
    "df_train.reset_index(drop=True)"
   ]
  },
  {
   "cell_type": "code",
   "execution_count": 27,
   "id": "c584ccde-aa96-4152-aaf7-b48a1fff896a",
   "metadata": {},
   "outputs": [
    {
     "data": {
      "text/html": [
       "<div>\n",
       "<style scoped>\n",
       "    .dataframe tbody tr th:only-of-type {\n",
       "        vertical-align: middle;\n",
       "    }\n",
       "\n",
       "    .dataframe tbody tr th {\n",
       "        vertical-align: top;\n",
       "    }\n",
       "\n",
       "    .dataframe thead th {\n",
       "        text-align: right;\n",
       "    }\n",
       "</style>\n",
       "<table border=\"1\" class=\"dataframe\">\n",
       "  <thead>\n",
       "    <tr style=\"text-align: right;\">\n",
       "      <th></th>\n",
       "      <th>make</th>\n",
       "      <th>model</th>\n",
       "      <th>year</th>\n",
       "      <th>engine_fuel_type</th>\n",
       "      <th>engine_hp</th>\n",
       "      <th>engine_cylinders</th>\n",
       "      <th>transmission_type</th>\n",
       "      <th>driven_wheels</th>\n",
       "      <th>number_of_doors</th>\n",
       "      <th>market_category</th>\n",
       "      <th>vehicle_size</th>\n",
       "      <th>vehicle_style</th>\n",
       "      <th>highway_mpg</th>\n",
       "      <th>city_mpg</th>\n",
       "      <th>popularity</th>\n",
       "      <th>msrp</th>\n",
       "    </tr>\n",
       "  </thead>\n",
       "  <tbody>\n",
       "    <tr>\n",
       "      <th>0</th>\n",
       "      <td>chevrolet</td>\n",
       "      <td>colorado</td>\n",
       "      <td>2015</td>\n",
       "      <td>regular_unleaded</td>\n",
       "      <td>200.0</td>\n",
       "      <td>4.0</td>\n",
       "      <td>automatic</td>\n",
       "      <td>four_wheel_drive</td>\n",
       "      <td>4.0</td>\n",
       "      <td>NaN</td>\n",
       "      <td>compact</td>\n",
       "      <td>extended_cab_pickup</td>\n",
       "      <td>25</td>\n",
       "      <td>19</td>\n",
       "      <td>1385</td>\n",
       "      <td>26885</td>\n",
       "    </tr>\n",
       "    <tr>\n",
       "      <th>1</th>\n",
       "      <td>mercedes-benz</td>\n",
       "      <td>e-class</td>\n",
       "      <td>2017</td>\n",
       "      <td>premium_unleaded_(required)</td>\n",
       "      <td>241.0</td>\n",
       "      <td>4.0</td>\n",
       "      <td>automatic</td>\n",
       "      <td>all_wheel_drive</td>\n",
       "      <td>4.0</td>\n",
       "      <td>luxury</td>\n",
       "      <td>midsize</td>\n",
       "      <td>sedan</td>\n",
       "      <td>29</td>\n",
       "      <td>22</td>\n",
       "      <td>617</td>\n",
       "      <td>54650</td>\n",
       "    </tr>\n",
       "    <tr>\n",
       "      <th>2</th>\n",
       "      <td>ford</td>\n",
       "      <td>focus</td>\n",
       "      <td>2017</td>\n",
       "      <td>flex-fuel_(unleaded/e85)</td>\n",
       "      <td>160.0</td>\n",
       "      <td>4.0</td>\n",
       "      <td>manual</td>\n",
       "      <td>front_wheel_drive</td>\n",
       "      <td>4.0</td>\n",
       "      <td>flex_fuel</td>\n",
       "      <td>compact</td>\n",
       "      <td>sedan</td>\n",
       "      <td>36</td>\n",
       "      <td>26</td>\n",
       "      <td>5657</td>\n",
       "      <td>16775</td>\n",
       "    </tr>\n",
       "    <tr>\n",
       "      <th>3</th>\n",
       "      <td>acura</td>\n",
       "      <td>tlx</td>\n",
       "      <td>2016</td>\n",
       "      <td>premium_unleaded_(recommended)</td>\n",
       "      <td>290.0</td>\n",
       "      <td>6.0</td>\n",
       "      <td>automatic</td>\n",
       "      <td>front_wheel_drive</td>\n",
       "      <td>4.0</td>\n",
       "      <td>luxury</td>\n",
       "      <td>midsize</td>\n",
       "      <td>sedan</td>\n",
       "      <td>34</td>\n",
       "      <td>21</td>\n",
       "      <td>204</td>\n",
       "      <td>42600</td>\n",
       "    </tr>\n",
       "    <tr>\n",
       "      <th>4</th>\n",
       "      <td>volkswagen</td>\n",
       "      <td>beetle_convertible</td>\n",
       "      <td>2016</td>\n",
       "      <td>regular_unleaded</td>\n",
       "      <td>170.0</td>\n",
       "      <td>4.0</td>\n",
       "      <td>automatic</td>\n",
       "      <td>front_wheel_drive</td>\n",
       "      <td>2.0</td>\n",
       "      <td>NaN</td>\n",
       "      <td>compact</td>\n",
       "      <td>convertible</td>\n",
       "      <td>34</td>\n",
       "      <td>25</td>\n",
       "      <td>873</td>\n",
       "      <td>25995</td>\n",
       "    </tr>\n",
       "    <tr>\n",
       "      <th>...</th>\n",
       "      <td>...</td>\n",
       "      <td>...</td>\n",
       "      <td>...</td>\n",
       "      <td>...</td>\n",
       "      <td>...</td>\n",
       "      <td>...</td>\n",
       "      <td>...</td>\n",
       "      <td>...</td>\n",
       "      <td>...</td>\n",
       "      <td>...</td>\n",
       "      <td>...</td>\n",
       "      <td>...</td>\n",
       "      <td>...</td>\n",
       "      <td>...</td>\n",
       "      <td>...</td>\n",
       "      <td>...</td>\n",
       "    </tr>\n",
       "    <tr>\n",
       "      <th>2377</th>\n",
       "      <td>volvo</td>\n",
       "      <td>v60</td>\n",
       "      <td>2015</td>\n",
       "      <td>regular_unleaded</td>\n",
       "      <td>240.0</td>\n",
       "      <td>4.0</td>\n",
       "      <td>automatic</td>\n",
       "      <td>front_wheel_drive</td>\n",
       "      <td>4.0</td>\n",
       "      <td>luxury</td>\n",
       "      <td>midsize</td>\n",
       "      <td>wagon</td>\n",
       "      <td>37</td>\n",
       "      <td>25</td>\n",
       "      <td>870</td>\n",
       "      <td>35750</td>\n",
       "    </tr>\n",
       "    <tr>\n",
       "      <th>2378</th>\n",
       "      <td>maserati</td>\n",
       "      <td>granturismo_convertible</td>\n",
       "      <td>2015</td>\n",
       "      <td>premium_unleaded_(required)</td>\n",
       "      <td>444.0</td>\n",
       "      <td>8.0</td>\n",
       "      <td>automatic</td>\n",
       "      <td>rear_wheel_drive</td>\n",
       "      <td>2.0</td>\n",
       "      <td>exotic,luxury,high-performance</td>\n",
       "      <td>midsize</td>\n",
       "      <td>convertible</td>\n",
       "      <td>20</td>\n",
       "      <td>13</td>\n",
       "      <td>238</td>\n",
       "      <td>145740</td>\n",
       "    </tr>\n",
       "    <tr>\n",
       "      <th>2379</th>\n",
       "      <td>cadillac</td>\n",
       "      <td>escalade_hybrid</td>\n",
       "      <td>2013</td>\n",
       "      <td>regular_unleaded</td>\n",
       "      <td>332.0</td>\n",
       "      <td>8.0</td>\n",
       "      <td>automatic</td>\n",
       "      <td>rear_wheel_drive</td>\n",
       "      <td>4.0</td>\n",
       "      <td>luxury,hybrid</td>\n",
       "      <td>large</td>\n",
       "      <td>4dr_suv</td>\n",
       "      <td>23</td>\n",
       "      <td>20</td>\n",
       "      <td>1624</td>\n",
       "      <td>74425</td>\n",
       "    </tr>\n",
       "    <tr>\n",
       "      <th>2380</th>\n",
       "      <td>mitsubishi</td>\n",
       "      <td>lancer</td>\n",
       "      <td>2016</td>\n",
       "      <td>regular_unleaded</td>\n",
       "      <td>148.0</td>\n",
       "      <td>4.0</td>\n",
       "      <td>manual</td>\n",
       "      <td>front_wheel_drive</td>\n",
       "      <td>4.0</td>\n",
       "      <td>NaN</td>\n",
       "      <td>compact</td>\n",
       "      <td>sedan</td>\n",
       "      <td>34</td>\n",
       "      <td>24</td>\n",
       "      <td>436</td>\n",
       "      <td>17595</td>\n",
       "    </tr>\n",
       "    <tr>\n",
       "      <th>2381</th>\n",
       "      <td>kia</td>\n",
       "      <td>sorento</td>\n",
       "      <td>2015</td>\n",
       "      <td>regular_unleaded</td>\n",
       "      <td>290.0</td>\n",
       "      <td>6.0</td>\n",
       "      <td>automatic</td>\n",
       "      <td>front_wheel_drive</td>\n",
       "      <td>4.0</td>\n",
       "      <td>crossover</td>\n",
       "      <td>midsize</td>\n",
       "      <td>4dr_suv</td>\n",
       "      <td>25</td>\n",
       "      <td>18</td>\n",
       "      <td>1720</td>\n",
       "      <td>26700</td>\n",
       "    </tr>\n",
       "  </tbody>\n",
       "</table>\n",
       "<p>2382 rows × 16 columns</p>\n",
       "</div>"
      ],
      "text/plain": [
       "               make                    model  year  \\\n",
       "0         chevrolet                 colorado  2015   \n",
       "1     mercedes-benz                  e-class  2017   \n",
       "2              ford                    focus  2017   \n",
       "3             acura                      tlx  2016   \n",
       "4        volkswagen       beetle_convertible  2016   \n",
       "...             ...                      ...   ...   \n",
       "2377          volvo                      v60  2015   \n",
       "2378       maserati  granturismo_convertible  2015   \n",
       "2379       cadillac          escalade_hybrid  2013   \n",
       "2380     mitsubishi                   lancer  2016   \n",
       "2381            kia                  sorento  2015   \n",
       "\n",
       "                    engine_fuel_type  engine_hp  engine_cylinders  \\\n",
       "0                   regular_unleaded      200.0               4.0   \n",
       "1        premium_unleaded_(required)      241.0               4.0   \n",
       "2           flex-fuel_(unleaded/e85)      160.0               4.0   \n",
       "3     premium_unleaded_(recommended)      290.0               6.0   \n",
       "4                   regular_unleaded      170.0               4.0   \n",
       "...                              ...        ...               ...   \n",
       "2377                regular_unleaded      240.0               4.0   \n",
       "2378     premium_unleaded_(required)      444.0               8.0   \n",
       "2379                regular_unleaded      332.0               8.0   \n",
       "2380                regular_unleaded      148.0               4.0   \n",
       "2381                regular_unleaded      290.0               6.0   \n",
       "\n",
       "     transmission_type      driven_wheels  number_of_doors  \\\n",
       "0            automatic   four_wheel_drive              4.0   \n",
       "1            automatic    all_wheel_drive              4.0   \n",
       "2               manual  front_wheel_drive              4.0   \n",
       "3            automatic  front_wheel_drive              4.0   \n",
       "4            automatic  front_wheel_drive              2.0   \n",
       "...                ...                ...              ...   \n",
       "2377         automatic  front_wheel_drive              4.0   \n",
       "2378         automatic   rear_wheel_drive              2.0   \n",
       "2379         automatic   rear_wheel_drive              4.0   \n",
       "2380            manual  front_wheel_drive              4.0   \n",
       "2381         automatic  front_wheel_drive              4.0   \n",
       "\n",
       "                     market_category vehicle_size        vehicle_style  \\\n",
       "0                                NaN      compact  extended_cab_pickup   \n",
       "1                             luxury      midsize                sedan   \n",
       "2                          flex_fuel      compact                sedan   \n",
       "3                             luxury      midsize                sedan   \n",
       "4                                NaN      compact          convertible   \n",
       "...                              ...          ...                  ...   \n",
       "2377                          luxury      midsize                wagon   \n",
       "2378  exotic,luxury,high-performance      midsize          convertible   \n",
       "2379                   luxury,hybrid        large              4dr_suv   \n",
       "2380                             NaN      compact                sedan   \n",
       "2381                       crossover      midsize              4dr_suv   \n",
       "\n",
       "      highway_mpg  city_mpg  popularity    msrp  \n",
       "0              25        19        1385   26885  \n",
       "1              29        22         617   54650  \n",
       "2              36        26        5657   16775  \n",
       "3              34        21         204   42600  \n",
       "4              34        25         873   25995  \n",
       "...           ...       ...         ...     ...  \n",
       "2377           37        25         870   35750  \n",
       "2378           20        13         238  145740  \n",
       "2379           23        20        1624   74425  \n",
       "2380           34        24         436   17595  \n",
       "2381           25        18        1720   26700  \n",
       "\n",
       "[2382 rows x 16 columns]"
      ]
     },
     "execution_count": 27,
     "metadata": {},
     "output_type": "execute_result"
    }
   ],
   "source": [
    "df_val.reset_index(drop=True)"
   ]
  },
  {
   "cell_type": "code",
   "execution_count": 28,
   "id": "70872638-cb40-4671-a740-d27a7322da94",
   "metadata": {},
   "outputs": [
    {
     "data": {
      "text/html": [
       "<div>\n",
       "<style scoped>\n",
       "    .dataframe tbody tr th:only-of-type {\n",
       "        vertical-align: middle;\n",
       "    }\n",
       "\n",
       "    .dataframe tbody tr th {\n",
       "        vertical-align: top;\n",
       "    }\n",
       "\n",
       "    .dataframe thead th {\n",
       "        text-align: right;\n",
       "    }\n",
       "</style>\n",
       "<table border=\"1\" class=\"dataframe\">\n",
       "  <thead>\n",
       "    <tr style=\"text-align: right;\">\n",
       "      <th></th>\n",
       "      <th>make</th>\n",
       "      <th>model</th>\n",
       "      <th>year</th>\n",
       "      <th>engine_fuel_type</th>\n",
       "      <th>engine_hp</th>\n",
       "      <th>engine_cylinders</th>\n",
       "      <th>transmission_type</th>\n",
       "      <th>driven_wheels</th>\n",
       "      <th>number_of_doors</th>\n",
       "      <th>market_category</th>\n",
       "      <th>vehicle_size</th>\n",
       "      <th>vehicle_style</th>\n",
       "      <th>highway_mpg</th>\n",
       "      <th>city_mpg</th>\n",
       "      <th>popularity</th>\n",
       "      <th>msrp</th>\n",
       "    </tr>\n",
       "  </thead>\n",
       "  <tbody>\n",
       "    <tr>\n",
       "      <th>0</th>\n",
       "      <td>gmc</td>\n",
       "      <td>vandura</td>\n",
       "      <td>1994</td>\n",
       "      <td>regular_unleaded</td>\n",
       "      <td>165.0</td>\n",
       "      <td>6.0</td>\n",
       "      <td>automatic</td>\n",
       "      <td>rear_wheel_drive</td>\n",
       "      <td>3.0</td>\n",
       "      <td>NaN</td>\n",
       "      <td>compact</td>\n",
       "      <td>cargo_van</td>\n",
       "      <td>20</td>\n",
       "      <td>15</td>\n",
       "      <td>549</td>\n",
       "      <td>2000</td>\n",
       "    </tr>\n",
       "    <tr>\n",
       "      <th>1</th>\n",
       "      <td>mercedes-benz</td>\n",
       "      <td>600-class</td>\n",
       "      <td>1993</td>\n",
       "      <td>regular_unleaded</td>\n",
       "      <td>389.0</td>\n",
       "      <td>12.0</td>\n",
       "      <td>automatic</td>\n",
       "      <td>rear_wheel_drive</td>\n",
       "      <td>2.0</td>\n",
       "      <td>luxury</td>\n",
       "      <td>large</td>\n",
       "      <td>coupe</td>\n",
       "      <td>15</td>\n",
       "      <td>11</td>\n",
       "      <td>617</td>\n",
       "      <td>3211</td>\n",
       "    </tr>\n",
       "    <tr>\n",
       "      <th>2</th>\n",
       "      <td>toyota</td>\n",
       "      <td>venza</td>\n",
       "      <td>2013</td>\n",
       "      <td>regular_unleaded</td>\n",
       "      <td>268.0</td>\n",
       "      <td>6.0</td>\n",
       "      <td>automatic</td>\n",
       "      <td>all_wheel_drive</td>\n",
       "      <td>4.0</td>\n",
       "      <td>crossover,performance</td>\n",
       "      <td>midsize</td>\n",
       "      <td>wagon</td>\n",
       "      <td>25</td>\n",
       "      <td>18</td>\n",
       "      <td>2031</td>\n",
       "      <td>31120</td>\n",
       "    </tr>\n",
       "    <tr>\n",
       "      <th>3</th>\n",
       "      <td>volvo</td>\n",
       "      <td>740</td>\n",
       "      <td>1992</td>\n",
       "      <td>regular_unleaded</td>\n",
       "      <td>114.0</td>\n",
       "      <td>4.0</td>\n",
       "      <td>automatic</td>\n",
       "      <td>rear_wheel_drive</td>\n",
       "      <td>4.0</td>\n",
       "      <td>luxury</td>\n",
       "      <td>midsize</td>\n",
       "      <td>sedan</td>\n",
       "      <td>26</td>\n",
       "      <td>18</td>\n",
       "      <td>870</td>\n",
       "      <td>2000</td>\n",
       "    </tr>\n",
       "    <tr>\n",
       "      <th>4</th>\n",
       "      <td>ford</td>\n",
       "      <td>crown_victoria</td>\n",
       "      <td>2010</td>\n",
       "      <td>flex-fuel_(unleaded/e85)</td>\n",
       "      <td>224.0</td>\n",
       "      <td>8.0</td>\n",
       "      <td>automatic</td>\n",
       "      <td>rear_wheel_drive</td>\n",
       "      <td>4.0</td>\n",
       "      <td>flex_fuel</td>\n",
       "      <td>large</td>\n",
       "      <td>sedan</td>\n",
       "      <td>24</td>\n",
       "      <td>16</td>\n",
       "      <td>5657</td>\n",
       "      <td>29905</td>\n",
       "    </tr>\n",
       "    <tr>\n",
       "      <th>...</th>\n",
       "      <td>...</td>\n",
       "      <td>...</td>\n",
       "      <td>...</td>\n",
       "      <td>...</td>\n",
       "      <td>...</td>\n",
       "      <td>...</td>\n",
       "      <td>...</td>\n",
       "      <td>...</td>\n",
       "      <td>...</td>\n",
       "      <td>...</td>\n",
       "      <td>...</td>\n",
       "      <td>...</td>\n",
       "      <td>...</td>\n",
       "      <td>...</td>\n",
       "      <td>...</td>\n",
       "      <td>...</td>\n",
       "    </tr>\n",
       "    <tr>\n",
       "      <th>2377</th>\n",
       "      <td>chevrolet</td>\n",
       "      <td>chevy_van</td>\n",
       "      <td>1998</td>\n",
       "      <td>regular_unleaded</td>\n",
       "      <td>200.0</td>\n",
       "      <td>6.0</td>\n",
       "      <td>automatic</td>\n",
       "      <td>rear_wheel_drive</td>\n",
       "      <td>3.0</td>\n",
       "      <td>NaN</td>\n",
       "      <td>midsize</td>\n",
       "      <td>cargo_van</td>\n",
       "      <td>18</td>\n",
       "      <td>13</td>\n",
       "      <td>1385</td>\n",
       "      <td>2052</td>\n",
       "    </tr>\n",
       "    <tr>\n",
       "      <th>2378</th>\n",
       "      <td>subaru</td>\n",
       "      <td>xv_crosstrek</td>\n",
       "      <td>2014</td>\n",
       "      <td>regular_unleaded</td>\n",
       "      <td>160.0</td>\n",
       "      <td>4.0</td>\n",
       "      <td>automatic</td>\n",
       "      <td>all_wheel_drive</td>\n",
       "      <td>4.0</td>\n",
       "      <td>crossover,hybrid</td>\n",
       "      <td>compact</td>\n",
       "      <td>4dr_suv</td>\n",
       "      <td>33</td>\n",
       "      <td>29</td>\n",
       "      <td>640</td>\n",
       "      <td>25995</td>\n",
       "    </tr>\n",
       "    <tr>\n",
       "      <th>2379</th>\n",
       "      <td>dodge</td>\n",
       "      <td>magnum</td>\n",
       "      <td>2006</td>\n",
       "      <td>regular_unleaded</td>\n",
       "      <td>250.0</td>\n",
       "      <td>6.0</td>\n",
       "      <td>automatic</td>\n",
       "      <td>all_wheel_drive</td>\n",
       "      <td>4.0</td>\n",
       "      <td>NaN</td>\n",
       "      <td>large</td>\n",
       "      <td>wagon</td>\n",
       "      <td>22</td>\n",
       "      <td>15</td>\n",
       "      <td>1851</td>\n",
       "      <td>29100</td>\n",
       "    </tr>\n",
       "    <tr>\n",
       "      <th>2380</th>\n",
       "      <td>honda</td>\n",
       "      <td>civic</td>\n",
       "      <td>2016</td>\n",
       "      <td>regular_unleaded</td>\n",
       "      <td>174.0</td>\n",
       "      <td>4.0</td>\n",
       "      <td>automatic</td>\n",
       "      <td>front_wheel_drive</td>\n",
       "      <td>4.0</td>\n",
       "      <td>NaN</td>\n",
       "      <td>midsize</td>\n",
       "      <td>sedan</td>\n",
       "      <td>42</td>\n",
       "      <td>31</td>\n",
       "      <td>2202</td>\n",
       "      <td>22200</td>\n",
       "    </tr>\n",
       "    <tr>\n",
       "      <th>2381</th>\n",
       "      <td>subaru</td>\n",
       "      <td>outback</td>\n",
       "      <td>2015</td>\n",
       "      <td>regular_unleaded</td>\n",
       "      <td>256.0</td>\n",
       "      <td>6.0</td>\n",
       "      <td>automatic</td>\n",
       "      <td>all_wheel_drive</td>\n",
       "      <td>4.0</td>\n",
       "      <td>crossover</td>\n",
       "      <td>midsize</td>\n",
       "      <td>4dr_suv</td>\n",
       "      <td>27</td>\n",
       "      <td>20</td>\n",
       "      <td>640</td>\n",
       "      <td>32995</td>\n",
       "    </tr>\n",
       "  </tbody>\n",
       "</table>\n",
       "<p>2382 rows × 16 columns</p>\n",
       "</div>"
      ],
      "text/plain": [
       "               make           model  year          engine_fuel_type  \\\n",
       "0               gmc         vandura  1994          regular_unleaded   \n",
       "1     mercedes-benz       600-class  1993          regular_unleaded   \n",
       "2            toyota           venza  2013          regular_unleaded   \n",
       "3             volvo             740  1992          regular_unleaded   \n",
       "4              ford  crown_victoria  2010  flex-fuel_(unleaded/e85)   \n",
       "...             ...             ...   ...                       ...   \n",
       "2377      chevrolet       chevy_van  1998          regular_unleaded   \n",
       "2378         subaru    xv_crosstrek  2014          regular_unleaded   \n",
       "2379          dodge          magnum  2006          regular_unleaded   \n",
       "2380          honda           civic  2016          regular_unleaded   \n",
       "2381         subaru         outback  2015          regular_unleaded   \n",
       "\n",
       "      engine_hp  engine_cylinders transmission_type      driven_wheels  \\\n",
       "0         165.0               6.0         automatic   rear_wheel_drive   \n",
       "1         389.0              12.0         automatic   rear_wheel_drive   \n",
       "2         268.0               6.0         automatic    all_wheel_drive   \n",
       "3         114.0               4.0         automatic   rear_wheel_drive   \n",
       "4         224.0               8.0         automatic   rear_wheel_drive   \n",
       "...         ...               ...               ...                ...   \n",
       "2377      200.0               6.0         automatic   rear_wheel_drive   \n",
       "2378      160.0               4.0         automatic    all_wheel_drive   \n",
       "2379      250.0               6.0         automatic    all_wheel_drive   \n",
       "2380      174.0               4.0         automatic  front_wheel_drive   \n",
       "2381      256.0               6.0         automatic    all_wheel_drive   \n",
       "\n",
       "      number_of_doors        market_category vehicle_size vehicle_style  \\\n",
       "0                 3.0                    NaN      compact     cargo_van   \n",
       "1                 2.0                 luxury        large         coupe   \n",
       "2                 4.0  crossover,performance      midsize         wagon   \n",
       "3                 4.0                 luxury      midsize         sedan   \n",
       "4                 4.0              flex_fuel        large         sedan   \n",
       "...               ...                    ...          ...           ...   \n",
       "2377              3.0                    NaN      midsize     cargo_van   \n",
       "2378              4.0       crossover,hybrid      compact       4dr_suv   \n",
       "2379              4.0                    NaN        large         wagon   \n",
       "2380              4.0                    NaN      midsize         sedan   \n",
       "2381              4.0              crossover      midsize       4dr_suv   \n",
       "\n",
       "      highway_mpg  city_mpg  popularity   msrp  \n",
       "0              20        15         549   2000  \n",
       "1              15        11         617   3211  \n",
       "2              25        18        2031  31120  \n",
       "3              26        18         870   2000  \n",
       "4              24        16        5657  29905  \n",
       "...           ...       ...         ...    ...  \n",
       "2377           18        13        1385   2052  \n",
       "2378           33        29         640  25995  \n",
       "2379           22        15        1851  29100  \n",
       "2380           42        31        2202  22200  \n",
       "2381           27        20         640  32995  \n",
       "\n",
       "[2382 rows x 16 columns]"
      ]
     },
     "execution_count": 28,
     "metadata": {},
     "output_type": "execute_result"
    }
   ],
   "source": [
    "df_test.reset_index(drop=True)"
   ]
  },
  {
   "cell_type": "code",
   "execution_count": 29,
   "id": "c523728e-d335-43aa-99d5-05812496c144",
   "metadata": {},
   "outputs": [
    {
     "data": {
      "text/plain": [
       "(7150, 2382, 2382)"
      ]
     },
     "execution_count": 29,
     "metadata": {},
     "output_type": "execute_result"
    }
   ],
   "source": [
    "# Sanity check length\n",
    "len(df_train),len(df_test),len(df_val)"
   ]
  },
  {
   "cell_type": "code",
   "execution_count": 30,
   "id": "2021ba56-dfda-44e3-8b24-cb5fcc1696a3",
   "metadata": {},
   "outputs": [],
   "source": [
    "# Extract y_train,y_test,y_val\n",
    "y_train = np.log1p(df_train.msrp.values)\n",
    "y_val = np.log1p(df_val.msrp.values)\n",
    "y_test = np.log1p(df_test.msrp.values)"
   ]
  },
  {
   "cell_type": "code",
   "execution_count": 31,
   "id": "dbdd9458-3f7f-43bf-81ac-5112c83b03e6",
   "metadata": {},
   "outputs": [],
   "source": [
    "# Remove target column from data so we don't accidentally use it\n",
    "del df_train['msrp']\n",
    "del df_val['msrp']\n",
    "del df_test['msrp']"
   ]
  },
  {
   "cell_type": "code",
   "execution_count": 32,
   "id": "752d82fa-92b7-4459-8c7c-ee5ac7f1eccb",
   "metadata": {},
   "outputs": [
    {
     "data": {
      "text/html": [
       "<div>\n",
       "<style scoped>\n",
       "    .dataframe tbody tr th:only-of-type {\n",
       "        vertical-align: middle;\n",
       "    }\n",
       "\n",
       "    .dataframe tbody tr th {\n",
       "        vertical-align: top;\n",
       "    }\n",
       "\n",
       "    .dataframe thead th {\n",
       "        text-align: right;\n",
       "    }\n",
       "</style>\n",
       "<table border=\"1\" class=\"dataframe\">\n",
       "  <thead>\n",
       "    <tr style=\"text-align: right;\">\n",
       "      <th></th>\n",
       "      <th>make</th>\n",
       "      <th>model</th>\n",
       "      <th>year</th>\n",
       "      <th>engine_fuel_type</th>\n",
       "      <th>engine_hp</th>\n",
       "      <th>engine_cylinders</th>\n",
       "      <th>transmission_type</th>\n",
       "      <th>driven_wheels</th>\n",
       "      <th>number_of_doors</th>\n",
       "      <th>market_category</th>\n",
       "      <th>vehicle_size</th>\n",
       "      <th>vehicle_style</th>\n",
       "      <th>highway_mpg</th>\n",
       "      <th>city_mpg</th>\n",
       "      <th>popularity</th>\n",
       "    </tr>\n",
       "  </thead>\n",
       "  <tbody>\n",
       "    <tr>\n",
       "      <th>2779</th>\n",
       "      <td>chevrolet</td>\n",
       "      <td>colorado</td>\n",
       "      <td>2015</td>\n",
       "      <td>regular_unleaded</td>\n",
       "      <td>200.0</td>\n",
       "      <td>4.0</td>\n",
       "      <td>automatic</td>\n",
       "      <td>four_wheel_drive</td>\n",
       "      <td>4.0</td>\n",
       "      <td>NaN</td>\n",
       "      <td>compact</td>\n",
       "      <td>extended_cab_pickup</td>\n",
       "      <td>25</td>\n",
       "      <td>19</td>\n",
       "      <td>1385</td>\n",
       "    </tr>\n",
       "    <tr>\n",
       "      <th>3708</th>\n",
       "      <td>mercedes-benz</td>\n",
       "      <td>e-class</td>\n",
       "      <td>2017</td>\n",
       "      <td>premium_unleaded_(required)</td>\n",
       "      <td>241.0</td>\n",
       "      <td>4.0</td>\n",
       "      <td>automatic</td>\n",
       "      <td>all_wheel_drive</td>\n",
       "      <td>4.0</td>\n",
       "      <td>luxury</td>\n",
       "      <td>midsize</td>\n",
       "      <td>sedan</td>\n",
       "      <td>29</td>\n",
       "      <td>22</td>\n",
       "      <td>617</td>\n",
       "    </tr>\n",
       "    <tr>\n",
       "      <th>4794</th>\n",
       "      <td>ford</td>\n",
       "      <td>focus</td>\n",
       "      <td>2017</td>\n",
       "      <td>flex-fuel_(unleaded/e85)</td>\n",
       "      <td>160.0</td>\n",
       "      <td>4.0</td>\n",
       "      <td>manual</td>\n",
       "      <td>front_wheel_drive</td>\n",
       "      <td>4.0</td>\n",
       "      <td>flex_fuel</td>\n",
       "      <td>compact</td>\n",
       "      <td>sedan</td>\n",
       "      <td>36</td>\n",
       "      <td>26</td>\n",
       "      <td>5657</td>\n",
       "    </tr>\n",
       "    <tr>\n",
       "      <th>10498</th>\n",
       "      <td>acura</td>\n",
       "      <td>tlx</td>\n",
       "      <td>2016</td>\n",
       "      <td>premium_unleaded_(recommended)</td>\n",
       "      <td>290.0</td>\n",
       "      <td>6.0</td>\n",
       "      <td>automatic</td>\n",
       "      <td>front_wheel_drive</td>\n",
       "      <td>4.0</td>\n",
       "      <td>luxury</td>\n",
       "      <td>midsize</td>\n",
       "      <td>sedan</td>\n",
       "      <td>34</td>\n",
       "      <td>21</td>\n",
       "      <td>204</td>\n",
       "    </tr>\n",
       "    <tr>\n",
       "      <th>1880</th>\n",
       "      <td>volkswagen</td>\n",
       "      <td>beetle_convertible</td>\n",
       "      <td>2016</td>\n",
       "      <td>regular_unleaded</td>\n",
       "      <td>170.0</td>\n",
       "      <td>4.0</td>\n",
       "      <td>automatic</td>\n",
       "      <td>front_wheel_drive</td>\n",
       "      <td>2.0</td>\n",
       "      <td>NaN</td>\n",
       "      <td>compact</td>\n",
       "      <td>convertible</td>\n",
       "      <td>34</td>\n",
       "      <td>25</td>\n",
       "      <td>873</td>\n",
       "    </tr>\n",
       "    <tr>\n",
       "      <th>...</th>\n",
       "      <td>...</td>\n",
       "      <td>...</td>\n",
       "      <td>...</td>\n",
       "      <td>...</td>\n",
       "      <td>...</td>\n",
       "      <td>...</td>\n",
       "      <td>...</td>\n",
       "      <td>...</td>\n",
       "      <td>...</td>\n",
       "      <td>...</td>\n",
       "      <td>...</td>\n",
       "      <td>...</td>\n",
       "      <td>...</td>\n",
       "      <td>...</td>\n",
       "      <td>...</td>\n",
       "    </tr>\n",
       "    <tr>\n",
       "      <th>11123</th>\n",
       "      <td>volvo</td>\n",
       "      <td>v60</td>\n",
       "      <td>2015</td>\n",
       "      <td>regular_unleaded</td>\n",
       "      <td>240.0</td>\n",
       "      <td>4.0</td>\n",
       "      <td>automatic</td>\n",
       "      <td>front_wheel_drive</td>\n",
       "      <td>4.0</td>\n",
       "      <td>luxury</td>\n",
       "      <td>midsize</td>\n",
       "      <td>wagon</td>\n",
       "      <td>37</td>\n",
       "      <td>25</td>\n",
       "      <td>870</td>\n",
       "    </tr>\n",
       "    <tr>\n",
       "      <th>5549</th>\n",
       "      <td>maserati</td>\n",
       "      <td>granturismo_convertible</td>\n",
       "      <td>2015</td>\n",
       "      <td>premium_unleaded_(required)</td>\n",
       "      <td>444.0</td>\n",
       "      <td>8.0</td>\n",
       "      <td>automatic</td>\n",
       "      <td>rear_wheel_drive</td>\n",
       "      <td>2.0</td>\n",
       "      <td>exotic,luxury,high-performance</td>\n",
       "      <td>midsize</td>\n",
       "      <td>convertible</td>\n",
       "      <td>20</td>\n",
       "      <td>13</td>\n",
       "      <td>238</td>\n",
       "    </tr>\n",
       "    <tr>\n",
       "      <th>4146</th>\n",
       "      <td>cadillac</td>\n",
       "      <td>escalade_hybrid</td>\n",
       "      <td>2013</td>\n",
       "      <td>regular_unleaded</td>\n",
       "      <td>332.0</td>\n",
       "      <td>8.0</td>\n",
       "      <td>automatic</td>\n",
       "      <td>rear_wheel_drive</td>\n",
       "      <td>4.0</td>\n",
       "      <td>luxury,hybrid</td>\n",
       "      <td>large</td>\n",
       "      <td>4dr_suv</td>\n",
       "      <td>23</td>\n",
       "      <td>20</td>\n",
       "      <td>1624</td>\n",
       "    </tr>\n",
       "    <tr>\n",
       "      <th>6337</th>\n",
       "      <td>mitsubishi</td>\n",
       "      <td>lancer</td>\n",
       "      <td>2016</td>\n",
       "      <td>regular_unleaded</td>\n",
       "      <td>148.0</td>\n",
       "      <td>4.0</td>\n",
       "      <td>manual</td>\n",
       "      <td>front_wheel_drive</td>\n",
       "      <td>4.0</td>\n",
       "      <td>NaN</td>\n",
       "      <td>compact</td>\n",
       "      <td>sedan</td>\n",
       "      <td>34</td>\n",
       "      <td>24</td>\n",
       "      <td>436</td>\n",
       "    </tr>\n",
       "    <tr>\n",
       "      <th>9814</th>\n",
       "      <td>kia</td>\n",
       "      <td>sorento</td>\n",
       "      <td>2015</td>\n",
       "      <td>regular_unleaded</td>\n",
       "      <td>290.0</td>\n",
       "      <td>6.0</td>\n",
       "      <td>automatic</td>\n",
       "      <td>front_wheel_drive</td>\n",
       "      <td>4.0</td>\n",
       "      <td>crossover</td>\n",
       "      <td>midsize</td>\n",
       "      <td>4dr_suv</td>\n",
       "      <td>25</td>\n",
       "      <td>18</td>\n",
       "      <td>1720</td>\n",
       "    </tr>\n",
       "  </tbody>\n",
       "</table>\n",
       "<p>2382 rows × 15 columns</p>\n",
       "</div>"
      ],
      "text/plain": [
       "                make                    model  year  \\\n",
       "2779       chevrolet                 colorado  2015   \n",
       "3708   mercedes-benz                  e-class  2017   \n",
       "4794            ford                    focus  2017   \n",
       "10498          acura                      tlx  2016   \n",
       "1880      volkswagen       beetle_convertible  2016   \n",
       "...              ...                      ...   ...   \n",
       "11123          volvo                      v60  2015   \n",
       "5549        maserati  granturismo_convertible  2015   \n",
       "4146        cadillac          escalade_hybrid  2013   \n",
       "6337      mitsubishi                   lancer  2016   \n",
       "9814             kia                  sorento  2015   \n",
       "\n",
       "                     engine_fuel_type  engine_hp  engine_cylinders  \\\n",
       "2779                 regular_unleaded      200.0               4.0   \n",
       "3708      premium_unleaded_(required)      241.0               4.0   \n",
       "4794         flex-fuel_(unleaded/e85)      160.0               4.0   \n",
       "10498  premium_unleaded_(recommended)      290.0               6.0   \n",
       "1880                 regular_unleaded      170.0               4.0   \n",
       "...                               ...        ...               ...   \n",
       "11123                regular_unleaded      240.0               4.0   \n",
       "5549      premium_unleaded_(required)      444.0               8.0   \n",
       "4146                 regular_unleaded      332.0               8.0   \n",
       "6337                 regular_unleaded      148.0               4.0   \n",
       "9814                 regular_unleaded      290.0               6.0   \n",
       "\n",
       "      transmission_type      driven_wheels  number_of_doors  \\\n",
       "2779          automatic   four_wheel_drive              4.0   \n",
       "3708          automatic    all_wheel_drive              4.0   \n",
       "4794             manual  front_wheel_drive              4.0   \n",
       "10498         automatic  front_wheel_drive              4.0   \n",
       "1880          automatic  front_wheel_drive              2.0   \n",
       "...                 ...                ...              ...   \n",
       "11123         automatic  front_wheel_drive              4.0   \n",
       "5549          automatic   rear_wheel_drive              2.0   \n",
       "4146          automatic   rear_wheel_drive              4.0   \n",
       "6337             manual  front_wheel_drive              4.0   \n",
       "9814          automatic  front_wheel_drive              4.0   \n",
       "\n",
       "                      market_category vehicle_size        vehicle_style  \\\n",
       "2779                              NaN      compact  extended_cab_pickup   \n",
       "3708                           luxury      midsize                sedan   \n",
       "4794                        flex_fuel      compact                sedan   \n",
       "10498                          luxury      midsize                sedan   \n",
       "1880                              NaN      compact          convertible   \n",
       "...                               ...          ...                  ...   \n",
       "11123                          luxury      midsize                wagon   \n",
       "5549   exotic,luxury,high-performance      midsize          convertible   \n",
       "4146                    luxury,hybrid        large              4dr_suv   \n",
       "6337                              NaN      compact                sedan   \n",
       "9814                        crossover      midsize              4dr_suv   \n",
       "\n",
       "       highway_mpg  city_mpg  popularity  \n",
       "2779            25        19        1385  \n",
       "3708            29        22         617  \n",
       "4794            36        26        5657  \n",
       "10498           34        21         204  \n",
       "1880            34        25         873  \n",
       "...            ...       ...         ...  \n",
       "11123           37        25         870  \n",
       "5549            20        13         238  \n",
       "4146            23        20        1624  \n",
       "6337            34        24         436  \n",
       "9814            25        18        1720  \n",
       "\n",
       "[2382 rows x 15 columns]"
      ]
     },
     "execution_count": 32,
     "metadata": {},
     "output_type": "execute_result"
    }
   ],
   "source": [
    "df_val"
   ]
  },
  {
   "cell_type": "markdown",
   "id": "b508f658-a312-4f78-9f3c-fab91785427d",
   "metadata": {},
   "source": [
    "## 2.5 Linear Regression"
   ]
  },
  {
   "cell_type": "code",
   "execution_count": 33,
   "id": "94bc6509-8a07-4c53-a170-3b536c279ad7",
   "metadata": {},
   "outputs": [
    {
     "data": {
      "text/plain": [
       "make                                 rolls-royce\n",
       "model                     phantom_drophead_coupe\n",
       "year                                        2015\n",
       "engine_fuel_type     premium_unleaded_(required)\n",
       "engine_hp                                  453.0\n",
       "engine_cylinders                            12.0\n",
       "transmission_type                      automatic\n",
       "driven_wheels                   rear_wheel_drive\n",
       "number_of_doors                              2.0\n",
       "market_category        exotic,luxury,performance\n",
       "vehicle_size                               large\n",
       "vehicle_style                        convertible\n",
       "highway_mpg                                   19\n",
       "city_mpg                                      11\n",
       "popularity                                    86\n",
       "Name: 7557, dtype: object"
      ]
     },
     "execution_count": 33,
     "metadata": {},
     "output_type": "execute_result"
    }
   ],
   "source": [
    "df_train.iloc[10]"
   ]
  },
  {
   "cell_type": "code",
   "execution_count": 34,
   "id": "ab6b09c2-010a-4f1a-babe-0143f8e7364d",
   "metadata": {},
   "outputs": [],
   "source": [
    "# Taking engine_hp, city_mpg, popularity...\n",
    "# This is our feature matrix\n",
    "xi = [453,11,86]"
   ]
  },
  {
   "cell_type": "code",
   "execution_count": 35,
   "id": "dc141339-8db7-4d24-8e26-d1fae4a8f5a5",
   "metadata": {},
   "outputs": [],
   "source": [
    "w0 = 7.17\n",
    "w = [0.01,0.04,0.002]"
   ]
  },
  {
   "cell_type": "code",
   "execution_count": 36,
   "id": "7ff57f81-a9db-4a4f-a3c9-d87bb5f5687b",
   "metadata": {},
   "outputs": [],
   "source": [
    "def linear_regression(xi):\n",
    "    n = len(xi)\n",
    "\n",
    "    pred = w0\n",
    "\n",
    "    for j in range(n):\n",
    "        pred += w[j]*xi[j]\n",
    "        \n",
    "    return pred"
   ]
  },
  {
   "cell_type": "code",
   "execution_count": 37,
   "id": "53aa9089-f397-4119-a98a-2b8e6f564207",
   "metadata": {},
   "outputs": [],
   "source": [
    "ans = linear_regression(xi)"
   ]
  },
  {
   "cell_type": "code",
   "execution_count": 38,
   "id": "adee50fe-674f-4e94-be0e-b25b9c5b5e29",
   "metadata": {},
   "outputs": [
    {
     "data": {
      "text/plain": [
       "np.float64(222347.2221101062)"
      ]
     },
     "execution_count": 38,
     "metadata": {},
     "output_type": "execute_result"
    }
   ],
   "source": [
    "np.expm1(ans)"
   ]
  },
  {
   "cell_type": "markdown",
   "id": "2a8d24a8-0e51-4b08-9499-4878c82a2ddd",
   "metadata": {},
   "source": [
    "## 2.6 Linear Regression Form"
   ]
  },
  {
   "cell_type": "code",
   "execution_count": 39,
   "id": "d0487ab7-63c0-4e44-b89f-74de34850c0d",
   "metadata": {},
   "outputs": [
    {
     "data": {
      "text/plain": [
       "\"This uses a for loop, realizing we can use a dot product, we take an initial bias w0 and add it to the dot product of a car's features\\nand their weights, giving us the below:\""
      ]
     },
     "execution_count": 39,
     "metadata": {},
     "output_type": "execute_result"
    }
   ],
   "source": [
    "# Will generalize to vector form\n",
    "def dot(xi,w):\n",
    "    n = len(xi)\n",
    "    res = 0\n",
    "    for j in range(n):\n",
    "        res += xi[j] * w[j]\n",
    "    return res\n",
    "'''This uses a for loop, realizing we can use a dot product, we take an initial bias w0 and add it to the dot product of a car's features\n",
    "and their weights, giving us the below:'''\n"
   ]
  },
  {
   "cell_type": "code",
   "execution_count": 40,
   "id": "cba0d66a-fdcc-4bc9-8d7d-0e419c27df7d",
   "metadata": {},
   "outputs": [
    {
     "data": {
      "text/plain": [
       "' We can make this even cleaner by merging w0 with the other weights, but we need to add a 1 at x0 for equality, so first we prepend w0\\nand call it w_new'"
      ]
     },
     "execution_count": 40,
     "metadata": {},
     "output_type": "execute_result"
    }
   ],
   "source": [
    "def linear_regression(xi):  \n",
    "    return w0 + dot(xi,w)\n",
    "''' We can make this even cleaner by merging w0 with the other weights, but we need to add a 1 at x0 for equality, so first we prepend w0\n",
    "and call it w_new'''"
   ]
  },
  {
   "cell_type": "code",
   "execution_count": 41,
   "id": "8676dc6d-60d5-4bb3-a8f0-6476c9a9c880",
   "metadata": {},
   "outputs": [
    {
     "data": {
      "text/plain": [
       "[7.17, 0.01, 0.04, 0.002]"
      ]
     },
     "execution_count": 41,
     "metadata": {},
     "output_type": "execute_result"
    }
   ],
   "source": [
    "w_new = [w0] + w\n",
    "w_new"
   ]
  },
  {
   "cell_type": "code",
   "execution_count": 42,
   "id": "249ed415-773a-4982-9b96-aee24184832f",
   "metadata": {},
   "outputs": [],
   "source": [
    "''' Now we can consolidate the return to a dot product by adding 1 to the beginning of xi array'''\n",
    "def linear_regression(xi):  \n",
    "    xi = [1] + xi\n",
    "    return dot(xi,w_new)"
   ]
  },
  {
   "cell_type": "code",
   "execution_count": 43,
   "id": "78f1df46-5e2a-481e-92dd-624af5825591",
   "metadata": {},
   "outputs": [
    {
     "data": {
      "text/plain": [
       "12.312"
      ]
     },
     "execution_count": 43,
     "metadata": {},
     "output_type": "execute_result"
    }
   ],
   "source": [
    "'''This worked, but only for one row, or one car in this example.  Next step is to expand xi to X (matrix)'''\n",
    "linear_regression(xi)"
   ]
  },
  {
   "cell_type": "code",
   "execution_count": 44,
   "id": "92ca9041-751f-4be0-9c91-cb34d05bd277",
   "metadata": {},
   "outputs": [],
   "source": [
    "xi = [453,11,86]\n",
    "w0 = 7.17\n",
    "w = [0.01,0.04,0.002]"
   ]
  },
  {
   "cell_type": "code",
   "execution_count": 45,
   "id": "822d8412-36c0-4681-b198-d3c0058ecb7e",
   "metadata": {},
   "outputs": [
    {
     "data": {
      "text/plain": [
       "[7.17, 0.01, 0.04, 0.002]"
      ]
     },
     "execution_count": 45,
     "metadata": {},
     "output_type": "execute_result"
    }
   ],
   "source": [
    "w_new = [w0] + w\n",
    "w_new"
   ]
  },
  {
   "cell_type": "code",
   "execution_count": 46,
   "id": "573b1906-8804-4630-a10e-30469862720d",
   "metadata": {},
   "outputs": [],
   "source": [
    "'''Here we add more rows, with the 1's included at x0, then make a numpy array out of it'''\n",
    "x1 = [1,148,24,1385]\n",
    "x2 = [1,132,25,2031]\n",
    "x3 = [1,453,11,86]"
   ]
  },
  {
   "cell_type": "code",
   "execution_count": 47,
   "id": "d58730e3-6941-4f8b-b608-9b0e871ea00d",
   "metadata": {},
   "outputs": [
    {
     "data": {
      "text/plain": [
       "array([[   1,  148,   24, 1385],\n",
       "       [   1,  132,   25, 2031],\n",
       "       [   1,  453,   11,   86]])"
      ]
     },
     "execution_count": 47,
     "metadata": {},
     "output_type": "execute_result"
    }
   ],
   "source": [
    "X = [x1,x2,x3]\n",
    "X = np.array(X)\n",
    "X"
   ]
  },
  {
   "cell_type": "code",
   "execution_count": 48,
   "id": "f1821deb-2bb8-454d-9348-9de377154879",
   "metadata": {},
   "outputs": [
    {
     "data": {
      "text/plain": [
       "array([12.38 , 13.552, 12.312])"
      ]
     },
     "execution_count": 48,
     "metadata": {},
     "output_type": "execute_result"
    }
   ],
   "source": [
    "''' Now we recognize that linear regression is simply the dot product of the feature matrix with 1's added at column 0 with w_new'''\n",
    "X.dot(w_new)"
   ]
  },
  {
   "cell_type": "code",
   "execution_count": 49,
   "id": "e8b3ea27-0603-4d46-ae1c-3e203e1ee09f",
   "metadata": {},
   "outputs": [],
   "source": [
    "'''Modifying the function to account for the changes:'''\n",
    "def linear_regression(X):\n",
    "    return X.dot(w_new) # Matrix-vector multiplication!"
   ]
  },
  {
   "cell_type": "code",
   "execution_count": 50,
   "id": "87cf03fa-78e7-454e-a3f7-36c8ab30863f",
   "metadata": {},
   "outputs": [
    {
     "data": {
      "text/plain": [
       "array([12.38 , 13.552, 12.312])"
      ]
     },
     "execution_count": 50,
     "metadata": {},
     "output_type": "execute_result"
    }
   ],
   "source": [
    "linear_regression(X)"
   ]
  },
  {
   "cell_type": "markdown",
   "id": "564328e3-e636-4d2f-9f50-bff8eae9149b",
   "metadata": {},
   "source": [
    "## 2.7 Training a linear regression model"
   ]
  },
  {
   "cell_type": "markdown",
   "id": "12b0345f-99fa-46b5-aa68-b947cdc38e35",
   "metadata": {},
   "source": [
    "w = (X<sup>T</sup>X)<sup>-1</sup>X<sup>T</sup>y"
   ]
  },
  {
   "cell_type": "code",
   "execution_count": 51,
   "id": "1fa2971b-e3e1-4b98-b5fc-df239617f7ce",
   "metadata": {},
   "outputs": [],
   "source": [
    "def train_linear_regression(X,y):\n",
    "    pass\n"
   ]
  },
  {
   "cell_type": "code",
   "execution_count": 52,
   "id": "e7ba48c6-0f27-4ced-852e-d575bd535a1d",
   "metadata": {},
   "outputs": [
    {
     "data": {
      "text/plain": [
       "array([[ 148,   24, 1385],\n",
       "       [ 132,   25, 2031],\n",
       "       [ 453,   11,   86],\n",
       "       [ 158,   24,  185],\n",
       "       [ 172,   25,  201],\n",
       "       [ 413,   11,   86],\n",
       "       [  38,   54,  185],\n",
       "       [ 142,   25,  431],\n",
       "       [ 453,   31,   86]])"
      ]
     },
     "execution_count": 52,
     "metadata": {},
     "output_type": "execute_result"
    }
   ],
   "source": [
    "X = [\n",
    "    [148,24,1385],\n",
    "    [132,25,2031],\n",
    "    [453,11,86],\n",
    "    [158,24,185],\n",
    "    [172,25,201],\n",
    "    [413,11,86],\n",
    "    [38,54,185],\n",
    "    [142,25,431],\n",
    "    [453,31,86],\n",
    "]\n",
    "X = np.array(X)\n",
    "X"
   ]
  },
  {
   "cell_type": "code",
   "execution_count": 53,
   "id": "62e39d2b-e734-4244-916c-bfc81bd10804",
   "metadata": {},
   "outputs": [
    {
     "data": {
      "text/plain": [
       "array([1., 1., 1., 1., 1., 1., 1., 1., 1.])"
      ]
     },
     "execution_count": 53,
     "metadata": {},
     "output_type": "execute_result"
    }
   ],
   "source": [
    "ones = np.ones(X.shape[0])\n",
    "ones"
   ]
  },
  {
   "cell_type": "code",
   "execution_count": 54,
   "id": "5a9a210c-b736-44bf-b119-f1d556b07a84",
   "metadata": {},
   "outputs": [
    {
     "data": {
      "text/plain": [
       "array([[1.000e+00, 1.480e+02, 2.400e+01, 1.385e+03],\n",
       "       [1.000e+00, 1.320e+02, 2.500e+01, 2.031e+03],\n",
       "       [1.000e+00, 4.530e+02, 1.100e+01, 8.600e+01],\n",
       "       [1.000e+00, 1.580e+02, 2.400e+01, 1.850e+02],\n",
       "       [1.000e+00, 1.720e+02, 2.500e+01, 2.010e+02],\n",
       "       [1.000e+00, 4.130e+02, 1.100e+01, 8.600e+01],\n",
       "       [1.000e+00, 3.800e+01, 5.400e+01, 1.850e+02],\n",
       "       [1.000e+00, 1.420e+02, 2.500e+01, 4.310e+02],\n",
       "       [1.000e+00, 4.530e+02, 3.100e+01, 8.600e+01]])"
      ]
     },
     "execution_count": 54,
     "metadata": {},
     "output_type": "execute_result"
    }
   ],
   "source": [
    "X = np.column_stack([ones,X])\n",
    "X"
   ]
  },
  {
   "cell_type": "code",
   "execution_count": 55,
   "id": "7eb504fb-e6be-40a8-8f47-d3fd4196e6c3",
   "metadata": {},
   "outputs": [],
   "source": [
    "XTX = X.T.dot(X) #GRAM Matrix"
   ]
  },
  {
   "cell_type": "code",
   "execution_count": 56,
   "id": "daf5c059-7c56-413f-a214-2af87da217bc",
   "metadata": {},
   "outputs": [],
   "source": [
    "XTX_inv = np.linalg.inv(XTX)"
   ]
  },
  {
   "cell_type": "code",
   "execution_count": 57,
   "id": "8071bd2f-f4ef-4b3b-b021-4ab96e525e59",
   "metadata": {},
   "outputs": [
    {
     "data": {
      "text/plain": [
       "array([[ 1.00000000e+00, -1.95495204e-18,  6.28430684e-17,\n",
       "         1.75822864e-18],\n",
       "       [-9.06380006e-14,  1.00000000e+00,  6.18373354e-15,\n",
       "         5.01606559e-17],\n",
       "       [-1.90098479e-13,  7.34292862e-18,  1.00000000e+00,\n",
       "         2.74699667e-17],\n",
       "       [-3.38086980e-13, -7.69365108e-16,  1.45868899e-14,\n",
       "         1.00000000e+00]])"
      ]
     },
     "execution_count": 57,
     "metadata": {},
     "output_type": "execute_result"
    }
   ],
   "source": [
    "XTX.dot(XTX_inv)"
   ]
  },
  {
   "cell_type": "code",
   "execution_count": 58,
   "id": "4eb44e22-d9f5-4670-a1fc-775a9ab6e06a",
   "metadata": {},
   "outputs": [],
   "source": [
    "y = [10000,20000,15000,20050,10000,20000,15000,25000,12000]"
   ]
  },
  {
   "cell_type": "code",
   "execution_count": 59,
   "id": "45fba53a-07b1-4772-ac30-7bc0ea156e1e",
   "metadata": {},
   "outputs": [],
   "source": [
    "w_full = XTX_inv.dot(X.T).dot(y)"
   ]
  },
  {
   "cell_type": "code",
   "execution_count": 60,
   "id": "e7bc720b-0b62-4ce0-a551-5452049f8ea5",
   "metadata": {},
   "outputs": [],
   "source": [
    "w0 = w_full[0]\n",
    "w = w_full[1:]"
   ]
  },
  {
   "cell_type": "code",
   "execution_count": 61,
   "id": "f5dce112-402a-4103-831f-d1c0ab2af964",
   "metadata": {},
   "outputs": [
    {
     "data": {
      "text/plain": [
       "(np.float64(25844.754055766753),\n",
       " array([ -16.08906468, -199.47254894,   -1.22802883]))"
      ]
     },
     "execution_count": 61,
     "metadata": {},
     "output_type": "execute_result"
    }
   ],
   "source": [
    "w0,w"
   ]
  },
  {
   "cell_type": "code",
   "execution_count": 62,
   "id": "f1c0c1cd-393e-48d1-bad2-1e847efab477",
   "metadata": {},
   "outputs": [],
   "source": [
    "def train_linear_regression(X,y):\n",
    "    ones = np.ones(X.shape[0])\n",
    "    X = np.column_stack([ones,X])\n",
    "    XTX = X.T.dot(X)\n",
    "    XTX_inv = np.linalg.inv(XTX)\n",
    "    w_full = XTX_inv.dot(X.T).dot(y)\n",
    "    \n",
    "    return w_full[0],w_full[1:]"
   ]
  },
  {
   "cell_type": "code",
   "execution_count": 63,
   "id": "16152957-ccae-4505-a5ca-ad1dc1f95990",
   "metadata": {},
   "outputs": [],
   "source": [
    "X = [\n",
    "    [148,24,1385],\n",
    "    [132,25,2031],\n",
    "    [453,11,86],\n",
    "    [158,24,185],\n",
    "    [172,25,201],\n",
    "    [413,11,86],\n",
    "    [38,54,185],\n",
    "    [142,25,431],\n",
    "    [453,31,86],\n",
    "]\n",
    "X = np.array(X)\n",
    "y = [10000,20000,15000,20050,10000,20000,15000,25000,12000]"
   ]
  },
  {
   "cell_type": "code",
   "execution_count": 64,
   "id": "8a168ae5-736c-4516-826f-7e82d52abe5b",
   "metadata": {},
   "outputs": [
    {
     "data": {
      "text/plain": [
       "(np.float64(25844.754055766753),\n",
       " array([ -16.08906468, -199.47254894,   -1.22802883]))"
      ]
     },
     "execution_count": 64,
     "metadata": {},
     "output_type": "execute_result"
    }
   ],
   "source": [
    "train_linear_regression(X,y)"
   ]
  },
  {
   "cell_type": "markdown",
   "id": "5f003d12-9b6f-4d36-9b6c-b59895701091",
   "metadata": {},
   "source": [
    "## 2.8 Car price baseline model"
   ]
  },
  {
   "cell_type": "code",
   "execution_count": 65,
   "id": "3eec0b1f-62ee-46a2-84de-3a29921da4b2",
   "metadata": {},
   "outputs": [
    {
     "data": {
      "text/plain": [
       "Index(['make', 'model', 'year', 'engine_fuel_type', 'engine_hp',\n",
       "       'engine_cylinders', 'transmission_type', 'driven_wheels',\n",
       "       'number_of_doors', 'market_category', 'vehicle_size', 'vehicle_style',\n",
       "       'highway_mpg', 'city_mpg', 'popularity'],\n",
       "      dtype='object')"
      ]
     },
     "execution_count": 65,
     "metadata": {},
     "output_type": "execute_result"
    }
   ],
   "source": [
    "# g(X) = y\n",
    "df_train.columns"
   ]
  },
  {
   "cell_type": "code",
   "execution_count": 66,
   "id": "24dd5c85-50cc-4526-939a-6bedfe954aa9",
   "metadata": {},
   "outputs": [],
   "source": [
    "# use some numerical type columns\n",
    "base = ['engine_hp','engine_cylinders','highway_mpg', 'city_mpg', 'popularity']\n",
    "X_train = df_train[base].fillna(0).values\n",
    "w0, w = train_linear_regression(X_train,y_train)\n",
    "y_pred = w0 + X_train.dot(w)"
   ]
  },
  {
   "cell_type": "code",
   "execution_count": null,
   "id": "9e169fcf-cbc3-4753-b3e8-b044ab9d109f",
   "metadata": {},
   "outputs": [],
   "source": []
  },
  {
   "cell_type": "code",
   "execution_count": null,
   "id": "341a4513-a4f0-4521-b127-6572009b39d0",
   "metadata": {},
   "outputs": [],
   "source": []
  },
  {
   "cell_type": "code",
   "execution_count": null,
   "id": "8e65149e-4c60-442e-a69f-f59067442a8f",
   "metadata": {},
   "outputs": [],
   "source": []
  },
  {
   "cell_type": "code",
   "execution_count": 67,
   "id": "c1fb3aef-484e-4fc5-bcf1-f2ed92c62f04",
   "metadata": {},
   "outputs": [
    {
     "data": {
      "text/plain": [
       "<Axes: ylabel='Count'>"
      ]
     },
     "execution_count": 67,
     "metadata": {},
     "output_type": "execute_result"
    },
    {
     "data": {
      "image/png": "[encoded data removed]",
      "text/plain": [
       "<Figure size 640x480 with 1 Axes>"
      ]
     },
     "metadata": {},
     "output_type": "display_data"
    }
   ],
   "source": [
    "sns.histplot(y_pred, bins=50)\n",
    "sns.histplot(y_train, bins=50)"
   ]
  },
  {
   "cell_type": "markdown",
   "id": "c1a63bdb-89c9-4500-b93a-0fbbeca57983",
   "metadata": {},
   "source": [
    "## 2.9 RMSE"
   ]
  },
  {
   "cell_type": "markdown",
   "id": "49e90d90-9b0a-42a9-8163-5e513456ef5f",
   "metadata": {},
   "source": [
    "$g(x_i)$ = prediction for $x_i$\n",
    "\n",
    "$y_i$ = actual value\n",
    "\n",
    "RMSE = $\\sqrt{1/m\\sum_{i=1}^m(g(x_i) - y_i)^2}$\n",
    "\n",
    "RMSE closer to 1, means model is not a good fit\n",
    "\n",
    "RMSE closer to 0 means model has less error, therefore a good fit\n"
   ]
  },
  {
   "cell_type": "code",
   "execution_count": 68,
   "id": "8446851c-e7f6-424e-a642-2ff305979cf4",
   "metadata": {},
   "outputs": [],
   "source": [
    "# y_pred is g(x_i)\n",
    "# y_train is y_i\n",
    "def root_mean_square_error(g_xi,y_i):\n",
    "    pass\n"
   ]
  },
  {
   "cell_type": "code",
   "execution_count": 69,
   "id": "c7152f66-f895-4d61-880a-5cf65dd47d62",
   "metadata": {},
   "outputs": [
    {
     "data": {
      "text/plain": [
       "array([-0.02781925, -0.50032323, -0.22125759, ..., -0.14957294,\n",
       "       -0.64458959, -0.54198867], shape=(7150,))"
      ]
     },
     "execution_count": 69,
     "metadata": {},
     "output_type": "execute_result"
    }
   ],
   "source": [
    "diff = (y_pred - y_train)\n",
    "diff"
   ]
  },
  {
   "cell_type": "code",
   "execution_count": 70,
   "id": "bc40ffe2-4197-4b04-a360-fb047325d0ee",
   "metadata": {},
   "outputs": [
    {
     "data": {
      "text/plain": [
       "array([0.00077391, 0.25032334, 0.04895492, ..., 0.02237206, 0.41549575,\n",
       "       0.29375172], shape=(7150,))"
      ]
     },
     "execution_count": 70,
     "metadata": {},
     "output_type": "execute_result"
    }
   ],
   "source": [
    "squared_diff = np.square(diff)\n",
    "squared_diff"
   ]
  },
  {
   "cell_type": "code",
   "execution_count": 71,
   "id": "ed912470-dd36-4eea-b995-b36e21497061",
   "metadata": {},
   "outputs": [
    {
     "data": {
      "text/plain": [
       "np.float64(0.5706582589712164)"
      ]
     },
     "execution_count": 71,
     "metadata": {},
     "output_type": "execute_result"
    }
   ],
   "source": [
    "average = np.average(squared_diff)\n",
    "average"
   ]
  },
  {
   "cell_type": "code",
   "execution_count": 72,
   "id": "46d2386e-4777-4620-be01-6998dd51090e",
   "metadata": {},
   "outputs": [
    {
     "data": {
      "text/plain": [
       "np.float64(0.7554192603920132)"
      ]
     },
     "execution_count": 72,
     "metadata": {},
     "output_type": "execute_result"
    }
   ],
   "source": [
    "rmse = np.sqrt(average)\n",
    "rmse"
   ]
  },
  {
   "cell_type": "code",
   "execution_count": 73,
   "id": "b4722a93-af16-4bdd-a810-cbafbb552b78",
   "metadata": {},
   "outputs": [
    {
     "data": {
      "text/plain": [
       "np.float64(0.7554192603920132)"
      ]
     },
     "execution_count": 73,
     "metadata": {},
     "output_type": "execute_result"
    }
   ],
   "source": [
    "def rmse(g_xi,y_i):\n",
    "    squared_diff = np.square(g_xi - y_i)\n",
    "    return np.sqrt(squared_diff.mean())\n",
    "\n",
    "rmse(y_pred,y_train)"
   ]
  },
  {
   "cell_type": "markdown",
   "id": "dd3036e6-985b-498d-b1b5-d8b43245e3a2",
   "metadata": {},
   "source": [
    "## 2.10 Validating the model"
   ]
  },
  {
   "cell_type": "code",
   "execution_count": 74,
   "id": "36df38e6-0bc8-4d21-ac78-bcf8942692bb",
   "metadata": {},
   "outputs": [],
   "source": [
    "# use some numerical type columns\n",
    "# Now we take the validation feature matrix X_val and the validation results y_val and apply the weights we came up with in training to \n",
    "# the validation sets\n",
    "base = ['engine_hp','engine_cylinders','highway_mpg', 'city_mpg', 'popularity']\n",
    "X_train = df_train[base].fillna(0).values\n",
    "w0, w = train_linear_regression(X_train,y_train)\n",
    "y_pred = w0 + X_train.dot(w)"
   ]
  },
  {
   "cell_type": "code",
   "execution_count": null,
   "id": "bad9924c-a818-4a1d-a74c-97080fc6492b",
   "metadata": {},
   "outputs": [],
   "source": []
  },
  {
   "cell_type": "code",
   "execution_count": 75,
   "id": "c4fe546b-436f-4fc1-a22b-b08ff4621e01",
   "metadata": {},
   "outputs": [],
   "source": [
    "def prepare_X(df):\n",
    "    df_num = df[base]\n",
    "    df_num = df_num.fillna(0)\n",
    "    X = df_num.values\n",
    "    return X"
   ]
  },
  {
   "cell_type": "code",
   "execution_count": 76,
   "id": "ca5e3d29-16a9-415c-b46f-eb3b1f608301",
   "metadata": {},
   "outputs": [
    {
     "data": {
      "text/plain": [
       "np.float64(0.761653099130156)"
      ]
     },
     "execution_count": 76,
     "metadata": {},
     "output_type": "execute_result"
    }
   ],
   "source": [
    "X_train = prepare_X(df_train)\n",
    "w0, w = train_linear_regression(X_train,y_train)\n",
    "\n",
    "X_val = prepare_X(df_val)\n",
    "y_pred = w0 + X_val.dot(w)\n",
    "\n",
    "rmse(y_val,y_pred)"
   ]
  },
  {
   "cell_type": "markdown",
   "id": "da10c25e-d10b-406f-9431-72a7cd2b123f",
   "metadata": {},
   "source": [
    "## 2.11 Simple feature engineering"
   ]
  },
  {
   "cell_type": "code",
   "execution_count": 77,
   "id": "770b3a49-7726-44bd-bd85-1e4c3b6a654e",
   "metadata": {},
   "outputs": [],
   "source": [
    "df['age'] = 2017 - df_train.year"
   ]
  },
  {
   "cell_type": "code",
   "execution_count": 78,
   "id": "b4ecb140-0b96-4b79-a245-90bef18470e4",
   "metadata": {},
   "outputs": [],
   "source": [
    "def prepare_X(df):\n",
    "    df = df.copy()\n",
    "    df['age'] = 2017 - df.year\n",
    "    features = base + ['age']\n",
    "    df_num = df[features]\n",
    "    df_num = df_num.fillna(0)\n",
    "    X = df_num.values\n",
    "    return X"
   ]
  },
  {
   "cell_type": "code",
   "execution_count": 79,
   "id": "69c55941-ff3b-444d-97db-b9f1cb860a35",
   "metadata": {},
   "outputs": [],
   "source": [
    "X_train = prepare_X(df_train)"
   ]
  },
  {
   "cell_type": "code",
   "execution_count": 80,
   "id": "9d0a98a0-1ee7-4bab-84d5-5befecf4ccfb",
   "metadata": {},
   "outputs": [
    {
     "data": {
      "text/plain": [
       "Index(['make', 'model', 'year', 'engine_fuel_type', 'engine_hp',\n",
       "       'engine_cylinders', 'transmission_type', 'driven_wheels',\n",
       "       'number_of_doors', 'market_category', 'vehicle_size', 'vehicle_style',\n",
       "       'highway_mpg', 'city_mpg', 'popularity'],\n",
       "      dtype='object')"
      ]
     },
     "execution_count": 80,
     "metadata": {},
     "output_type": "execute_result"
    }
   ],
   "source": [
    "df_train.columns"
   ]
  },
  {
   "cell_type": "code",
   "execution_count": 81,
   "id": "fe3f7da5-dcc6-4b9f-b02d-971cae70f7ed",
   "metadata": {},
   "outputs": [
    {
     "data": {
      "text/plain": [
       "np.float64(0.5172055461058299)"
      ]
     },
     "execution_count": 81,
     "metadata": {},
     "output_type": "execute_result"
    }
   ],
   "source": [
    "X_train = prepare_X(df_train)\n",
    "w0, w = train_linear_regression(X_train,y_train)\n",
    "\n",
    "X_val = prepare_X(df_val)\n",
    "y_pred = w0 + X_val.dot(w)\n",
    "\n",
    "rmse(y_val,y_pred)"
   ]
  },
  {
   "cell_type": "code",
   "execution_count": 82,
   "id": "9c3836c1-3564-4b2a-9ac9-74afd8c2b03c",
   "metadata": {},
   "outputs": [
    {
     "data": {
      "text/plain": [
       "<Axes: ylabel='Count'>"
      ]
     },
     "execution_count": 82,
     "metadata": {},
     "output_type": "execute_result"
    },
    {
     "data": {
      "image/png": "[encoded data removed]",
      "text/plain": [
       "<Figure size 640x480 with 1 Axes>"
      ]
     },
     "metadata": {},
     "output_type": "display_data"
    }
   ],
   "source": [
    "sns.histplot(y_pred, bins=50)\n",
    "sns.histplot(y_val, bins=50)"
   ]
  },
  {
   "cell_type": "markdown",
   "id": "64c3e064-98ad-4415-9cff-9df972b94026",
   "metadata": {},
   "source": [
    "## 2.12 Categorical Variables"
   ]
  },
  {
   "cell_type": "code",
   "execution_count": 84,
   "id": "9ffa8029-96eb-4981-9256-cc01098c9f11",
   "metadata": {},
   "outputs": [
    {
     "data": {
      "text/plain": [
       "make                  object\n",
       "model                 object\n",
       "year                   int64\n",
       "engine_fuel_type      object\n",
       "engine_hp            float64\n",
       "engine_cylinders     float64\n",
       "transmission_type     object\n",
       "driven_wheels         object\n",
       "number_of_doors      float64\n",
       "market_category       object\n",
       "vehicle_size          object\n",
       "vehicle_style         object\n",
       "highway_mpg            int64\n",
       "city_mpg               int64\n",
       "popularity             int64\n",
       "dtype: object"
      ]
     },
     "execution_count": 84,
     "metadata": {},
     "output_type": "execute_result"
    }
   ],
   "source": [
    "# Categorical vars are usually strings; non-numericals\n",
    "df_train.dtypes"
   ]
  },
  {
   "cell_type": "code",
   "execution_count": 85,
   "id": "35781978-c36d-4447-801e-c1f75b41c196",
   "metadata": {},
   "outputs": [
    {
     "data": {
      "text/plain": [
       "2735     2.0\n",
       "6720     4.0\n",
       "5878     4.0\n",
       "11190    3.0\n",
       "4554     4.0\n",
       "        ... \n",
       "434      2.0\n",
       "1902     2.0\n",
       "9334     4.0\n",
       "5284     4.0\n",
       "2420     4.0\n",
       "Name: number_of_doors, Length: 7150, dtype: float64"
      ]
     },
     "execution_count": 85,
     "metadata": {},
     "output_type": "execute_result"
    }
   ],
   "source": [
    "df_train.number_of_doors"
   ]
  },
  {
   "cell_type": "code",
   "execution_count": 88,
   "id": "a99474f8-cdee-4a5b-91ec-4c4ab8d24306",
   "metadata": {},
   "outputs": [
    {
     "name": "stderr",
     "output_type": "stream",
     "text": [
      "/tmp/ipykernel_2117/3321434903.py:2: SettingWithCopyWarning: \n",
      "A value is trying to be set on a copy of a slice from a DataFrame.\n",
      "Try using .loc[row_indexer,col_indexer] = value instead\n",
      "\n",
      "See the caveats in the documentation: https://pandas.pydata.org/pandas-docs/stable/user_guide/indexing.html#returning-a-view-versus-a-copy\n",
      "  df_train['num_doors_%s' % v] = (df_train.number_of_doors == v).astype('int')\n",
      "/tmp/ipykernel_2117/3321434903.py:2: SettingWithCopyWarning: \n",
      "A value is trying to be set on a copy of a slice from a DataFrame.\n",
      "Try using .loc[row_indexer,col_indexer] = value instead\n",
      "\n",
      "See the caveats in the documentation: https://pandas.pydata.org/pandas-docs/stable/user_guide/indexing.html#returning-a-view-versus-a-copy\n",
      "  df_train['num_doors_%s' % v] = (df_train.number_of_doors == v).astype('int')\n",
      "/tmp/ipykernel_2117/3321434903.py:2: SettingWithCopyWarning: \n",
      "A value is trying to be set on a copy of a slice from a DataFrame.\n",
      "Try using .loc[row_indexer,col_indexer] = value instead\n",
      "\n",
      "See the caveats in the documentation: https://pandas.pydata.org/pandas-docs/stable/user_guide/indexing.html#returning-a-view-versus-a-copy\n",
      "  df_train['num_doors_%s' % v] = (df_train.number_of_doors == v).astype('int')\n"
     ]
    }
   ],
   "source": [
    "for v in [2,3,4]:\n",
    "    df_train['num_doors_%s' % v] = (df_train.number_of_doors == v).astype('int')"
   ]
  },
  {
   "cell_type": "code",
   "execution_count": 89,
   "id": "53b3b468-6e0e-471b-bde7-17939711c2a4",
   "metadata": {},
   "outputs": [
    {
     "data": {
      "text/html": [
       "<div>\n",
       "<style scoped>\n",
       "    .dataframe tbody tr th:only-of-type {\n",
       "        vertical-align: middle;\n",
       "    }\n",
       "\n",
       "    .dataframe tbody tr th {\n",
       "        vertical-align: top;\n",
       "    }\n",
       "\n",
       "    .dataframe thead th {\n",
       "        text-align: right;\n",
       "    }\n",
       "</style>\n",
       "<table border=\"1\" class=\"dataframe\">\n",
       "  <thead>\n",
       "    <tr style=\"text-align: right;\">\n",
       "      <th></th>\n",
       "      <th>make</th>\n",
       "      <th>model</th>\n",
       "      <th>year</th>\n",
       "      <th>engine_fuel_type</th>\n",
       "      <th>engine_hp</th>\n",
       "      <th>engine_cylinders</th>\n",
       "      <th>transmission_type</th>\n",
       "      <th>driven_wheels</th>\n",
       "      <th>number_of_doors</th>\n",
       "      <th>market_category</th>\n",
       "      <th>vehicle_size</th>\n",
       "      <th>vehicle_style</th>\n",
       "      <th>highway_mpg</th>\n",
       "      <th>city_mpg</th>\n",
       "      <th>popularity</th>\n",
       "      <th>num_doors_2</th>\n",
       "      <th>num_doors_3</th>\n",
       "      <th>num_doors_4</th>\n",
       "    </tr>\n",
       "  </thead>\n",
       "  <tbody>\n",
       "    <tr>\n",
       "      <th>2735</th>\n",
       "      <td>chevrolet</td>\n",
       "      <td>cobalt</td>\n",
       "      <td>2008</td>\n",
       "      <td>regular_unleaded</td>\n",
       "      <td>148.0</td>\n",
       "      <td>4.0</td>\n",
       "      <td>manual</td>\n",
       "      <td>front_wheel_drive</td>\n",
       "      <td>2.0</td>\n",
       "      <td>NaN</td>\n",
       "      <td>compact</td>\n",
       "      <td>coupe</td>\n",
       "      <td>33</td>\n",
       "      <td>24</td>\n",
       "      <td>1385</td>\n",
       "      <td>1</td>\n",
       "      <td>0</td>\n",
       "      <td>0</td>\n",
       "    </tr>\n",
       "    <tr>\n",
       "      <th>6720</th>\n",
       "      <td>toyota</td>\n",
       "      <td>matrix</td>\n",
       "      <td>2012</td>\n",
       "      <td>regular_unleaded</td>\n",
       "      <td>132.0</td>\n",
       "      <td>4.0</td>\n",
       "      <td>automatic</td>\n",
       "      <td>front_wheel_drive</td>\n",
       "      <td>4.0</td>\n",
       "      <td>hatchback</td>\n",
       "      <td>compact</td>\n",
       "      <td>4dr_hatchback</td>\n",
       "      <td>32</td>\n",
       "      <td>25</td>\n",
       "      <td>2031</td>\n",
       "      <td>0</td>\n",
       "      <td>0</td>\n",
       "      <td>1</td>\n",
       "    </tr>\n",
       "    <tr>\n",
       "      <th>5878</th>\n",
       "      <td>subaru</td>\n",
       "      <td>impreza</td>\n",
       "      <td>2016</td>\n",
       "      <td>regular_unleaded</td>\n",
       "      <td>148.0</td>\n",
       "      <td>4.0</td>\n",
       "      <td>automatic</td>\n",
       "      <td>all_wheel_drive</td>\n",
       "      <td>4.0</td>\n",
       "      <td>hatchback</td>\n",
       "      <td>compact</td>\n",
       "      <td>4dr_hatchback</td>\n",
       "      <td>37</td>\n",
       "      <td>28</td>\n",
       "      <td>640</td>\n",
       "      <td>0</td>\n",
       "      <td>0</td>\n",
       "      <td>1</td>\n",
       "    </tr>\n",
       "    <tr>\n",
       "      <th>11190</th>\n",
       "      <td>volkswagen</td>\n",
       "      <td>vanagon</td>\n",
       "      <td>1991</td>\n",
       "      <td>regular_unleaded</td>\n",
       "      <td>90.0</td>\n",
       "      <td>4.0</td>\n",
       "      <td>manual</td>\n",
       "      <td>rear_wheel_drive</td>\n",
       "      <td>3.0</td>\n",
       "      <td>NaN</td>\n",
       "      <td>large</td>\n",
       "      <td>passenger_minivan</td>\n",
       "      <td>18</td>\n",
       "      <td>16</td>\n",
       "      <td>873</td>\n",
       "      <td>0</td>\n",
       "      <td>1</td>\n",
       "      <td>0</td>\n",
       "    </tr>\n",
       "    <tr>\n",
       "      <th>4554</th>\n",
       "      <td>ford</td>\n",
       "      <td>f-150</td>\n",
       "      <td>2017</td>\n",
       "      <td>flex-fuel_(unleaded/e85)</td>\n",
       "      <td>385.0</td>\n",
       "      <td>8.0</td>\n",
       "      <td>automatic</td>\n",
       "      <td>four_wheel_drive</td>\n",
       "      <td>4.0</td>\n",
       "      <td>flex_fuel</td>\n",
       "      <td>large</td>\n",
       "      <td>crew_cab_pickup</td>\n",
       "      <td>21</td>\n",
       "      <td>15</td>\n",
       "      <td>5657</td>\n",
       "      <td>0</td>\n",
       "      <td>0</td>\n",
       "      <td>1</td>\n",
       "    </tr>\n",
       "    <tr>\n",
       "      <th>...</th>\n",
       "      <td>...</td>\n",
       "      <td>...</td>\n",
       "      <td>...</td>\n",
       "      <td>...</td>\n",
       "      <td>...</td>\n",
       "      <td>...</td>\n",
       "      <td>...</td>\n",
       "      <td>...</td>\n",
       "      <td>...</td>\n",
       "      <td>...</td>\n",
       "      <td>...</td>\n",
       "      <td>...</td>\n",
       "      <td>...</td>\n",
       "      <td>...</td>\n",
       "      <td>...</td>\n",
       "      <td>...</td>\n",
       "      <td>...</td>\n",
       "      <td>...</td>\n",
       "    </tr>\n",
       "    <tr>\n",
       "      <th>434</th>\n",
       "      <td>bmw</td>\n",
       "      <td>4_series</td>\n",
       "      <td>2015</td>\n",
       "      <td>premium_unleaded_(required)</td>\n",
       "      <td>300.0</td>\n",
       "      <td>6.0</td>\n",
       "      <td>automatic</td>\n",
       "      <td>rear_wheel_drive</td>\n",
       "      <td>2.0</td>\n",
       "      <td>luxury,performance</td>\n",
       "      <td>midsize</td>\n",
       "      <td>convertible</td>\n",
       "      <td>31</td>\n",
       "      <td>20</td>\n",
       "      <td>3916</td>\n",
       "      <td>1</td>\n",
       "      <td>0</td>\n",
       "      <td>0</td>\n",
       "    </tr>\n",
       "    <tr>\n",
       "      <th>1902</th>\n",
       "      <td>volkswagen</td>\n",
       "      <td>beetle</td>\n",
       "      <td>2015</td>\n",
       "      <td>premium_unleaded_(recommended)</td>\n",
       "      <td>210.0</td>\n",
       "      <td>4.0</td>\n",
       "      <td>automated_manual</td>\n",
       "      <td>front_wheel_drive</td>\n",
       "      <td>2.0</td>\n",
       "      <td>hatchback,performance</td>\n",
       "      <td>compact</td>\n",
       "      <td>2dr_hatchback</td>\n",
       "      <td>30</td>\n",
       "      <td>24</td>\n",
       "      <td>873</td>\n",
       "      <td>1</td>\n",
       "      <td>0</td>\n",
       "      <td>0</td>\n",
       "    </tr>\n",
       "    <tr>\n",
       "      <th>9334</th>\n",
       "      <td>gmc</td>\n",
       "      <td>sierra_1500</td>\n",
       "      <td>2015</td>\n",
       "      <td>flex-fuel_(unleaded/e85)</td>\n",
       "      <td>285.0</td>\n",
       "      <td>6.0</td>\n",
       "      <td>automatic</td>\n",
       "      <td>four_wheel_drive</td>\n",
       "      <td>4.0</td>\n",
       "      <td>flex_fuel</td>\n",
       "      <td>large</td>\n",
       "      <td>extended_cab_pickup</td>\n",
       "      <td>22</td>\n",
       "      <td>17</td>\n",
       "      <td>549</td>\n",
       "      <td>0</td>\n",
       "      <td>0</td>\n",
       "      <td>1</td>\n",
       "    </tr>\n",
       "    <tr>\n",
       "      <th>5284</th>\n",
       "      <td>rolls-royce</td>\n",
       "      <td>ghost</td>\n",
       "      <td>2014</td>\n",
       "      <td>premium_unleaded_(required)</td>\n",
       "      <td>563.0</td>\n",
       "      <td>12.0</td>\n",
       "      <td>automatic</td>\n",
       "      <td>rear_wheel_drive</td>\n",
       "      <td>4.0</td>\n",
       "      <td>exotic,luxury,performance</td>\n",
       "      <td>large</td>\n",
       "      <td>sedan</td>\n",
       "      <td>21</td>\n",
       "      <td>13</td>\n",
       "      <td>86</td>\n",
       "      <td>0</td>\n",
       "      <td>0</td>\n",
       "      <td>1</td>\n",
       "    </tr>\n",
       "    <tr>\n",
       "      <th>2420</th>\n",
       "      <td>volkswagen</td>\n",
       "      <td>cc</td>\n",
       "      <td>2017</td>\n",
       "      <td>premium_unleaded_(recommended)</td>\n",
       "      <td>200.0</td>\n",
       "      <td>4.0</td>\n",
       "      <td>automated_manual</td>\n",
       "      <td>front_wheel_drive</td>\n",
       "      <td>4.0</td>\n",
       "      <td>performance</td>\n",
       "      <td>midsize</td>\n",
       "      <td>sedan</td>\n",
       "      <td>31</td>\n",
       "      <td>22</td>\n",
       "      <td>873</td>\n",
       "      <td>0</td>\n",
       "      <td>0</td>\n",
       "      <td>1</td>\n",
       "    </tr>\n",
       "  </tbody>\n",
       "</table>\n",
       "<p>7150 rows × 18 columns</p>\n",
       "</div>"
      ],
      "text/plain": [
       "              make        model  year                engine_fuel_type  \\\n",
       "2735     chevrolet       cobalt  2008                regular_unleaded   \n",
       "6720        toyota       matrix  2012                regular_unleaded   \n",
       "5878        subaru      impreza  2016                regular_unleaded   \n",
       "11190   volkswagen      vanagon  1991                regular_unleaded   \n",
       "4554          ford        f-150  2017        flex-fuel_(unleaded/e85)   \n",
       "...            ...          ...   ...                             ...   \n",
       "434            bmw     4_series  2015     premium_unleaded_(required)   \n",
       "1902    volkswagen       beetle  2015  premium_unleaded_(recommended)   \n",
       "9334           gmc  sierra_1500  2015        flex-fuel_(unleaded/e85)   \n",
       "5284   rolls-royce        ghost  2014     premium_unleaded_(required)   \n",
       "2420    volkswagen           cc  2017  premium_unleaded_(recommended)   \n",
       "\n",
       "       engine_hp  engine_cylinders transmission_type      driven_wheels  \\\n",
       "2735       148.0               4.0            manual  front_wheel_drive   \n",
       "6720       132.0               4.0         automatic  front_wheel_drive   \n",
       "5878       148.0               4.0         automatic    all_wheel_drive   \n",
       "11190       90.0               4.0            manual   rear_wheel_drive   \n",
       "4554       385.0               8.0         automatic   four_wheel_drive   \n",
       "...          ...               ...               ...                ...   \n",
       "434        300.0               6.0         automatic   rear_wheel_drive   \n",
       "1902       210.0               4.0  automated_manual  front_wheel_drive   \n",
       "9334       285.0               6.0         automatic   four_wheel_drive   \n",
       "5284       563.0              12.0         automatic   rear_wheel_drive   \n",
       "2420       200.0               4.0  automated_manual  front_wheel_drive   \n",
       "\n",
       "       number_of_doors            market_category vehicle_size  \\\n",
       "2735               2.0                        NaN      compact   \n",
       "6720               4.0                  hatchback      compact   \n",
       "5878               4.0                  hatchback      compact   \n",
       "11190              3.0                        NaN        large   \n",
       "4554               4.0                  flex_fuel        large   \n",
       "...                ...                        ...          ...   \n",
       "434                2.0         luxury,performance      midsize   \n",
       "1902               2.0      hatchback,performance      compact   \n",
       "9334               4.0                  flex_fuel        large   \n",
       "5284               4.0  exotic,luxury,performance        large   \n",
       "2420               4.0                performance      midsize   \n",
       "\n",
       "             vehicle_style  highway_mpg  city_mpg  popularity  num_doors_2  \\\n",
       "2735                 coupe           33        24        1385            1   \n",
       "6720         4dr_hatchback           32        25        2031            0   \n",
       "5878         4dr_hatchback           37        28         640            0   \n",
       "11190    passenger_minivan           18        16         873            0   \n",
       "4554       crew_cab_pickup           21        15        5657            0   \n",
       "...                    ...          ...       ...         ...          ...   \n",
       "434            convertible           31        20        3916            1   \n",
       "1902         2dr_hatchback           30        24         873            1   \n",
       "9334   extended_cab_pickup           22        17         549            0   \n",
       "5284                 sedan           21        13          86            0   \n",
       "2420                 sedan           31        22         873            0   \n",
       "\n",
       "       num_doors_3  num_doors_4  \n",
       "2735             0            0  \n",
       "6720             0            1  \n",
       "5878             0            1  \n",
       "11190            1            0  \n",
       "4554             0            1  \n",
       "...            ...          ...  \n",
       "434              0            0  \n",
       "1902             0            0  \n",
       "9334             0            1  \n",
       "5284             0            1  \n",
       "2420             0            1  \n",
       "\n",
       "[7150 rows x 18 columns]"
      ]
     },
     "execution_count": 89,
     "metadata": {},
     "output_type": "execute_result"
    }
   ],
   "source": [
    "df_train"
   ]
  },
  {
   "cell_type": "code",
   "execution_count": 101,
   "id": "98b61224-b570-4460-bdf0-593d0976c6b6",
   "metadata": {},
   "outputs": [
    {
     "data": {
      "text/plain": [
       "['engine_hp', 'engine_cylinders', 'highway_mpg', 'city_mpg', 'popularity']"
      ]
     },
     "execution_count": 101,
     "metadata": {},
     "output_type": "execute_result"
    }
   ],
   "source": [
    "base"
   ]
  },
  {
   "cell_type": "code",
   "execution_count": 119,
   "id": "28981c71-3dd3-484c-8d11-5952a7442b4d",
   "metadata": {},
   "outputs": [],
   "source": [
    "def prepare_X(df):\n",
    "    df = df.copy()\n",
    "    features = base.copy()\n",
    "    df['age'] = 2017 - df.year\n",
    "    features.append('age')\n",
    "\n",
    "    for v in [2,3,4]:\n",
    "        df['num_doors_%s' % v] = (df.number_of_doors == v).astype('int')\n",
    "        features.append('num_doors_%s' % v)\n",
    "        \n",
    "    df_num = df[features]\n",
    "    df_num = df_num.fillna(0)\n",
    "    X = df_num.values\n",
    "    return X"
   ]
  },
  {
   "cell_type": "code",
   "execution_count": 118,
   "id": "1e147344-7a33-4874-957c-e2c6ed1c2adb",
   "metadata": {},
   "outputs": [
    {
     "data": {
      "text/plain": [
       "array([[148.,   4.,  33., ...,   1.,   0.,   0.],\n",
       "       [132.,   4.,  32., ...,   0.,   0.,   1.],\n",
       "       [148.,   4.,  37., ...,   0.,   0.,   1.],\n",
       "       ...,\n",
       "       [285.,   6.,  22., ...,   0.,   0.,   1.],\n",
       "       [563.,  12.,  21., ...,   0.,   0.,   1.],\n",
       "       [200.,   4.,  31., ...,   0.,   0.,   1.]], shape=(7150, 9))"
      ]
     },
     "execution_count": 118,
     "metadata": {},
     "output_type": "execute_result"
    }
   ],
   "source": [
    "prepare_X(df_train)"
   ]
  },
  {
   "cell_type": "code",
   "execution_count": 120,
   "id": "9c3928f5-4fcc-4521-8aab-b7c8c84174c5",
   "metadata": {},
   "outputs": [
    {
     "data": {
      "text/plain": [
       "np.float64(0.515799564150169)"
      ]
     },
     "execution_count": 120,
     "metadata": {},
     "output_type": "execute_result"
    }
   ],
   "source": [
    "X_train = prepare_X(df_train)\n",
    "w0, w = train_linear_regression(X_train,y_train)\n",
    "\n",
    "X_val = prepare_X(df_val)\n",
    "y_pred = w0 + X_val.dot(w)\n",
    "\n",
    "rmse(y_val,y_pred)"
   ]
  },
  {
   "cell_type": "code",
   "execution_count": 121,
   "id": "b6289f8f-aae6-4797-8894-8c3b55f0b953",
   "metadata": {},
   "outputs": [],
   "source": [
    "''' without num doors: 0.5172055461058299, with: 0.515799564150169.  Only a slight improvement.\n",
    "    let's try to add Make\n",
    "'''"
   ]
  },
  {
   "cell_type": "code",
   "execution_count": 127,
   "id": "c1714d0a-56ef-4624-a9f8-9994c528483d",
   "metadata": {},
   "outputs": [],
   "source": [
    "makes = list(df.make.value_counts().head().index)"
   ]
  },
  {
   "cell_type": "code",
   "execution_count": 128,
   "id": "9608da18-f9a0-4001-ad9a-34690bcf0282",
   "metadata": {},
   "outputs": [],
   "source": [
    "def prepare_X(df):\n",
    "    df = df.copy()\n",
    "    features = base.copy()\n",
    "    \n",
    "    df['age'] = 2017 - df.year\n",
    "    features.append('age')\n",
    "\n",
    "    for v in [2,3,4]:\n",
    "        df['num_doors_%s' % v] = (df.number_of_doors == v).astype('int')\n",
    "        features.append('num_doors_%s' % v)\n",
    "\n",
    "    for v in makes:\n",
    "        df['make_%s' % v] = (df.make == v).astype('int')\n",
    "        features.append('make_%s' % v)\n",
    "        \n",
    "    df_num = df[features]\n",
    "    df_num = df_num.fillna(0)\n",
    "    X = df_num.values\n",
    "    return X"
   ]
  },
  {
   "cell_type": "code",
   "execution_count": 129,
   "id": "94df49e8-3d13-4eb0-8284-a5afe8a5a141",
   "metadata": {},
   "outputs": [
    {
     "data": {
      "text/plain": [
       "np.float64(0.5076038849556795)"
      ]
     },
     "execution_count": 129,
     "metadata": {},
     "output_type": "execute_result"
    }
   ],
   "source": [
    "X_train = prepare_X(df_train)\n",
    "w0, w = train_linear_regression(X_train,y_train)\n",
    "\n",
    "X_val = prepare_X(df_val)\n",
    "y_pred = w0 + X_val.dot(w)\n",
    "\n",
    "rmse(y_val,y_pred)"
   ]
  },
  {
   "cell_type": "code",
   "execution_count": 130,
   "id": "592f9a7d-95d9-4135-bdba-5a03bc871aec",
   "metadata": {},
   "outputs": [
    {
     "data": {
      "text/plain": [
       "make                  object\n",
       "model                 object\n",
       "year                   int64\n",
       "engine_fuel_type      object\n",
       "engine_hp            float64\n",
       "engine_cylinders     float64\n",
       "transmission_type     object\n",
       "driven_wheels         object\n",
       "number_of_doors      float64\n",
       "market_category       object\n",
       "vehicle_size          object\n",
       "vehicle_style         object\n",
       "highway_mpg            int64\n",
       "city_mpg               int64\n",
       "popularity             int64\n",
       "dtype: object"
      ]
     },
     "execution_count": 130,
     "metadata": {},
     "output_type": "execute_result"
    }
   ],
   "source": [
    "# 0.515799564150169 from previous run, seeing an improvement\n",
    "\n",
    "df_train.dtypes"
   ]
  },
  {
   "cell_type": "code",
   "execution_count": 140,
   "id": "25350c7a-373b-44db-94c9-851a15ebc018",
   "metadata": {},
   "outputs": [],
   "source": [
    "categorical_vars = ['engine_fuel_type','transmission_type','driven_wheels','market_category','vehicle_size','vehicle_style','make']"
   ]
  },
  {
   "cell_type": "code",
   "execution_count": 141,
   "id": "f8696c1f-64e2-488f-bd32-13c3881e5263",
   "metadata": {},
   "outputs": [],
   "source": [
    "categories = {}\n",
    "for c in categorical_vars:\n",
    "    categories[c] = list(df[c].value_counts().head().index)"
   ]
  },
  {
   "cell_type": "code",
   "execution_count": 142,
   "id": "924be48a-b540-45f7-8db1-d066f31d95eb",
   "metadata": {},
   "outputs": [
    {
     "data": {
      "text/plain": [
       "{'engine_fuel_type': ['regular_unleaded',\n",
       "  'premium_unleaded_(required)',\n",
       "  'premium_unleaded_(recommended)',\n",
       "  'flex-fuel_(unleaded/e85)',\n",
       "  'diesel'],\n",
       " 'transmission_type': ['automatic',\n",
       "  'manual',\n",
       "  'automated_manual',\n",
       "  'direct_drive',\n",
       "  'unknown'],\n",
       " 'driven_wheels': ['front_wheel_drive',\n",
       "  'rear_wheel_drive',\n",
       "  'all_wheel_drive',\n",
       "  'four_wheel_drive'],\n",
       " 'market_category': ['crossover',\n",
       "  'flex_fuel',\n",
       "  'luxury',\n",
       "  'hatchback',\n",
       "  'luxury,performance'],\n",
       " 'vehicle_size': ['compact', 'midsize', 'large'],\n",
       " 'vehicle_style': ['sedan',\n",
       "  '4dr_suv',\n",
       "  'coupe',\n",
       "  'convertible',\n",
       "  '4dr_hatchback'],\n",
       " 'make': ['chevrolet', 'ford', 'volkswagen', 'toyota', 'dodge']}"
      ]
     },
     "execution_count": 142,
     "metadata": {},
     "output_type": "execute_result"
    }
   ],
   "source": [
    "categories"
   ]
  },
  {
   "cell_type": "code",
   "execution_count": 143,
   "id": "a8f8d2db-7f92-468b-a76a-b5c8d7b80388",
   "metadata": {},
   "outputs": [],
   "source": [
    "def prepare_X(df):\n",
    "    df = df.copy()\n",
    "    features = base.copy()\n",
    "    \n",
    "    df['age'] = 2017 - df.year\n",
    "    features.append('age')\n",
    "\n",
    "    for v in [2,3,4]:\n",
    "        df['num_doors_%s' % v] = (df.number_of_doors == v).astype('int')\n",
    "        features.append('num_doors_%s' % v)\n",
    "\n",
    "    for c, values in categories.items():\n",
    "        for v in values:\n",
    "            df['%s_%s' % (c,v)] = (df[c] == v).astype('int')\n",
    "            features.append('%s_%s' % (c,v))\n",
    "\n",
    "    \n",
    "        \n",
    "    df_num = df[features]\n",
    "    df_num = df_num.fillna(0)\n",
    "    X = df_num.values\n",
    "    return X"
   ]
  },
  {
   "cell_type": "code",
   "execution_count": 145,
   "id": "dc187be9-34e3-4094-8d82-27c89f6808ab",
   "metadata": {},
   "outputs": [
    {
     "data": {
      "text/plain": [
       "np.float64(361.03338894022045)"
      ]
     },
     "execution_count": 145,
     "metadata": {},
     "output_type": "execute_result"
    }
   ],
   "source": [
    "X_train = prepare_X(df_train)\n",
    "w0, w = train_linear_regression(X_train,y_train)\n",
    "\n",
    "X_val = prepare_X(df_val)\n",
    "y_pred = w0 + X_val.dot(w)\n",
    "\n",
    "rmse(y_val,y_pred)"
   ]
  },
  {
   "cell_type": "code",
   "execution_count": 148,
   "id": "67e5e711-595c-457a-89e8-b0997b12ba29",
   "metadata": {},
   "outputs": [
    {
     "data": {
      "text/plain": [
       "array([-2.62461576e+00, -5.01725432e+01, -4.43743962e+01, -1.50199864e+01,\n",
       "       -1.41335407e-02, -2.74152633e+01, -2.90546391e+04, -2.93484559e+04,\n",
       "       -2.90129106e+04, -1.16551542e+03, -9.75177709e+02, -1.05990414e+03,\n",
       "       -1.14794510e+03, -1.32417257e+03,  1.20652009e+17,  1.20652009e+17,\n",
       "        1.20652009e+17,  1.20652009e+17,  1.20652009e+17,  3.43588833e+16,\n",
       "        3.43588833e+16,  3.43588833e+16,  3.43588833e+16,  1.55963587e+01,\n",
       "        2.96905191e+00,  3.55340698e-01, -4.89954110e+01, -8.81772812e+00,\n",
       "        1.26464706e+02,  1.21203867e+02,  1.48653943e+02, -4.85492239e-02,\n",
       "        5.44797374e-02,  1.78241160e-01,  3.41906701e-01, -1.64412078e-01,\n",
       "       -4.23848964e-02,  1.77113119e-01,  1.38350936e-02, -9.97691067e-02,\n",
       "       -1.07727665e-01])"
      ]
     },
     "execution_count": 148,
     "metadata": {},
     "output_type": "execute_result"
    }
   ],
   "source": [
    "w"
   ]
  },
  {
   "cell_type": "markdown",
   "id": "80b0177a-2157-41e8-91ac-e1a7043ae54b",
   "metadata": {},
   "source": [
    "## 2.13 Regularization\n"
   ]
  },
  {
   "cell_type": "code",
   "execution_count": 150,
   "id": "d8763449-27a8-4aa5-adf7-94284b615b2d",
   "metadata": {},
   "outputs": [
    {
     "data": {
      "text/plain": [
       "array([[4, 4, 4],\n",
       "       [3, 5, 5],\n",
       "       [5, 1, 1],\n",
       "       [5, 4, 4],\n",
       "       [7, 5, 5],\n",
       "       [4, 5, 5]])"
      ]
     },
     "execution_count": 150,
     "metadata": {},
     "output_type": "execute_result"
    }
   ],
   "source": [
    "X = [\n",
    "    [4,4,4],\n",
    "    [3,5,5],\n",
    "    [5,1,1],\n",
    "    [5,4,4],\n",
    "    [7,5,5],\n",
    "    [4,5,5],\n",
    "]\n",
    "X = np.array(X)\n",
    "X"
   ]
  },
  {
   "cell_type": "code",
   "execution_count": 153,
   "id": "a8ec0758-3c2b-4555-aafb-2d45c1a4a633",
   "metadata": {},
   "outputs": [],
   "source": [
    "XTX = X.T.dot(X)"
   ]
  },
  {
   "cell_type": "code",
   "execution_count": 154,
   "id": "067cc05f-ce9f-4514-b2c8-63f0e1ba4df2",
   "metadata": {},
   "outputs": [
    {
     "ename": "LinAlgError",
     "evalue": "Singular matrix",
     "output_type": "error",
     "traceback": [
      "\u001b[0;31m---------------------------------------------------------------------------\u001b[0m",
      "\u001b[0;31mLinAlgError\u001b[0m                               Traceback (most recent call last)",
      "Cell \u001b[0;32mIn[154], line 2\u001b[0m\n\u001b[1;32m      1\u001b[0m \u001b[38;5;66;03m# duplicate columns 1 & 2, so inverse doesn't exist\u001b[39;00m\n\u001b[0;32m----> 2\u001b[0m \u001b[43mnp\u001b[49m\u001b[38;5;241;43m.\u001b[39;49m\u001b[43mlinalg\u001b[49m\u001b[38;5;241;43m.\u001b[39;49m\u001b[43minv\u001b[49m\u001b[43m(\u001b[49m\u001b[43mXTX\u001b[49m\u001b[43m)\u001b[49m\n",
      "File \u001b[0;32m~/.local/lib/python3.12/site-packages/numpy/linalg/_linalg.py:609\u001b[0m, in \u001b[0;36minv\u001b[0;34m(a)\u001b[0m\n\u001b[1;32m    606\u001b[0m signature \u001b[38;5;241m=\u001b[39m \u001b[38;5;124m'\u001b[39m\u001b[38;5;124mD->D\u001b[39m\u001b[38;5;124m'\u001b[39m \u001b[38;5;28;01mif\u001b[39;00m isComplexType(t) \u001b[38;5;28;01melse\u001b[39;00m \u001b[38;5;124m'\u001b[39m\u001b[38;5;124md->d\u001b[39m\u001b[38;5;124m'\u001b[39m\n\u001b[1;32m    607\u001b[0m \u001b[38;5;28;01mwith\u001b[39;00m errstate(call\u001b[38;5;241m=\u001b[39m_raise_linalgerror_singular, invalid\u001b[38;5;241m=\u001b[39m\u001b[38;5;124m'\u001b[39m\u001b[38;5;124mcall\u001b[39m\u001b[38;5;124m'\u001b[39m,\n\u001b[1;32m    608\u001b[0m               over\u001b[38;5;241m=\u001b[39m\u001b[38;5;124m'\u001b[39m\u001b[38;5;124mignore\u001b[39m\u001b[38;5;124m'\u001b[39m, divide\u001b[38;5;241m=\u001b[39m\u001b[38;5;124m'\u001b[39m\u001b[38;5;124mignore\u001b[39m\u001b[38;5;124m'\u001b[39m, under\u001b[38;5;241m=\u001b[39m\u001b[38;5;124m'\u001b[39m\u001b[38;5;124mignore\u001b[39m\u001b[38;5;124m'\u001b[39m):\n\u001b[0;32m--> 609\u001b[0m     ainv \u001b[38;5;241m=\u001b[39m \u001b[43m_umath_linalg\u001b[49m\u001b[38;5;241;43m.\u001b[39;49m\u001b[43minv\u001b[49m\u001b[43m(\u001b[49m\u001b[43ma\u001b[49m\u001b[43m,\u001b[49m\u001b[43m \u001b[49m\u001b[43msignature\u001b[49m\u001b[38;5;241;43m=\u001b[39;49m\u001b[43msignature\u001b[49m\u001b[43m)\u001b[49m\n\u001b[1;32m    610\u001b[0m \u001b[38;5;28;01mreturn\u001b[39;00m wrap(ainv\u001b[38;5;241m.\u001b[39mastype(result_t, copy\u001b[38;5;241m=\u001b[39m\u001b[38;5;28;01mFalse\u001b[39;00m))\n",
      "File \u001b[0;32m~/.local/lib/python3.12/site-packages/numpy/linalg/_linalg.py:104\u001b[0m, in \u001b[0;36m_raise_linalgerror_singular\u001b[0;34m(err, flag)\u001b[0m\n\u001b[1;32m    103\u001b[0m \u001b[38;5;28;01mdef\u001b[39;00m \u001b[38;5;21m_raise_linalgerror_singular\u001b[39m(err, flag):\n\u001b[0;32m--> 104\u001b[0m     \u001b[38;5;28;01mraise\u001b[39;00m LinAlgError(\u001b[38;5;124m\"\u001b[39m\u001b[38;5;124mSingular matrix\u001b[39m\u001b[38;5;124m\"\u001b[39m)\n",
      "\u001b[0;31mLinAlgError\u001b[0m: Singular matrix"
     ]
    }
   ],
   "source": [
    "# duplicate columns 1 & 2, so inverse doesn't exist\n",
    "np.linalg.inv(XTX)"
   ]
  },
  {
   "cell_type": "code",
   "execution_count": 155,
   "id": "ead80ab6-2870-443f-99e6-14e3805b6303",
   "metadata": {},
   "outputs": [
    {
     "data": {
      "text/plain": [
       "array([[4., 4., 4.],\n",
       "       [3., 5., 5.],\n",
       "       [5., 1., 1.],\n",
       "       [5., 4., 4.],\n",
       "       [7., 5., 5.],\n",
       "       [4., 5., 5.]])"
      ]
     },
     "execution_count": 155,
     "metadata": {},
     "output_type": "execute_result"
    }
   ],
   "source": [
    "# This is not the case in 2.12, however.  Maybe our data isn't as clean?\n",
    "\n",
    "X = [\n",
    "    [4,4,4],\n",
    "    [3,5,5],\n",
    "    [5,1,1],\n",
    "    [5,4,4],\n",
    "    [7,5,5],\n",
    "    [4,5,5.00000000001], # Adding very small number to one value to make it difference\n",
    "]\n",
    "X = np.array(X)\n",
    "X"
   ]
  },
  {
   "cell_type": "code",
   "execution_count": 156,
   "id": "b31bd1e6-e1dd-4e2c-b02f-a8c6fe48e9d8",
   "metadata": {},
   "outputs": [],
   "source": [
    "XTX = X.T.dot(X)"
   ]
  },
  {
   "cell_type": "code",
   "execution_count": 158,
   "id": "c6c8abab-e812-4144-ab64-d5ec87fa8bea",
   "metadata": {},
   "outputs": [],
   "source": [
    "XTX_inv = np.linalg.inv(XTX)"
   ]
  },
  {
   "cell_type": "code",
   "execution_count": 159,
   "id": "8a12a9cf-e775-4bfe-8c50-27eb22a6988a",
   "metadata": {},
   "outputs": [],
   "source": [
    "# Just the slight difference makes the matrix not Singular anymore\n",
    "y = [1,2,3,1,2,3]"
   ]
  },
  {
   "cell_type": "code",
   "execution_count": 161,
   "id": "02c55d8a-c582-4f36-8a71-36d8f9cb320c",
   "metadata": {},
   "outputs": [
    {
     "data": {
      "text/plain": [
       "array([ 1.89343134e-01, -8.82242188e+02,  8.81968750e+02])"
      ]
     },
     "execution_count": 161,
     "metadata": {},
     "output_type": "execute_result"
    }
   ],
   "source": [
    "w = XTX_inv.dot(X.T).dot(y)\n",
    "w"
   ]
  },
  {
   "cell_type": "code",
   "execution_count": 173,
   "id": "2299f6e6-b4dd-4ea1-98ac-ffa07c3a144a",
   "metadata": {},
   "outputs": [],
   "source": [
    "# To solve this problem, we add a small number to the diagonal of XTX\n",
    "XTX = [\n",
    "    [1,2,2],\n",
    "    [2,1,1.0000001],\n",
    "    [2,1.0000001,1],\n",
    "]\n",
    "XTX = np.array(XTX)"
   ]
  },
  {
   "cell_type": "code",
   "execution_count": 174,
   "id": "979c600b-a065-4c17-9467-a8f245b4a41b",
   "metadata": {},
   "outputs": [
    {
     "data": {
      "text/plain": [
       "array([[-3.33333356e-01,  3.33333339e-01,  3.33333339e-01],\n",
       "       [ 3.33333339e-01, -5.00000008e+06,  4.99999991e+06],\n",
       "       [ 3.33333339e-01,  4.99999991e+06, -5.00000008e+06]])"
      ]
     },
     "execution_count": 174,
     "metadata": {},
     "output_type": "execute_result"
    }
   ],
   "source": [
    "np.linalg.inv(XTX)"
   ]
  },
  {
   "cell_type": "code",
   "execution_count": 180,
   "id": "1e3b6dc4-aaa2-4c4c-a399-34a9c49f2cd8",
   "metadata": {},
   "outputs": [],
   "source": [
    "XTX = XTX + .1*np.eye(3)"
   ]
  },
  {
   "cell_type": "code",
   "execution_count": 181,
   "id": "cd7fb0db-9f26-4c69-9244-bc710a3264c0",
   "metadata": {},
   "outputs": [
    {
     "data": {
      "text/plain": [
       "array([[-0.37292991,  0.35348805,  0.35348805],\n",
       "       [ 0.35348805,  4.44736574, -4.64355161],\n",
       "       [ 0.35348805, -4.64355161,  4.44736574]])"
      ]
     },
     "execution_count": 181,
     "metadata": {},
     "output_type": "execute_result"
    }
   ],
   "source": [
    "np.linalg.inv(XTX)"
   ]
  },
  {
   "cell_type": "code",
   "execution_count": 182,
   "id": "43ddac4e-0f0c-4a48-8e0b-b8d3c828fea0",
   "metadata": {},
   "outputs": [],
   "source": [
    "def train_linear_regression_reg(X,y,r=0.001):\n",
    "    ones = np.ones(X.shape[0])\n",
    "    X = np.column_stack([ones,X])\n",
    "    \n",
    "    XTX = X.T.dot(X)\n",
    "    XTX = XTX + r * np.eye(XTX.shape[0])\n",
    "    \n",
    "    XTX_inv = np.linalg.inv(XTX)\n",
    "    w_full = XTX_inv.dot(X.T).dot(y)\n",
    "    \n",
    "    return w_full[0],w_full[1:]"
   ]
  },
  {
   "cell_type": "code",
   "execution_count": 183,
   "id": "ed55b22a-6750-4f65-bb2f-a4adfd13ec46",
   "metadata": {},
   "outputs": [
    {
     "data": {
      "text/plain": [
       "np.float64(0.4565219901360649)"
      ]
     },
     "execution_count": 183,
     "metadata": {},
     "output_type": "execute_result"
    }
   ],
   "source": [
    "X_train = prepare_X(df_train)\n",
    "w0, w = train_linear_regression_reg(X_train,y_train,r=0.01)\n",
    "\n",
    "X_val = prepare_X(df_val)\n",
    "y_pred = w0 + X_val.dot(w)\n",
    "\n",
    "rmse(y_val,y_pred)"
   ]
  },
  {
   "cell_type": "code",
   "execution_count": 184,
   "id": "a71e498d-e195-4682-ab4b-c3dee12b6181",
   "metadata": {},
   "outputs": [],
   "source": [
    "# RMSE is getting lower and lower, so now we find the optimum value of r such that rmse is minimized"
   ]
  },
  {
   "cell_type": "markdown",
   "id": "b5ee7bac-6652-4627-9641-b974e57aacf6",
   "metadata": {},
   "source": [
    "## 2.14 Tuning the model"
   ]
  },
  {
   "cell_type": "code",
   "execution_count": 186,
   "id": "ef3e2e4e-4418-4ee0-a95b-affeb36008dd",
   "metadata": {},
   "outputs": [
    {
     "name": "stdout",
     "output_type": "stream",
     "text": [
      "0.0 -1.550108927151725e+17 361.03338894022045\n",
      "1e-05 8.15395865326669 0.45651699476496055\n",
      "0.0001 6.303294947496159 0.45651706375189144\n",
      "0.001 6.285350244364292 0.45651750858685114\n",
      "0.1 6.191208723398568 0.4565692763023319\n",
      "1 5.634896667830646 0.45722043179943717\n",
      "10 4.283980108988667 0.47014569320993477\n"
     ]
    }
   ],
   "source": [
    "# We use the validation set to tune\n",
    "\n",
    "for r in [0.0,0.00001,0.0001,0.001,0.1,1,10]:\n",
    "    X_train = prepare_X(df_train)\n",
    "    w0, w = train_linear_regression_reg(X_train,y_train,r)\n",
    "    \n",
    "    X_val = prepare_X(df_val)\n",
    "    y_pred = w0 + X_val.dot(w)\n",
    "    score = rmse(y_val,y_pred)\n",
    "\n",
    "    print(r,w0,score)"
   ]
  },
  {
   "cell_type": "code",
   "execution_count": 189,
   "id": "0eb37901-9c6a-44b4-ba97-2ce08ee4caf6",
   "metadata": {},
   "outputs": [],
   "source": [
    "r = .001"
   ]
  },
  {
   "cell_type": "code",
   "execution_count": 190,
   "id": "c5ca8b36-3a3b-45aa-aec5-0c25a8fbc111",
   "metadata": {},
   "outputs": [
    {
     "data": {
      "text/plain": [
       "np.float64(0.45651750858685114)"
      ]
     },
     "execution_count": 190,
     "metadata": {},
     "output_type": "execute_result"
    }
   ],
   "source": [
    "X_train = prepare_X(df_train)\n",
    "w0, w = train_linear_regression_reg(X_train,y_train,r)\n",
    "\n",
    "X_val = prepare_X(df_val)\n",
    "y_pred = w0 + X_val.dot(w)\n",
    "score = rmse(y_val,y_pred)\n",
    "score"
   ]
  },
  {
   "cell_type": "markdown",
   "id": "c7561a37-a691-4a7d-be50-85f4abe04347",
   "metadata": {},
   "source": [
    "## 2.15 Using the model"
   ]
  },
  {
   "cell_type": "code",
   "execution_count": 194,
   "id": "49b30252-7b4c-4017-9c6b-bc5553abb6fc",
   "metadata": {},
   "outputs": [],
   "source": [
    "# Now we train the final model and use it\n",
    "# Now we use Train + Val, then final eval on Test set, check RMSE, etc.  Basically duplicating previous efforts with different sets\n",
    "df_full_train = pd.concat([df_train, df_val])"
   ]
  },
  {
   "cell_type": "code",
   "execution_count": 196,
   "id": "cdce41a5-d390-4ae8-a3a7-978d0a529c27",
   "metadata": {},
   "outputs": [],
   "source": [
    "df_full_train = df_full_train.reset_index(drop=True)"
   ]
  },
  {
   "cell_type": "code",
   "execution_count": 197,
   "id": "c9b2b847-e9ce-46c7-a4d8-5948c8ae9b36",
   "metadata": {},
   "outputs": [
    {
     "data": {
      "text/html": [
       "<div>\n",
       "<style scoped>\n",
       "    .dataframe tbody tr th:only-of-type {\n",
       "        vertical-align: middle;\n",
       "    }\n",
       "\n",
       "    .dataframe tbody tr th {\n",
       "        vertical-align: top;\n",
       "    }\n",
       "\n",
       "    .dataframe thead th {\n",
       "        text-align: right;\n",
       "    }\n",
       "</style>\n",
       "<table border=\"1\" class=\"dataframe\">\n",
       "  <thead>\n",
       "    <tr style=\"text-align: right;\">\n",
       "      <th></th>\n",
       "      <th>make</th>\n",
       "      <th>model</th>\n",
       "      <th>year</th>\n",
       "      <th>engine_fuel_type</th>\n",
       "      <th>engine_hp</th>\n",
       "      <th>engine_cylinders</th>\n",
       "      <th>transmission_type</th>\n",
       "      <th>driven_wheels</th>\n",
       "      <th>number_of_doors</th>\n",
       "      <th>market_category</th>\n",
       "      <th>vehicle_size</th>\n",
       "      <th>vehicle_style</th>\n",
       "      <th>highway_mpg</th>\n",
       "      <th>city_mpg</th>\n",
       "      <th>popularity</th>\n",
       "    </tr>\n",
       "  </thead>\n",
       "  <tbody>\n",
       "    <tr>\n",
       "      <th>0</th>\n",
       "      <td>chevrolet</td>\n",
       "      <td>cobalt</td>\n",
       "      <td>2008</td>\n",
       "      <td>regular_unleaded</td>\n",
       "      <td>148.0</td>\n",
       "      <td>4.0</td>\n",
       "      <td>manual</td>\n",
       "      <td>front_wheel_drive</td>\n",
       "      <td>2.0</td>\n",
       "      <td>NaN</td>\n",
       "      <td>compact</td>\n",
       "      <td>coupe</td>\n",
       "      <td>33</td>\n",
       "      <td>24</td>\n",
       "      <td>1385</td>\n",
       "    </tr>\n",
       "    <tr>\n",
       "      <th>1</th>\n",
       "      <td>toyota</td>\n",
       "      <td>matrix</td>\n",
       "      <td>2012</td>\n",
       "      <td>regular_unleaded</td>\n",
       "      <td>132.0</td>\n",
       "      <td>4.0</td>\n",
       "      <td>automatic</td>\n",
       "      <td>front_wheel_drive</td>\n",
       "      <td>4.0</td>\n",
       "      <td>hatchback</td>\n",
       "      <td>compact</td>\n",
       "      <td>4dr_hatchback</td>\n",
       "      <td>32</td>\n",
       "      <td>25</td>\n",
       "      <td>2031</td>\n",
       "    </tr>\n",
       "    <tr>\n",
       "      <th>2</th>\n",
       "      <td>subaru</td>\n",
       "      <td>impreza</td>\n",
       "      <td>2016</td>\n",
       "      <td>regular_unleaded</td>\n",
       "      <td>148.0</td>\n",
       "      <td>4.0</td>\n",
       "      <td>automatic</td>\n",
       "      <td>all_wheel_drive</td>\n",
       "      <td>4.0</td>\n",
       "      <td>hatchback</td>\n",
       "      <td>compact</td>\n",
       "      <td>4dr_hatchback</td>\n",
       "      <td>37</td>\n",
       "      <td>28</td>\n",
       "      <td>640</td>\n",
       "    </tr>\n",
       "    <tr>\n",
       "      <th>3</th>\n",
       "      <td>volkswagen</td>\n",
       "      <td>vanagon</td>\n",
       "      <td>1991</td>\n",
       "      <td>regular_unleaded</td>\n",
       "      <td>90.0</td>\n",
       "      <td>4.0</td>\n",
       "      <td>manual</td>\n",
       "      <td>rear_wheel_drive</td>\n",
       "      <td>3.0</td>\n",
       "      <td>NaN</td>\n",
       "      <td>large</td>\n",
       "      <td>passenger_minivan</td>\n",
       "      <td>18</td>\n",
       "      <td>16</td>\n",
       "      <td>873</td>\n",
       "    </tr>\n",
       "    <tr>\n",
       "      <th>4</th>\n",
       "      <td>ford</td>\n",
       "      <td>f-150</td>\n",
       "      <td>2017</td>\n",
       "      <td>flex-fuel_(unleaded/e85)</td>\n",
       "      <td>385.0</td>\n",
       "      <td>8.0</td>\n",
       "      <td>automatic</td>\n",
       "      <td>four_wheel_drive</td>\n",
       "      <td>4.0</td>\n",
       "      <td>flex_fuel</td>\n",
       "      <td>large</td>\n",
       "      <td>crew_cab_pickup</td>\n",
       "      <td>21</td>\n",
       "      <td>15</td>\n",
       "      <td>5657</td>\n",
       "    </tr>\n",
       "    <tr>\n",
       "      <th>...</th>\n",
       "      <td>...</td>\n",
       "      <td>...</td>\n",
       "      <td>...</td>\n",
       "      <td>...</td>\n",
       "      <td>...</td>\n",
       "      <td>...</td>\n",
       "      <td>...</td>\n",
       "      <td>...</td>\n",
       "      <td>...</td>\n",
       "      <td>...</td>\n",
       "      <td>...</td>\n",
       "      <td>...</td>\n",
       "      <td>...</td>\n",
       "      <td>...</td>\n",
       "      <td>...</td>\n",
       "    </tr>\n",
       "    <tr>\n",
       "      <th>9527</th>\n",
       "      <td>volvo</td>\n",
       "      <td>v60</td>\n",
       "      <td>2015</td>\n",
       "      <td>regular_unleaded</td>\n",
       "      <td>240.0</td>\n",
       "      <td>4.0</td>\n",
       "      <td>automatic</td>\n",
       "      <td>front_wheel_drive</td>\n",
       "      <td>4.0</td>\n",
       "      <td>luxury</td>\n",
       "      <td>midsize</td>\n",
       "      <td>wagon</td>\n",
       "      <td>37</td>\n",
       "      <td>25</td>\n",
       "      <td>870</td>\n",
       "    </tr>\n",
       "    <tr>\n",
       "      <th>9528</th>\n",
       "      <td>maserati</td>\n",
       "      <td>granturismo_convertible</td>\n",
       "      <td>2015</td>\n",
       "      <td>premium_unleaded_(required)</td>\n",
       "      <td>444.0</td>\n",
       "      <td>8.0</td>\n",
       "      <td>automatic</td>\n",
       "      <td>rear_wheel_drive</td>\n",
       "      <td>2.0</td>\n",
       "      <td>exotic,luxury,high-performance</td>\n",
       "      <td>midsize</td>\n",
       "      <td>convertible</td>\n",
       "      <td>20</td>\n",
       "      <td>13</td>\n",
       "      <td>238</td>\n",
       "    </tr>\n",
       "    <tr>\n",
       "      <th>9529</th>\n",
       "      <td>cadillac</td>\n",
       "      <td>escalade_hybrid</td>\n",
       "      <td>2013</td>\n",
       "      <td>regular_unleaded</td>\n",
       "      <td>332.0</td>\n",
       "      <td>8.0</td>\n",
       "      <td>automatic</td>\n",
       "      <td>rear_wheel_drive</td>\n",
       "      <td>4.0</td>\n",
       "      <td>luxury,hybrid</td>\n",
       "      <td>large</td>\n",
       "      <td>4dr_suv</td>\n",
       "      <td>23</td>\n",
       "      <td>20</td>\n",
       "      <td>1624</td>\n",
       "    </tr>\n",
       "    <tr>\n",
       "      <th>9530</th>\n",
       "      <td>mitsubishi</td>\n",
       "      <td>lancer</td>\n",
       "      <td>2016</td>\n",
       "      <td>regular_unleaded</td>\n",
       "      <td>148.0</td>\n",
       "      <td>4.0</td>\n",
       "      <td>manual</td>\n",
       "      <td>front_wheel_drive</td>\n",
       "      <td>4.0</td>\n",
       "      <td>NaN</td>\n",
       "      <td>compact</td>\n",
       "      <td>sedan</td>\n",
       "      <td>34</td>\n",
       "      <td>24</td>\n",
       "      <td>436</td>\n",
       "    </tr>\n",
       "    <tr>\n",
       "      <th>9531</th>\n",
       "      <td>kia</td>\n",
       "      <td>sorento</td>\n",
       "      <td>2015</td>\n",
       "      <td>regular_unleaded</td>\n",
       "      <td>290.0</td>\n",
       "      <td>6.0</td>\n",
       "      <td>automatic</td>\n",
       "      <td>front_wheel_drive</td>\n",
       "      <td>4.0</td>\n",
       "      <td>crossover</td>\n",
       "      <td>midsize</td>\n",
       "      <td>4dr_suv</td>\n",
       "      <td>25</td>\n",
       "      <td>18</td>\n",
       "      <td>1720</td>\n",
       "    </tr>\n",
       "  </tbody>\n",
       "</table>\n",
       "<p>9532 rows × 15 columns</p>\n",
       "</div>"
      ],
      "text/plain": [
       "            make                    model  year             engine_fuel_type  \\\n",
       "0      chevrolet                   cobalt  2008             regular_unleaded   \n",
       "1         toyota                   matrix  2012             regular_unleaded   \n",
       "2         subaru                  impreza  2016             regular_unleaded   \n",
       "3     volkswagen                  vanagon  1991             regular_unleaded   \n",
       "4           ford                    f-150  2017     flex-fuel_(unleaded/e85)   \n",
       "...          ...                      ...   ...                          ...   \n",
       "9527       volvo                      v60  2015             regular_unleaded   \n",
       "9528    maserati  granturismo_convertible  2015  premium_unleaded_(required)   \n",
       "9529    cadillac          escalade_hybrid  2013             regular_unleaded   \n",
       "9530  mitsubishi                   lancer  2016             regular_unleaded   \n",
       "9531         kia                  sorento  2015             regular_unleaded   \n",
       "\n",
       "      engine_hp  engine_cylinders transmission_type      driven_wheels  \\\n",
       "0         148.0               4.0            manual  front_wheel_drive   \n",
       "1         132.0               4.0         automatic  front_wheel_drive   \n",
       "2         148.0               4.0         automatic    all_wheel_drive   \n",
       "3          90.0               4.0            manual   rear_wheel_drive   \n",
       "4         385.0               8.0         automatic   four_wheel_drive   \n",
       "...         ...               ...               ...                ...   \n",
       "9527      240.0               4.0         automatic  front_wheel_drive   \n",
       "9528      444.0               8.0         automatic   rear_wheel_drive   \n",
       "9529      332.0               8.0         automatic   rear_wheel_drive   \n",
       "9530      148.0               4.0            manual  front_wheel_drive   \n",
       "9531      290.0               6.0         automatic  front_wheel_drive   \n",
       "\n",
       "      number_of_doors                 market_category vehicle_size  \\\n",
       "0                 2.0                             NaN      compact   \n",
       "1                 4.0                       hatchback      compact   \n",
       "2                 4.0                       hatchback      compact   \n",
       "3                 3.0                             NaN        large   \n",
       "4                 4.0                       flex_fuel        large   \n",
       "...               ...                             ...          ...   \n",
       "9527              4.0                          luxury      midsize   \n",
       "9528              2.0  exotic,luxury,high-performance      midsize   \n",
       "9529              4.0                   luxury,hybrid        large   \n",
       "9530              4.0                             NaN      compact   \n",
       "9531              4.0                       crossover      midsize   \n",
       "\n",
       "          vehicle_style  highway_mpg  city_mpg  popularity  \n",
       "0                 coupe           33        24        1385  \n",
       "1         4dr_hatchback           32        25        2031  \n",
       "2         4dr_hatchback           37        28         640  \n",
       "3     passenger_minivan           18        16         873  \n",
       "4       crew_cab_pickup           21        15        5657  \n",
       "...                 ...          ...       ...         ...  \n",
       "9527              wagon           37        25         870  \n",
       "9528        convertible           20        13         238  \n",
       "9529            4dr_suv           23        20        1624  \n",
       "9530              sedan           34        24         436  \n",
       "9531            4dr_suv           25        18        1720  \n",
       "\n",
       "[9532 rows x 15 columns]"
      ]
     },
     "execution_count": 197,
     "metadata": {},
     "output_type": "execute_result"
    }
   ],
   "source": [
    "df_full_train"
   ]
  },
  {
   "cell_type": "code",
   "execution_count": 198,
   "id": "2ae57cc0-e5a8-4cbf-aba3-db066443e2a1",
   "metadata": {},
   "outputs": [],
   "source": [
    "X_full_train = prepare_X(df_full_train)"
   ]
  },
  {
   "cell_type": "code",
   "execution_count": 199,
   "id": "beef918e-b7c5-4387-8248-9b78422696cd",
   "metadata": {},
   "outputs": [
    {
     "data": {
      "text/plain": [
       "array([[148.,   4.,  33., ...,   0.,   0.,   0.],\n",
       "       [132.,   4.,  32., ...,   0.,   1.,   0.],\n",
       "       [148.,   4.,  37., ...,   0.,   0.,   0.],\n",
       "       ...,\n",
       "       [332.,   8.,  23., ...,   0.,   0.,   0.],\n",
       "       [148.,   4.,  34., ...,   0.,   0.,   0.],\n",
       "       [290.,   6.,  25., ...,   0.,   0.,   0.]], shape=(9532, 41))"
      ]
     },
     "execution_count": 199,
     "metadata": {},
     "output_type": "execute_result"
    }
   ],
   "source": [
    "X_full_train"
   ]
  },
  {
   "cell_type": "code",
   "execution_count": 201,
   "id": "ed419e08-ae0d-46b4-99fe-1c6b93a9fb9e",
   "metadata": {},
   "outputs": [],
   "source": [
    "y_full_train = np.concatenate([y_train,y_val])"
   ]
  },
  {
   "cell_type": "code",
   "execution_count": 202,
   "id": "de7f84c7-c119-4ad6-9722-673aec4be664",
   "metadata": {},
   "outputs": [],
   "source": [
    "w0, w = train_linear_regression_reg(X_full_train,y_full_train,0.001)"
   ]
  },
  {
   "cell_type": "code",
   "execution_count": 203,
   "id": "d65e9900-a94a-4c81-8e86-368bbf0e71e8",
   "metadata": {},
   "outputs": [
    {
     "data": {
      "text/plain": [
       "np.float64(6.322768982527974)"
      ]
     },
     "execution_count": 203,
     "metadata": {},
     "output_type": "execute_result"
    }
   ],
   "source": [
    "w0"
   ]
  },
  {
   "cell_type": "code",
   "execution_count": 204,
   "id": "4e7b53ba-36be-4782-9293-945549938be3",
   "metadata": {},
   "outputs": [
    {
     "data": {
      "text/plain": [
       "array([ 1.52506331e-03,  1.18188700e-01, -6.66105576e-03, -5.33413939e-03,\n",
       "       -4.87603204e-05, -9.69091843e-02, -7.92621233e-01, -8.90862443e-01,\n",
       "       -6.35101165e-01, -4.66859162e-01,  7.98659233e-02, -3.16047710e-01,\n",
       "       -5.51981681e-01, -7.89526282e-02,  1.09430576e+00,  9.18998219e-01,\n",
       "        1.14857563e+00,  2.65171150e+00,  5.08934816e-01,  1.62952674e+00,\n",
       "        1.53023080e+00,  1.61740953e+00,  1.54540891e+00, -9.70559758e-02,\n",
       "        3.73062093e-02, -5.81767477e-02, -1.19357178e-02, -2.35940835e-02,\n",
       "        2.18895259e+00,  2.07458269e+00,  2.05916685e+00, -5.00802769e-02,\n",
       "        5.62184639e-02,  1.84794024e-01,  3.32646151e-01, -1.58817038e-01,\n",
       "       -4.14339217e-02,  1.75560742e-01, -5.78065829e-04, -1.00563875e-01,\n",
       "       -9.27549655e-02])"
      ]
     },
     "execution_count": 204,
     "metadata": {},
     "output_type": "execute_result"
    }
   ],
   "source": [
    "w"
   ]
  },
  {
   "cell_type": "code",
   "execution_count": 206,
   "id": "ecb46c26-0d63-49cb-a72c-c58b5d89baee",
   "metadata": {},
   "outputs": [
    {
     "data": {
      "text/plain": [
       "np.float64(0.4517749308437982)"
      ]
     },
     "execution_count": 206,
     "metadata": {},
     "output_type": "execute_result"
    }
   ],
   "source": [
    "# prepare test data set to validate\n",
    "X_test = prepare_X(df_test)\n",
    "y_pred = w0 + X_test.dot(w)\n",
    "score = rmse(y_test,y_pred)\n",
    "score"
   ]
  },
  {
   "cell_type": "code",
   "execution_count": 207,
   "id": "477fd1b0-e041-4fae-8276-7905b40a9769",
   "metadata": {},
   "outputs": [],
   "source": [
    "# This tells us that we didn't get the rmse score just by chance, but that the weights are sound\n",
    "# Now let's use it to actually predict a price of a car"
   ]
  },
  {
   "cell_type": "code",
   "execution_count": 212,
   "id": "f4403ac9-f727-4c5b-bc96-ac7aee647c60",
   "metadata": {},
   "outputs": [
    {
     "data": {
      "text/plain": [
       "{'make': 'toyota',\n",
       " 'model': 'sienna',\n",
       " 'year': 2015,\n",
       " 'engine_fuel_type': 'regular_unleaded',\n",
       " 'engine_hp': 266.0,\n",
       " 'engine_cylinders': 6.0,\n",
       " 'transmission_type': 'automatic',\n",
       " 'driven_wheels': 'front_wheel_drive',\n",
       " 'number_of_doors': 4.0,\n",
       " 'market_category': nan,\n",
       " 'vehicle_size': 'large',\n",
       " 'vehicle_style': 'passenger_minivan',\n",
       " 'highway_mpg': 25,\n",
       " 'city_mpg': 18,\n",
       " 'popularity': 2031}"
      ]
     },
     "execution_count": 212,
     "metadata": {},
     "output_type": "execute_result"
    }
   ],
   "source": [
    "car = df_test.iloc[20].to_dict() # We use df_test here because the model was not exposed to these cars during testing, by design\n",
    "car"
   ]
  },
  {
   "cell_type": "code",
   "execution_count": 215,
   "id": "3af007a8-b5ca-4e36-9655-2b9ddddb6e1a",
   "metadata": {},
   "outputs": [
    {
     "data": {
      "text/html": [
       "<div>\n",
       "<style scoped>\n",
       "    .dataframe tbody tr th:only-of-type {\n",
       "        vertical-align: middle;\n",
       "    }\n",
       "\n",
       "    .dataframe tbody tr th {\n",
       "        vertical-align: top;\n",
       "    }\n",
       "\n",
       "    .dataframe thead th {\n",
       "        text-align: right;\n",
       "    }\n",
       "</style>\n",
       "<table border=\"1\" class=\"dataframe\">\n",
       "  <thead>\n",
       "    <tr style=\"text-align: right;\">\n",
       "      <th></th>\n",
       "      <th>make</th>\n",
       "      <th>model</th>\n",
       "      <th>year</th>\n",
       "      <th>engine_fuel_type</th>\n",
       "      <th>engine_hp</th>\n",
       "      <th>engine_cylinders</th>\n",
       "      <th>transmission_type</th>\n",
       "      <th>driven_wheels</th>\n",
       "      <th>number_of_doors</th>\n",
       "      <th>market_category</th>\n",
       "      <th>vehicle_size</th>\n",
       "      <th>vehicle_style</th>\n",
       "      <th>highway_mpg</th>\n",
       "      <th>city_mpg</th>\n",
       "      <th>popularity</th>\n",
       "    </tr>\n",
       "  </thead>\n",
       "  <tbody>\n",
       "    <tr>\n",
       "      <th>0</th>\n",
       "      <td>toyota</td>\n",
       "      <td>sienna</td>\n",
       "      <td>2015</td>\n",
       "      <td>regular_unleaded</td>\n",
       "      <td>266.0</td>\n",
       "      <td>6.0</td>\n",
       "      <td>automatic</td>\n",
       "      <td>front_wheel_drive</td>\n",
       "      <td>4.0</td>\n",
       "      <td>NaN</td>\n",
       "      <td>large</td>\n",
       "      <td>passenger_minivan</td>\n",
       "      <td>25</td>\n",
       "      <td>18</td>\n",
       "      <td>2031</td>\n",
       "    </tr>\n",
       "  </tbody>\n",
       "</table>\n",
       "</div>"
      ],
      "text/plain": [
       "     make   model  year  engine_fuel_type  engine_hp  engine_cylinders  \\\n",
       "0  toyota  sienna  2015  regular_unleaded      266.0               6.0   \n",
       "\n",
       "  transmission_type      driven_wheels  number_of_doors  market_category  \\\n",
       "0         automatic  front_wheel_drive              4.0              NaN   \n",
       "\n",
       "  vehicle_size      vehicle_style  highway_mpg  city_mpg  popularity  \n",
       "0        large  passenger_minivan           25        18        2031  "
      ]
     },
     "execution_count": 215,
     "metadata": {},
     "output_type": "execute_result"
    }
   ],
   "source": [
    "df_small = pd.DataFrame([car])\n",
    "df_small"
   ]
  },
  {
   "cell_type": "code",
   "execution_count": 217,
   "id": "77a266c4-fa2b-47b9-a311-ca56307086d9",
   "metadata": {},
   "outputs": [],
   "source": [
    "X_small = prepare_X(df_small)"
   ]
  },
  {
   "cell_type": "code",
   "execution_count": 220,
   "id": "51fd3ebe-148d-4a8a-aff8-e84f388cc84a",
   "metadata": {},
   "outputs": [
    {
     "data": {
      "text/plain": [
       "np.float64(10.462651695506128)"
      ]
     },
     "execution_count": 220,
     "metadata": {},
     "output_type": "execute_result"
    }
   ],
   "source": [
    "y_pred = w0 + X_small.dot(w)\n",
    "y_pred[0]"
   ]
  },
  {
   "cell_type": "code",
   "execution_count": 226,
   "id": "f957a1ca-52e5-4949-9c1f-08970e757d29",
   "metadata": {},
   "outputs": [
    {
     "data": {
      "text/plain": [
       "np.float64(34983.195995378424)"
      ]
     },
     "execution_count": 226,
     "metadata": {},
     "output_type": "execute_result"
    }
   ],
   "source": [
    "np.expm1(y_pred[0])"
   ]
  },
  {
   "cell_type": "code",
   "execution_count": 222,
   "id": "483f57c3-7df1-497f-83cf-0ba77153bd6b",
   "metadata": {},
   "outputs": [
    {
     "data": {
      "text/html": [
       "<div>\n",
       "<style scoped>\n",
       "    .dataframe tbody tr th:only-of-type {\n",
       "        vertical-align: middle;\n",
       "    }\n",
       "\n",
       "    .dataframe tbody tr th {\n",
       "        vertical-align: top;\n",
       "    }\n",
       "\n",
       "    .dataframe thead th {\n",
       "        text-align: right;\n",
       "    }\n",
       "</style>\n",
       "<table border=\"1\" class=\"dataframe\">\n",
       "  <thead>\n",
       "    <tr style=\"text-align: right;\">\n",
       "      <th></th>\n",
       "      <th>make</th>\n",
       "      <th>model</th>\n",
       "      <th>year</th>\n",
       "      <th>engine_fuel_type</th>\n",
       "      <th>engine_hp</th>\n",
       "      <th>engine_cylinders</th>\n",
       "      <th>transmission_type</th>\n",
       "      <th>driven_wheels</th>\n",
       "      <th>number_of_doors</th>\n",
       "      <th>market_category</th>\n",
       "      <th>vehicle_size</th>\n",
       "      <th>vehicle_style</th>\n",
       "      <th>highway_mpg</th>\n",
       "      <th>city_mpg</th>\n",
       "      <th>popularity</th>\n",
       "    </tr>\n",
       "  </thead>\n",
       "  <tbody>\n",
       "    <tr>\n",
       "      <th>2735</th>\n",
       "      <td>chevrolet</td>\n",
       "      <td>cobalt</td>\n",
       "      <td>2008</td>\n",
       "      <td>regular_unleaded</td>\n",
       "      <td>148.0</td>\n",
       "      <td>4.0</td>\n",
       "      <td>manual</td>\n",
       "      <td>front_wheel_drive</td>\n",
       "      <td>2.0</td>\n",
       "      <td>NaN</td>\n",
       "      <td>compact</td>\n",
       "      <td>coupe</td>\n",
       "      <td>33</td>\n",
       "      <td>24</td>\n",
       "      <td>1385</td>\n",
       "    </tr>\n",
       "    <tr>\n",
       "      <th>6720</th>\n",
       "      <td>toyota</td>\n",
       "      <td>matrix</td>\n",
       "      <td>2012</td>\n",
       "      <td>regular_unleaded</td>\n",
       "      <td>132.0</td>\n",
       "      <td>4.0</td>\n",
       "      <td>automatic</td>\n",
       "      <td>front_wheel_drive</td>\n",
       "      <td>4.0</td>\n",
       "      <td>hatchback</td>\n",
       "      <td>compact</td>\n",
       "      <td>4dr_hatchback</td>\n",
       "      <td>32</td>\n",
       "      <td>25</td>\n",
       "      <td>2031</td>\n",
       "    </tr>\n",
       "    <tr>\n",
       "      <th>5878</th>\n",
       "      <td>subaru</td>\n",
       "      <td>impreza</td>\n",
       "      <td>2016</td>\n",
       "      <td>regular_unleaded</td>\n",
       "      <td>148.0</td>\n",
       "      <td>4.0</td>\n",
       "      <td>automatic</td>\n",
       "      <td>all_wheel_drive</td>\n",
       "      <td>4.0</td>\n",
       "      <td>hatchback</td>\n",
       "      <td>compact</td>\n",
       "      <td>4dr_hatchback</td>\n",
       "      <td>37</td>\n",
       "      <td>28</td>\n",
       "      <td>640</td>\n",
       "    </tr>\n",
       "    <tr>\n",
       "      <th>11190</th>\n",
       "      <td>volkswagen</td>\n",
       "      <td>vanagon</td>\n",
       "      <td>1991</td>\n",
       "      <td>regular_unleaded</td>\n",
       "      <td>90.0</td>\n",
       "      <td>4.0</td>\n",
       "      <td>manual</td>\n",
       "      <td>rear_wheel_drive</td>\n",
       "      <td>3.0</td>\n",
       "      <td>NaN</td>\n",
       "      <td>large</td>\n",
       "      <td>passenger_minivan</td>\n",
       "      <td>18</td>\n",
       "      <td>16</td>\n",
       "      <td>873</td>\n",
       "    </tr>\n",
       "    <tr>\n",
       "      <th>4554</th>\n",
       "      <td>ford</td>\n",
       "      <td>f-150</td>\n",
       "      <td>2017</td>\n",
       "      <td>flex-fuel_(unleaded/e85)</td>\n",
       "      <td>385.0</td>\n",
       "      <td>8.0</td>\n",
       "      <td>automatic</td>\n",
       "      <td>four_wheel_drive</td>\n",
       "      <td>4.0</td>\n",
       "      <td>flex_fuel</td>\n",
       "      <td>large</td>\n",
       "      <td>crew_cab_pickup</td>\n",
       "      <td>21</td>\n",
       "      <td>15</td>\n",
       "      <td>5657</td>\n",
       "    </tr>\n",
       "    <tr>\n",
       "      <th>...</th>\n",
       "      <td>...</td>\n",
       "      <td>...</td>\n",
       "      <td>...</td>\n",
       "      <td>...</td>\n",
       "      <td>...</td>\n",
       "      <td>...</td>\n",
       "      <td>...</td>\n",
       "      <td>...</td>\n",
       "      <td>...</td>\n",
       "      <td>...</td>\n",
       "      <td>...</td>\n",
       "      <td>...</td>\n",
       "      <td>...</td>\n",
       "      <td>...</td>\n",
       "      <td>...</td>\n",
       "    </tr>\n",
       "    <tr>\n",
       "      <th>434</th>\n",
       "      <td>bmw</td>\n",
       "      <td>4_series</td>\n",
       "      <td>2015</td>\n",
       "      <td>premium_unleaded_(required)</td>\n",
       "      <td>300.0</td>\n",
       "      <td>6.0</td>\n",
       "      <td>automatic</td>\n",
       "      <td>rear_wheel_drive</td>\n",
       "      <td>2.0</td>\n",
       "      <td>luxury,performance</td>\n",
       "      <td>midsize</td>\n",
       "      <td>convertible</td>\n",
       "      <td>31</td>\n",
       "      <td>20</td>\n",
       "      <td>3916</td>\n",
       "    </tr>\n",
       "    <tr>\n",
       "      <th>1902</th>\n",
       "      <td>volkswagen</td>\n",
       "      <td>beetle</td>\n",
       "      <td>2015</td>\n",
       "      <td>premium_unleaded_(recommended)</td>\n",
       "      <td>210.0</td>\n",
       "      <td>4.0</td>\n",
       "      <td>automated_manual</td>\n",
       "      <td>front_wheel_drive</td>\n",
       "      <td>2.0</td>\n",
       "      <td>hatchback,performance</td>\n",
       "      <td>compact</td>\n",
       "      <td>2dr_hatchback</td>\n",
       "      <td>30</td>\n",
       "      <td>24</td>\n",
       "      <td>873</td>\n",
       "    </tr>\n",
       "    <tr>\n",
       "      <th>9334</th>\n",
       "      <td>gmc</td>\n",
       "      <td>sierra_1500</td>\n",
       "      <td>2015</td>\n",
       "      <td>flex-fuel_(unleaded/e85)</td>\n",
       "      <td>285.0</td>\n",
       "      <td>6.0</td>\n",
       "      <td>automatic</td>\n",
       "      <td>four_wheel_drive</td>\n",
       "      <td>4.0</td>\n",
       "      <td>flex_fuel</td>\n",
       "      <td>large</td>\n",
       "      <td>extended_cab_pickup</td>\n",
       "      <td>22</td>\n",
       "      <td>17</td>\n",
       "      <td>549</td>\n",
       "    </tr>\n",
       "    <tr>\n",
       "      <th>5284</th>\n",
       "      <td>rolls-royce</td>\n",
       "      <td>ghost</td>\n",
       "      <td>2014</td>\n",
       "      <td>premium_unleaded_(required)</td>\n",
       "      <td>563.0</td>\n",
       "      <td>12.0</td>\n",
       "      <td>automatic</td>\n",
       "      <td>rear_wheel_drive</td>\n",
       "      <td>4.0</td>\n",
       "      <td>exotic,luxury,performance</td>\n",
       "      <td>large</td>\n",
       "      <td>sedan</td>\n",
       "      <td>21</td>\n",
       "      <td>13</td>\n",
       "      <td>86</td>\n",
       "    </tr>\n",
       "    <tr>\n",
       "      <th>2420</th>\n",
       "      <td>volkswagen</td>\n",
       "      <td>cc</td>\n",
       "      <td>2017</td>\n",
       "      <td>premium_unleaded_(recommended)</td>\n",
       "      <td>200.0</td>\n",
       "      <td>4.0</td>\n",
       "      <td>automated_manual</td>\n",
       "      <td>front_wheel_drive</td>\n",
       "      <td>4.0</td>\n",
       "      <td>performance</td>\n",
       "      <td>midsize</td>\n",
       "      <td>sedan</td>\n",
       "      <td>31</td>\n",
       "      <td>22</td>\n",
       "      <td>873</td>\n",
       "    </tr>\n",
       "  </tbody>\n",
       "</table>\n",
       "<p>7150 rows × 15 columns</p>\n",
       "</div>"
      ],
      "text/plain": [
       "              make        model  year                engine_fuel_type  \\\n",
       "2735     chevrolet       cobalt  2008                regular_unleaded   \n",
       "6720        toyota       matrix  2012                regular_unleaded   \n",
       "5878        subaru      impreza  2016                regular_unleaded   \n",
       "11190   volkswagen      vanagon  1991                regular_unleaded   \n",
       "4554          ford        f-150  2017        flex-fuel_(unleaded/e85)   \n",
       "...            ...          ...   ...                             ...   \n",
       "434            bmw     4_series  2015     premium_unleaded_(required)   \n",
       "1902    volkswagen       beetle  2015  premium_unleaded_(recommended)   \n",
       "9334           gmc  sierra_1500  2015        flex-fuel_(unleaded/e85)   \n",
       "5284   rolls-royce        ghost  2014     premium_unleaded_(required)   \n",
       "2420    volkswagen           cc  2017  premium_unleaded_(recommended)   \n",
       "\n",
       "       engine_hp  engine_cylinders transmission_type      driven_wheels  \\\n",
       "2735       148.0               4.0            manual  front_wheel_drive   \n",
       "6720       132.0               4.0         automatic  front_wheel_drive   \n",
       "5878       148.0               4.0         automatic    all_wheel_drive   \n",
       "11190       90.0               4.0            manual   rear_wheel_drive   \n",
       "4554       385.0               8.0         automatic   four_wheel_drive   \n",
       "...          ...               ...               ...                ...   \n",
       "434        300.0               6.0         automatic   rear_wheel_drive   \n",
       "1902       210.0               4.0  automated_manual  front_wheel_drive   \n",
       "9334       285.0               6.0         automatic   four_wheel_drive   \n",
       "5284       563.0              12.0         automatic   rear_wheel_drive   \n",
       "2420       200.0               4.0  automated_manual  front_wheel_drive   \n",
       "\n",
       "       number_of_doors            market_category vehicle_size  \\\n",
       "2735               2.0                        NaN      compact   \n",
       "6720               4.0                  hatchback      compact   \n",
       "5878               4.0                  hatchback      compact   \n",
       "11190              3.0                        NaN        large   \n",
       "4554               4.0                  flex_fuel        large   \n",
       "...                ...                        ...          ...   \n",
       "434                2.0         luxury,performance      midsize   \n",
       "1902               2.0      hatchback,performance      compact   \n",
       "9334               4.0                  flex_fuel        large   \n",
       "5284               4.0  exotic,luxury,performance        large   \n",
       "2420               4.0                performance      midsize   \n",
       "\n",
       "             vehicle_style  highway_mpg  city_mpg  popularity  \n",
       "2735                 coupe           33        24        1385  \n",
       "6720         4dr_hatchback           32        25        2031  \n",
       "5878         4dr_hatchback           37        28         640  \n",
       "11190    passenger_minivan           18        16         873  \n",
       "4554       crew_cab_pickup           21        15        5657  \n",
       "...                    ...          ...       ...         ...  \n",
       "434            convertible           31        20        3916  \n",
       "1902         2dr_hatchback           30        24         873  \n",
       "9334   extended_cab_pickup           22        17         549  \n",
       "5284                 sedan           21        13          86  \n",
       "2420                 sedan           31        22         873  \n",
       "\n",
       "[7150 rows x 15 columns]"
      ]
     },
     "execution_count": 222,
     "metadata": {},
     "output_type": "execute_result"
    }
   ],
   "source": [
    "df"
   ]
  },
  {
   "cell_type": "code",
   "execution_count": 223,
   "id": "3ff22900-b624-4455-989d-38a4688ba180",
   "metadata": {},
   "outputs": [
    {
     "data": {
      "text/plain": [
       "np.float64(10.463131911491967)"
      ]
     },
     "execution_count": 223,
     "metadata": {},
     "output_type": "execute_result"
    }
   ],
   "source": [
    "y_test[20]"
   ]
  },
  {
   "cell_type": "code",
   "execution_count": 225,
   "id": "3f6218bc-553d-4697-8c80-fe792e8126e5",
   "metadata": {},
   "outputs": [
    {
     "data": {
      "text/plain": [
       "np.float64(35000.00000000001)"
      ]
     },
     "execution_count": 225,
     "metadata": {},
     "output_type": "execute_result"
    }
   ],
   "source": [
    "np.expm1(y_test[20])"
   ]
  },
  {
   "cell_type": "code",
   "execution_count": null,
   "id": "f511039c-5248-4849-b98a-8a60ac9aabfa",
   "metadata": {},
   "outputs": [],
   "source": []
  }
 ],
 "metadata": {
  "kernelspec": {
   "display_name": "Python 3 (ipykernel)",
   "language": "python",
   "name": "python3"
  },
  "language_info": {
   "codemirror_mode": {
    "name": "ipython",
    "version": 3
   },
   "file_extension": ".py",
   "mimetype": "text/x-python",
   "name": "python",
   "nbconvert_exporter": "python",
   "pygments_lexer": "ipython3",
   "version": "3.12.1"
  }
 },
 "nbformat": 4,
 "nbformat_minor": 5
}
